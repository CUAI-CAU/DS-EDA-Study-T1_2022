{
  "nbformat": 4,
  "nbformat_minor": 0,
  "metadata": {
    "colab": {
      "name": "EDA스터디_코로나데이터.ipynb",
      "provenance": [],
      "collapsed_sections": []
    },
    "kernelspec": {
      "name": "python3",
      "display_name": "Python 3"
    },
    "language_info": {
      "name": "python"
    }
  },
  "cells": [
    {
      "cell_type": "markdown",
      "source": [
        "출처: https://dacon.io/competitions/official/235590/codeshare/949?page=1&dtype=vote"
      ],
      "metadata": {
        "id": "1gBHPZRmD7vP"
      }
    },
    {
      "cell_type": "markdown",
      "source": [
        "1. Feature engineering\n",
        "\n",
        "먼저, 코로나19로 인한 사망 위험을 높이는데 기여한 확진자들의 행동 특성 이 무엇이었는지 분석해보겠습니다. 이때 '행동과 관련된 특성/요인'이란, 확진자들의 통제 하에 있는 특성/요인들로 확진자들의 선택에 따라 값이 달라지는 특성을 의미합니다. 확진자들이 어떤 행동을 보였느냐를 기반으로 비슷한 행동 패턴을 보인 확진자들을 파악하기 위해 Cluster 모델을 활용해 확진자들을 행동 유형에 따라 구분지었습니다. 모델에 활용한 행동 요인과 관련된 특성들은 모두 네 가지 입니다\n",
        "\n",
        "1) 감염 경로 유형\n",
        "2) 유동성\n",
        "3) 접촉 정도\n",
        "4) 확진받기까지 걸린 시간"
      ],
      "metadata": {
        "id": "7aa07rYoYGjp"
      }
    },
    {
      "cell_type": "code",
      "source": [
        "from google.colab import drive\n",
        "drive.mount('/content/drive')"
      ],
      "metadata": {
        "colab": {
          "base_uri": "https://localhost:8080/"
        },
        "id": "SetwsZr8Xuoh",
        "outputId": "7468a8ee-a57a-4361-e622-268beeaefa63"
      },
      "execution_count": 150,
      "outputs": [
        {
          "output_type": "stream",
          "name": "stdout",
          "text": [
            "Drive already mounted at /content/drive; to attempt to forcibly remount, call drive.mount(\"/content/drive\", force_remount=True).\n"
          ]
        }
      ]
    },
    {
      "cell_type": "code",
      "source": [
        "from IPython.display import HTML\n",
        "import pandas as pd\n",
        "import numpy as np\n",
        "import seaborn as sns\n",
        "import matplotlib.pyplot as plt\n",
        "import matplotlib.dates as mdates\n",
        "import matplotlib.animation as animation\n",
        "\n",
        "import plotly.express as px\n",
        "import plotly.io as pio\n",
        "pio.renderers.default = \"notebook_connected\"\n",
        "\n",
        "from sklearn.preprocessing import LabelEncoder, OneHotEncoder, StandardScaler \n",
        "from sklearn.cluster import KMeans\n",
        "from sklearn.decomposition import PCA\n",
        "\n",
        "pd.set_option('display.float_format', lambda x: '%.2f' % x)\n",
        "import warnings  \n",
        "warnings.filterwarnings('ignore')"
      ],
      "metadata": {
        "id": "POslR-zZYKnS"
      },
      "execution_count": 151,
      "outputs": []
    },
    {
      "cell_type": "code",
      "source": [
        "patient = pd.read_csv('/content/drive/MyDrive/colab_data/PatientInfo.csv')\n",
        "patient.head(3)"
      ],
      "metadata": {
        "colab": {
          "base_uri": "https://localhost:8080/",
          "height": 260
        },
        "id": "JyaCNJMuYPob",
        "outputId": "14ff7b54-f9a3-4f75-b5e1-7d3679f3eb68"
      },
      "execution_count": 152,
      "outputs": [
        {
          "output_type": "execute_result",
          "data": {
            "text/plain": [
              "   patient_id  global_num   sex  birth_year  age country province  \\\n",
              "0  1000000001        2.00  male     1964.00  50s   Korea    Seoul   \n",
              "1  1000000002        5.00  male     1987.00  30s   Korea    Seoul   \n",
              "2  1000000003        6.00  male     1964.00  50s   Korea    Seoul   \n",
              "\n",
              "          city disease        infection_case  infection_order   infected_by  \\\n",
              "0   Gangseo-gu     NaN       overseas inflow             1.00           NaN   \n",
              "1  Jungnang-gu     NaN       overseas inflow             1.00           NaN   \n",
              "2    Jongno-gu     NaN  contact with patient             2.00 2002000001.00   \n",
              "\n",
              "   contact_number symptom_onset_date confirmed_date released_date  \\\n",
              "0           75.00         2020-01-22     2020-01-23    2020-02-05   \n",
              "1           31.00                NaN     2020-01-30    2020-03-02   \n",
              "2           17.00                NaN     2020-01-30    2020-02-19   \n",
              "\n",
              "  deceased_date     state  \n",
              "0           NaN  released  \n",
              "1           NaN  released  \n",
              "2           NaN  released  "
            ],
            "text/html": [
              "\n",
              "  <div id=\"df-58ef434a-4a4a-42be-8f26-e7228c56d795\">\n",
              "    <div class=\"colab-df-container\">\n",
              "      <div>\n",
              "<style scoped>\n",
              "    .dataframe tbody tr th:only-of-type {\n",
              "        vertical-align: middle;\n",
              "    }\n",
              "\n",
              "    .dataframe tbody tr th {\n",
              "        vertical-align: top;\n",
              "    }\n",
              "\n",
              "    .dataframe thead th {\n",
              "        text-align: right;\n",
              "    }\n",
              "</style>\n",
              "<table border=\"1\" class=\"dataframe\">\n",
              "  <thead>\n",
              "    <tr style=\"text-align: right;\">\n",
              "      <th></th>\n",
              "      <th>patient_id</th>\n",
              "      <th>global_num</th>\n",
              "      <th>sex</th>\n",
              "      <th>birth_year</th>\n",
              "      <th>age</th>\n",
              "      <th>country</th>\n",
              "      <th>province</th>\n",
              "      <th>city</th>\n",
              "      <th>disease</th>\n",
              "      <th>infection_case</th>\n",
              "      <th>infection_order</th>\n",
              "      <th>infected_by</th>\n",
              "      <th>contact_number</th>\n",
              "      <th>symptom_onset_date</th>\n",
              "      <th>confirmed_date</th>\n",
              "      <th>released_date</th>\n",
              "      <th>deceased_date</th>\n",
              "      <th>state</th>\n",
              "    </tr>\n",
              "  </thead>\n",
              "  <tbody>\n",
              "    <tr>\n",
              "      <th>0</th>\n",
              "      <td>1000000001</td>\n",
              "      <td>2.00</td>\n",
              "      <td>male</td>\n",
              "      <td>1964.00</td>\n",
              "      <td>50s</td>\n",
              "      <td>Korea</td>\n",
              "      <td>Seoul</td>\n",
              "      <td>Gangseo-gu</td>\n",
              "      <td>NaN</td>\n",
              "      <td>overseas inflow</td>\n",
              "      <td>1.00</td>\n",
              "      <td>NaN</td>\n",
              "      <td>75.00</td>\n",
              "      <td>2020-01-22</td>\n",
              "      <td>2020-01-23</td>\n",
              "      <td>2020-02-05</td>\n",
              "      <td>NaN</td>\n",
              "      <td>released</td>\n",
              "    </tr>\n",
              "    <tr>\n",
              "      <th>1</th>\n",
              "      <td>1000000002</td>\n",
              "      <td>5.00</td>\n",
              "      <td>male</td>\n",
              "      <td>1987.00</td>\n",
              "      <td>30s</td>\n",
              "      <td>Korea</td>\n",
              "      <td>Seoul</td>\n",
              "      <td>Jungnang-gu</td>\n",
              "      <td>NaN</td>\n",
              "      <td>overseas inflow</td>\n",
              "      <td>1.00</td>\n",
              "      <td>NaN</td>\n",
              "      <td>31.00</td>\n",
              "      <td>NaN</td>\n",
              "      <td>2020-01-30</td>\n",
              "      <td>2020-03-02</td>\n",
              "      <td>NaN</td>\n",
              "      <td>released</td>\n",
              "    </tr>\n",
              "    <tr>\n",
              "      <th>2</th>\n",
              "      <td>1000000003</td>\n",
              "      <td>6.00</td>\n",
              "      <td>male</td>\n",
              "      <td>1964.00</td>\n",
              "      <td>50s</td>\n",
              "      <td>Korea</td>\n",
              "      <td>Seoul</td>\n",
              "      <td>Jongno-gu</td>\n",
              "      <td>NaN</td>\n",
              "      <td>contact with patient</td>\n",
              "      <td>2.00</td>\n",
              "      <td>2002000001.00</td>\n",
              "      <td>17.00</td>\n",
              "      <td>NaN</td>\n",
              "      <td>2020-01-30</td>\n",
              "      <td>2020-02-19</td>\n",
              "      <td>NaN</td>\n",
              "      <td>released</td>\n",
              "    </tr>\n",
              "  </tbody>\n",
              "</table>\n",
              "</div>\n",
              "      <button class=\"colab-df-convert\" onclick=\"convertToInteractive('df-58ef434a-4a4a-42be-8f26-e7228c56d795')\"\n",
              "              title=\"Convert this dataframe to an interactive table.\"\n",
              "              style=\"display:none;\">\n",
              "        \n",
              "  <svg xmlns=\"http://www.w3.org/2000/svg\" height=\"24px\"viewBox=\"0 0 24 24\"\n",
              "       width=\"24px\">\n",
              "    <path d=\"M0 0h24v24H0V0z\" fill=\"none\"/>\n",
              "    <path d=\"M18.56 5.44l.94 2.06.94-2.06 2.06-.94-2.06-.94-.94-2.06-.94 2.06-2.06.94zm-11 1L8.5 8.5l.94-2.06 2.06-.94-2.06-.94L8.5 2.5l-.94 2.06-2.06.94zm10 10l.94 2.06.94-2.06 2.06-.94-2.06-.94-.94-2.06-.94 2.06-2.06.94z\"/><path d=\"M17.41 7.96l-1.37-1.37c-.4-.4-.92-.59-1.43-.59-.52 0-1.04.2-1.43.59L10.3 9.45l-7.72 7.72c-.78.78-.78 2.05 0 2.83L4 21.41c.39.39.9.59 1.41.59.51 0 1.02-.2 1.41-.59l7.78-7.78 2.81-2.81c.8-.78.8-2.07 0-2.86zM5.41 20L4 18.59l7.72-7.72 1.47 1.35L5.41 20z\"/>\n",
              "  </svg>\n",
              "      </button>\n",
              "      \n",
              "  <style>\n",
              "    .colab-df-container {\n",
              "      display:flex;\n",
              "      flex-wrap:wrap;\n",
              "      gap: 12px;\n",
              "    }\n",
              "\n",
              "    .colab-df-convert {\n",
              "      background-color: #E8F0FE;\n",
              "      border: none;\n",
              "      border-radius: 50%;\n",
              "      cursor: pointer;\n",
              "      display: none;\n",
              "      fill: #1967D2;\n",
              "      height: 32px;\n",
              "      padding: 0 0 0 0;\n",
              "      width: 32px;\n",
              "    }\n",
              "\n",
              "    .colab-df-convert:hover {\n",
              "      background-color: #E2EBFA;\n",
              "      box-shadow: 0px 1px 2px rgba(60, 64, 67, 0.3), 0px 1px 3px 1px rgba(60, 64, 67, 0.15);\n",
              "      fill: #174EA6;\n",
              "    }\n",
              "\n",
              "    [theme=dark] .colab-df-convert {\n",
              "      background-color: #3B4455;\n",
              "      fill: #D2E3FC;\n",
              "    }\n",
              "\n",
              "    [theme=dark] .colab-df-convert:hover {\n",
              "      background-color: #434B5C;\n",
              "      box-shadow: 0px 1px 3px 1px rgba(0, 0, 0, 0.15);\n",
              "      filter: drop-shadow(0px 1px 2px rgba(0, 0, 0, 0.3));\n",
              "      fill: #FFFFFF;\n",
              "    }\n",
              "  </style>\n",
              "\n",
              "      <script>\n",
              "        const buttonEl =\n",
              "          document.querySelector('#df-58ef434a-4a4a-42be-8f26-e7228c56d795 button.colab-df-convert');\n",
              "        buttonEl.style.display =\n",
              "          google.colab.kernel.accessAllowed ? 'block' : 'none';\n",
              "\n",
              "        async function convertToInteractive(key) {\n",
              "          const element = document.querySelector('#df-58ef434a-4a4a-42be-8f26-e7228c56d795');\n",
              "          const dataTable =\n",
              "            await google.colab.kernel.invokeFunction('convertToInteractive',\n",
              "                                                     [key], {});\n",
              "          if (!dataTable) return;\n",
              "\n",
              "          const docLinkHtml = 'Like what you see? Visit the ' +\n",
              "            '<a target=\"_blank\" href=https://colab.research.google.com/notebooks/data_table.ipynb>data table notebook</a>'\n",
              "            + ' to learn more about interactive tables.';\n",
              "          element.innerHTML = '';\n",
              "          dataTable['output_type'] = 'display_data';\n",
              "          await google.colab.output.renderOutput(dataTable, element);\n",
              "          const docLink = document.createElement('div');\n",
              "          docLink.innerHTML = docLinkHtml;\n",
              "          element.appendChild(docLink);\n",
              "        }\n",
              "      </script>\n",
              "    </div>\n",
              "  </div>\n",
              "  "
            ]
          },
          "metadata": {},
          "execution_count": 152
        }
      ]
    },
    {
      "cell_type": "code",
      "source": [
        "print(patient.shape, len(patient.patient_id.unique()))  "
      ],
      "metadata": {
        "colab": {
          "base_uri": "https://localhost:8080/"
        },
        "id": "5B66w5egYPmX",
        "outputId": "de864985-239a-4787-978b-e29a47835296"
      },
      "execution_count": 153,
      "outputs": [
        {
          "output_type": "stream",
          "name": "stdout",
          "text": [
            "(3388, 18) 3388\n"
          ]
        }
      ]
    },
    {
      "cell_type": "markdown",
      "source": [
        "PatientInfo 데이터 내에 총 3388명의 확진자가 있습니다. rows와 patient_id의 독립적인 개수가 같은 것으로 보아 중복 id는 없는 것으로 보입니다. 그럼 모델링에 활용할 변수들을 준비하는 과정을 시작하겠습니다."
      ],
      "metadata": {
        "id": "soKrEUW2YobE"
      }
    },
    {
      "cell_type": "markdown",
      "source": [
        "1.1. 감염 경로 유형 (Infection route)\n",
        "\n",
        "감염 경로 유형의 특성은 코로나 바이러스에 어떤 경로로 감염되었는지를 보여주는 특성입니다. 감염 경로 유형은 집단 모임에 참석했거나 해외에서 입국하는 등 사람의 행동에 따라 값이 달라지므로 행동적인 특성으로 볼 수 있습니다. PatientInfo의 infection_case가 이 정보를 담고 있으나 아래 셀을 보시면, infection_case의 독립된 값이 모두 24개인 것을 볼 수 있습니다."
      ],
      "metadata": {
        "id": "TNFJZcsZYvrx"
      }
    },
    {
      "cell_type": "code",
      "source": [
        "data = patient.copy()"
      ],
      "metadata": {
        "id": "BqHMrDmMY22n"
      },
      "execution_count": 154,
      "outputs": []
    },
    {
      "cell_type": "code",
      "source": [
        "print('the number of unique values in infection_case:',len(data['infection_case'].unique())) \n",
        "data['infection_case'].unique()"
      ],
      "metadata": {
        "colab": {
          "base_uri": "https://localhost:8080/"
        },
        "id": "ZlK7ztRzYPjr",
        "outputId": "12d57097-810a-42d5-a285-d1937afc9951"
      },
      "execution_count": 155,
      "outputs": [
        {
          "output_type": "stream",
          "name": "stdout",
          "text": [
            "the number of unique values in infection_case: 24\n"
          ]
        },
        {
          "output_type": "execute_result",
          "data": {
            "text/plain": [
              "array(['overseas inflow', 'contact with patient', 'Seongdong-gu APT',\n",
              "       'etc', \"Eunpyeong St. Mary's Hospital\", 'Shincheonji Church',\n",
              "       'Dongan Church', 'Guro-gu Call Center', 'Onchun Church',\n",
              "       'Cheongdo Daenam Hospital', 'Suyeong-gu Kindergarten', nan,\n",
              "       'Ministry of Oceans and Fisheries', 'gym facility in Cheonan',\n",
              "       'gym facility in Sejong', 'River of Grace Community Church',\n",
              "       'Gyeongsan Seorin Nursing Home',\n",
              "       'Gyeongsan Cham Joeun Community Center',\n",
              "       'Gyeongsan Jeil Silver Town', 'Bonghwa Pureun Nursing Home',\n",
              "       'Pilgrimage to Israel', 'Milal Shelter', 'Geochang Church',\n",
              "       'Changnyeong Coin Karaoke'], dtype=object)"
            ]
          },
          "metadata": {},
          "execution_count": 155
        }
      ]
    },
    {
      "cell_type": "markdown",
      "source": [
        "일반적으로 모델링에서 24개의 값을 가진 변수를 그대로 활용한다면 의미있는 결과를 내기는 어려울 것입니다. 물론 24개의 값이 모두 특별한 의미를 가지고 있다면 상황은 달라집니다. 하지만 infection_case 의 24개의 값들이 실제로 얼마나 존재하는지 높은 순으로 정렬한 다음의 차트를 보면, 첫 세개의 값(환자와의 직접 접촉-'contact with patient', 해외유입-'overseas inflow', 알수없음-'etc')을 제외한 나머지 각각은 큰 비중을 차지하지 않는 것을 볼 수 있습니다."
      ],
      "metadata": {
        "id": "p9R9WzYBY8Ww"
      }
    },
    {
      "cell_type": "code",
      "source": [
        "g = data.groupby(['infection_case'])['patient_id'].count()\n",
        "g = g.reset_index()\n",
        "g.rename(columns = {'patient_id': 'count'}, inplace = True)\n",
        "\n",
        "g = g.sort_values('count', ascending = False)\n",
        "\n",
        "plt.figure(figsize = (12,6))\n",
        "plt.title('number of patients in infection_case values')\n",
        "sns.barplot(y = 'infection_case', x= 'count', data = g)\n",
        "display()"
      ],
      "metadata": {
        "colab": {
          "base_uri": "https://localhost:8080/",
          "height": 368
        },
        "id": "Du4Dp3WdYPhn",
        "outputId": "9335529c-6dac-42a3-b23f-02da09fd7a84"
      },
      "execution_count": 156,
      "outputs": [
        {
          "output_type": "display_data",
          "data": {
            "text/plain": [
              "<Figure size 864x432 with 1 Axes>"
            ],
            "image/png": "[encoded data removed]"
          },
          "metadata": {
            "needs_background": "light"
          }
        }
      ]
    },
    {
      "cell_type": "markdown",
      "source": [
        "'어디'에서 감염되었느냐를 보는 것이 분석의 목적이었다면, 모든 값의 사용을 고려하는 것이 맞을 것입니다. 하지만 이번 분석의 목적은 감염의 '어떤' 경로가 사망에 이르는 위험성을 가지고 있었느냐를 밝히는 것입니다. 그렇다면 '어디'라는 구체적 장소를 그대로 사용하는 것보다 이 변수를 활용해 '어떤' 방식으로 감염되게 되었는지를 만들어내 모델에 활용하는 것이 필요합니다. 첫 번째 세개의 값, '감염자와의 직접 접촉(contact with patient)', '해외유입(overseas inflow)', '알수없음(etc)'은 그 자체의 의미를 살려두고, 나머지는 집단 감염에 따른 세부적 사례를 나타내는 것으로 한데 묶어 '집단 감염(group)'의 값을 부여합니다.\n",
        "\n",
        "하지만 이때 '집단 감염'을 정의하는데에는 주의를 필요로 합니다. 위의 차트를 보면 \"River of Grace Community Church\"는 교회에서 감염된 것으로 보아 '집단 감염'일 가능성이 있지만, 실제로 해당 값을 갖는 확진자는 단 한명에 불과합니다. 데이터 내에 한 명만이 존재하는 사례를 \"집단 감염\"이라고 보기는 어려울 것입니다. 마찬가지로 소수의 인원이 속한 값은 값 자체로는 집단으로 보일지 몰라도 실제로는 집단 감염이라고 보기 어렵습니다. 따라서 해당 값을 가진 확진자들의 수가 최소 5명 이상일 때에만 '집단 감염(group)' 값을 부여하고, 나머지는 활용하지 않습니다.\n",
        "\n",
        "먼저 5명 미만의 infection_case를 추출해 확인합니다."
      ],
      "metadata": {
        "id": "4wZRw5iVZWO7"
      }
    },
    {
      "cell_type": "code",
      "source": [
        "g = data.groupby(['infection_case'])['patient_id'].count()\n",
        "g = pd.DataFrame(g)\n",
        "\n",
        "infection_case_less_than_5 = g[g['patient_id'] < 5].index.tolist()\n",
        "g[g.index.isin(infection_case_less_than_5)] #isin 함수는 무슨 뜻이지?"
      ],
      "metadata": {
        "colab": {
          "base_uri": "https://localhost:8080/",
          "height": 238
        },
        "id": "hQzFgRJ9YPfY",
        "outputId": "8aabcc83-85da-4d6b-915e-7553b3bed409"
      },
      "execution_count": 157,
      "outputs": [
        {
          "output_type": "execute_result",
          "data": {
            "text/plain": [
              "                                 patient_id\n",
              "infection_case                             \n",
              "Changnyeong Coin Karaoke                  4\n",
              "Pilgrimage to Israel                      2\n",
              "River of Grace Community Church           1\n",
              "Suyeong-gu Kindergarten                   3\n",
              "gym facility in Sejong                    4"
            ],
            "text/html": [
              "\n",
              "  <div id=\"df-f4d4d2b1-7230-4c45-93d0-3093a54c022e\">\n",
              "    <div class=\"colab-df-container\">\n",
              "      <div>\n",
              "<style scoped>\n",
              "    .dataframe tbody tr th:only-of-type {\n",
              "        vertical-align: middle;\n",
              "    }\n",
              "\n",
              "    .dataframe tbody tr th {\n",
              "        vertical-align: top;\n",
              "    }\n",
              "\n",
              "    .dataframe thead th {\n",
              "        text-align: right;\n",
              "    }\n",
              "</style>\n",
              "<table border=\"1\" class=\"dataframe\">\n",
              "  <thead>\n",
              "    <tr style=\"text-align: right;\">\n",
              "      <th></th>\n",
              "      <th>patient_id</th>\n",
              "    </tr>\n",
              "    <tr>\n",
              "      <th>infection_case</th>\n",
              "      <th></th>\n",
              "    </tr>\n",
              "  </thead>\n",
              "  <tbody>\n",
              "    <tr>\n",
              "      <th>Changnyeong Coin Karaoke</th>\n",
              "      <td>4</td>\n",
              "    </tr>\n",
              "    <tr>\n",
              "      <th>Pilgrimage to Israel</th>\n",
              "      <td>2</td>\n",
              "    </tr>\n",
              "    <tr>\n",
              "      <th>River of Grace Community Church</th>\n",
              "      <td>1</td>\n",
              "    </tr>\n",
              "    <tr>\n",
              "      <th>Suyeong-gu Kindergarten</th>\n",
              "      <td>3</td>\n",
              "    </tr>\n",
              "    <tr>\n",
              "      <th>gym facility in Sejong</th>\n",
              "      <td>4</td>\n",
              "    </tr>\n",
              "  </tbody>\n",
              "</table>\n",
              "</div>\n",
              "      <button class=\"colab-df-convert\" onclick=\"convertToInteractive('df-f4d4d2b1-7230-4c45-93d0-3093a54c022e')\"\n",
              "              title=\"Convert this dataframe to an interactive table.\"\n",
              "              style=\"display:none;\">\n",
              "        \n",
              "  <svg xmlns=\"http://www.w3.org/2000/svg\" height=\"24px\"viewBox=\"0 0 24 24\"\n",
              "       width=\"24px\">\n",
              "    <path d=\"M0 0h24v24H0V0z\" fill=\"none\"/>\n",
              "    <path d=\"M18.56 5.44l.94 2.06.94-2.06 2.06-.94-2.06-.94-.94-2.06-.94 2.06-2.06.94zm-11 1L8.5 8.5l.94-2.06 2.06-.94-2.06-.94L8.5 2.5l-.94 2.06-2.06.94zm10 10l.94 2.06.94-2.06 2.06-.94-2.06-.94-.94-2.06-.94 2.06-2.06.94z\"/><path d=\"M17.41 7.96l-1.37-1.37c-.4-.4-.92-.59-1.43-.59-.52 0-1.04.2-1.43.59L10.3 9.45l-7.72 7.72c-.78.78-.78 2.05 0 2.83L4 21.41c.39.39.9.59 1.41.59.51 0 1.02-.2 1.41-.59l7.78-7.78 2.81-2.81c.8-.78.8-2.07 0-2.86zM5.41 20L4 18.59l7.72-7.72 1.47 1.35L5.41 20z\"/>\n",
              "  </svg>\n",
              "      </button>\n",
              "      \n",
              "  <style>\n",
              "    .colab-df-container {\n",
              "      display:flex;\n",
              "      flex-wrap:wrap;\n",
              "      gap: 12px;\n",
              "    }\n",
              "\n",
              "    .colab-df-convert {\n",
              "      background-color: #E8F0FE;\n",
              "      border: none;\n",
              "      border-radius: 50%;\n",
              "      cursor: pointer;\n",
              "      display: none;\n",
              "      fill: #1967D2;\n",
              "      height: 32px;\n",
              "      padding: 0 0 0 0;\n",
              "      width: 32px;\n",
              "    }\n",
              "\n",
              "    .colab-df-convert:hover {\n",
              "      background-color: #E2EBFA;\n",
              "      box-shadow: 0px 1px 2px rgba(60, 64, 67, 0.3), 0px 1px 3px 1px rgba(60, 64, 67, 0.15);\n",
              "      fill: #174EA6;\n",
              "    }\n",
              "\n",
              "    [theme=dark] .colab-df-convert {\n",
              "      background-color: #3B4455;\n",
              "      fill: #D2E3FC;\n",
              "    }\n",
              "\n",
              "    [theme=dark] .colab-df-convert:hover {\n",
              "      background-color: #434B5C;\n",
              "      box-shadow: 0px 1px 3px 1px rgba(0, 0, 0, 0.15);\n",
              "      filter: drop-shadow(0px 1px 2px rgba(0, 0, 0, 0.3));\n",
              "      fill: #FFFFFF;\n",
              "    }\n",
              "  </style>\n",
              "\n",
              "      <script>\n",
              "        const buttonEl =\n",
              "          document.querySelector('#df-f4d4d2b1-7230-4c45-93d0-3093a54c022e button.colab-df-convert');\n",
              "        buttonEl.style.display =\n",
              "          google.colab.kernel.accessAllowed ? 'block' : 'none';\n",
              "\n",
              "        async function convertToInteractive(key) {\n",
              "          const element = document.querySelector('#df-f4d4d2b1-7230-4c45-93d0-3093a54c022e');\n",
              "          const dataTable =\n",
              "            await google.colab.kernel.invokeFunction('convertToInteractive',\n",
              "                                                     [key], {});\n",
              "          if (!dataTable) return;\n",
              "\n",
              "          const docLinkHtml = 'Like what you see? Visit the ' +\n",
              "            '<a target=\"_blank\" href=https://colab.research.google.com/notebooks/data_table.ipynb>data table notebook</a>'\n",
              "            + ' to learn more about interactive tables.';\n",
              "          element.innerHTML = '';\n",
              "          dataTable['output_type'] = 'display_data';\n",
              "          await google.colab.output.renderOutput(dataTable, element);\n",
              "          const docLink = document.createElement('div');\n",
              "          docLink.innerHTML = docLinkHtml;\n",
              "          element.appendChild(docLink);\n",
              "        }\n",
              "      </script>\n",
              "    </div>\n",
              "  </div>\n",
              "  "
            ]
          },
          "metadata": {},
          "execution_count": 157
        }
      ]
    },
    {
      "cell_type": "markdown",
      "source": [
        "위의 리스트에 속하는 확진자들을 걸러냅니다. 총 14명의 확진자가 제거됩니다."
      ],
      "metadata": {
        "id": "b_7WGlKLZ2h4"
      }
    },
    {
      "cell_type": "code",
      "source": [
        "print('original data shape:', data.shape)\n",
        "data = data[~(data['infection_case'].isin(infection_case_less_than_5))] #~는 무슨뜻? 제거한다는 뜻인가?\n",
        "print('data shape after slicing: ', data.shape)"
      ],
      "metadata": {
        "colab": {
          "base_uri": "https://localhost:8080/"
        },
        "id": "OvHVsRbUYPdO",
        "outputId": "3698a6e5-7bfb-41fa-8d6a-5b92bba3a6f8"
      },
      "execution_count": 158,
      "outputs": [
        {
          "output_type": "stream",
          "name": "stdout",
          "text": [
            "original data shape: (3388, 18)\n",
            "data shape after slicing:  (3374, 18)\n"
          ]
        }
      ]
    },
    {
      "cell_type": "markdown",
      "source": [
        "다음으로 위의 infection_case의 독립적 값에 존재하던 nan를 어떻게 처리할지를 결정합니다. 가장 간단한 방법은 nan값을 가진 확진자는 모두 제거하는 것일 겁니다. 하지만 아래 infection_csae의 nan의 수는 768개(약 23%)로 꽤 많은 비중을 차지하는 것을 볼 수 있습니다."
      ],
      "metadata": {
        "id": "7U94trTaaPnA"
      }
    },
    {
      "cell_type": "code",
      "source": [
        "data[data['infection_case'].isna()].shape"
      ],
      "metadata": {
        "colab": {
          "base_uri": "https://localhost:8080/"
        },
        "id": "8gYfhoUuYPax",
        "outputId": "50f5df1e-ace0-4691-81e3-875a190527eb"
      },
      "execution_count": 159,
      "outputs": [
        {
          "output_type": "execute_result",
          "data": {
            "text/plain": [
              "(768, 18)"
            ]
          },
          "metadata": {},
          "execution_count": 159
        }
      ]
    },
    {
      "cell_type": "markdown",
      "source": [
        "무엇보다 infection_case가 nan이라는 것은 그야말로 해당 확진자의 감염 경로를 \"알 수 없다\"는 의미이고, 해당 값은 infection_case의 값 중 하나인 etc가 의미하는 바와 같습니다. 따라서 nan은 etc와 같은 카테고리 - \"알 수 없음(unknown)\"으로 정의합니다."
      ],
      "metadata": {
        "id": "hrZJGF_CaY6H"
      }
    },
    {
      "cell_type": "code",
      "source": [
        "def categorisation(x):\n",
        "    \n",
        "    '''\n",
        "    categorises infection types\n",
        "    '''\n",
        "    \n",
        "    if x == 'overseas inflow':\n",
        "        y = 'overseas'\n",
        "    elif x == 'contact with patient': \n",
        "        y = 'individual'\n",
        "    elif (x == 'etc') | (pd.isna(x)):\n",
        "        y = 'unknown'\n",
        "    else: \n",
        "        y = 'group' \n",
        "    \n",
        "    return y \n",
        "\n",
        "data['infection'] = data['infection_case'].apply(lambda x: categorisation(x))# apply랑 람다함수 응용 신기방기\n",
        "print(data.shape)\n",
        "data.head()"
      ],
      "metadata": {
        "colab": {
          "base_uri": "https://localhost:8080/",
          "height": 358
        },
        "id": "dT622I94YPWJ",
        "outputId": "e7a11ba9-f48f-4837-8fbf-ef1b5db3ae5c"
      },
      "execution_count": 160,
      "outputs": [
        {
          "output_type": "stream",
          "name": "stdout",
          "text": [
            "(3374, 19)\n"
          ]
        },
        {
          "output_type": "execute_result",
          "data": {
            "text/plain": [
              "   patient_id  global_num     sex  birth_year  age country province  \\\n",
              "0  1000000001        2.00    male     1964.00  50s   Korea    Seoul   \n",
              "1  1000000002        5.00    male     1987.00  30s   Korea    Seoul   \n",
              "2  1000000003        6.00    male     1964.00  50s   Korea    Seoul   \n",
              "3  1000000004        7.00    male     1991.00  20s   Korea    Seoul   \n",
              "4  1000000005        9.00  female     1992.00  20s   Korea    Seoul   \n",
              "\n",
              "          city disease        infection_case  infection_order   infected_by  \\\n",
              "0   Gangseo-gu     NaN       overseas inflow             1.00           NaN   \n",
              "1  Jungnang-gu     NaN       overseas inflow             1.00           NaN   \n",
              "2    Jongno-gu     NaN  contact with patient             2.00 2002000001.00   \n",
              "3      Mapo-gu     NaN       overseas inflow             1.00           NaN   \n",
              "4  Seongbuk-gu     NaN  contact with patient             2.00 1000000002.00   \n",
              "\n",
              "   contact_number symptom_onset_date confirmed_date released_date  \\\n",
              "0           75.00         2020-01-22     2020-01-23    2020-02-05   \n",
              "1           31.00                NaN     2020-01-30    2020-03-02   \n",
              "2           17.00                NaN     2020-01-30    2020-02-19   \n",
              "3            9.00         2020-01-26     2020-01-30    2020-02-15   \n",
              "4            2.00                NaN     2020-01-31    2020-02-24   \n",
              "\n",
              "  deceased_date     state   infection  \n",
              "0           NaN  released    overseas  \n",
              "1           NaN  released    overseas  \n",
              "2           NaN  released  individual  \n",
              "3           NaN  released    overseas  \n",
              "4           NaN  released  individual  "
            ],
            "text/html": [
              "\n",
              "  <div id=\"df-5ad0122f-f94c-4c29-831e-fb2b1bd9b61a\">\n",
              "    <div class=\"colab-df-container\">\n",
              "      <div>\n",
              "<style scoped>\n",
              "    .dataframe tbody tr th:only-of-type {\n",
              "        vertical-align: middle;\n",
              "    }\n",
              "\n",
              "    .dataframe tbody tr th {\n",
              "        vertical-align: top;\n",
              "    }\n",
              "\n",
              "    .dataframe thead th {\n",
              "        text-align: right;\n",
              "    }\n",
              "</style>\n",
              "<table border=\"1\" class=\"dataframe\">\n",
              "  <thead>\n",
              "    <tr style=\"text-align: right;\">\n",
              "      <th></th>\n",
              "      <th>patient_id</th>\n",
              "      <th>global_num</th>\n",
              "      <th>sex</th>\n",
              "      <th>birth_year</th>\n",
              "      <th>age</th>\n",
              "      <th>country</th>\n",
              "      <th>province</th>\n",
              "      <th>city</th>\n",
              "      <th>disease</th>\n",
              "      <th>infection_case</th>\n",
              "      <th>infection_order</th>\n",
              "      <th>infected_by</th>\n",
              "      <th>contact_number</th>\n",
              "      <th>symptom_onset_date</th>\n",
              "      <th>confirmed_date</th>\n",
              "      <th>released_date</th>\n",
              "      <th>deceased_date</th>\n",
              "      <th>state</th>\n",
              "      <th>infection</th>\n",
              "    </tr>\n",
              "  </thead>\n",
              "  <tbody>\n",
              "    <tr>\n",
              "      <th>0</th>\n",
              "      <td>1000000001</td>\n",
              "      <td>2.00</td>\n",
              "      <td>male</td>\n",
              "      <td>1964.00</td>\n",
              "      <td>50s</td>\n",
              "      <td>Korea</td>\n",
              "      <td>Seoul</td>\n",
              "      <td>Gangseo-gu</td>\n",
              "      <td>NaN</td>\n",
              "      <td>overseas inflow</td>\n",
              "      <td>1.00</td>\n",
              "      <td>NaN</td>\n",
              "      <td>75.00</td>\n",
              "      <td>2020-01-22</td>\n",
              "      <td>2020-01-23</td>\n",
              "      <td>2020-02-05</td>\n",
              "      <td>NaN</td>\n",
              "      <td>released</td>\n",
              "      <td>overseas</td>\n",
              "    </tr>\n",
              "    <tr>\n",
              "      <th>1</th>\n",
              "      <td>1000000002</td>\n",
              "      <td>5.00</td>\n",
              "      <td>male</td>\n",
              "      <td>1987.00</td>\n",
              "      <td>30s</td>\n",
              "      <td>Korea</td>\n",
              "      <td>Seoul</td>\n",
              "      <td>Jungnang-gu</td>\n",
              "      <td>NaN</td>\n",
              "      <td>overseas inflow</td>\n",
              "      <td>1.00</td>\n",
              "      <td>NaN</td>\n",
              "      <td>31.00</td>\n",
              "      <td>NaN</td>\n",
              "      <td>2020-01-30</td>\n",
              "      <td>2020-03-02</td>\n",
              "      <td>NaN</td>\n",
              "      <td>released</td>\n",
              "      <td>overseas</td>\n",
              "    </tr>\n",
              "    <tr>\n",
              "      <th>2</th>\n",
              "      <td>1000000003</td>\n",
              "      <td>6.00</td>\n",
              "      <td>male</td>\n",
              "      <td>1964.00</td>\n",
              "      <td>50s</td>\n",
              "      <td>Korea</td>\n",
              "      <td>Seoul</td>\n",
              "      <td>Jongno-gu</td>\n",
              "      <td>NaN</td>\n",
              "      <td>contact with patient</td>\n",
              "      <td>2.00</td>\n",
              "      <td>2002000001.00</td>\n",
              "      <td>17.00</td>\n",
              "      <td>NaN</td>\n",
              "      <td>2020-01-30</td>\n",
              "      <td>2020-02-19</td>\n",
              "      <td>NaN</td>\n",
              "      <td>released</td>\n",
              "      <td>individual</td>\n",
              "    </tr>\n",
              "    <tr>\n",
              "      <th>3</th>\n",
              "      <td>1000000004</td>\n",
              "      <td>7.00</td>\n",
              "      <td>male</td>\n",
              "      <td>1991.00</td>\n",
              "      <td>20s</td>\n",
              "      <td>Korea</td>\n",
              "      <td>Seoul</td>\n",
              "      <td>Mapo-gu</td>\n",
              "      <td>NaN</td>\n",
              "      <td>overseas inflow</td>\n",
              "      <td>1.00</td>\n",
              "      <td>NaN</td>\n",
              "      <td>9.00</td>\n",
              "      <td>2020-01-26</td>\n",
              "      <td>2020-01-30</td>\n",
              "      <td>2020-02-15</td>\n",
              "      <td>NaN</td>\n",
              "      <td>released</td>\n",
              "      <td>overseas</td>\n",
              "    </tr>\n",
              "    <tr>\n",
              "      <th>4</th>\n",
              "      <td>1000000005</td>\n",
              "      <td>9.00</td>\n",
              "      <td>female</td>\n",
              "      <td>1992.00</td>\n",
              "      <td>20s</td>\n",
              "      <td>Korea</td>\n",
              "      <td>Seoul</td>\n",
              "      <td>Seongbuk-gu</td>\n",
              "      <td>NaN</td>\n",
              "      <td>contact with patient</td>\n",
              "      <td>2.00</td>\n",
              "      <td>1000000002.00</td>\n",
              "      <td>2.00</td>\n",
              "      <td>NaN</td>\n",
              "      <td>2020-01-31</td>\n",
              "      <td>2020-02-24</td>\n",
              "      <td>NaN</td>\n",
              "      <td>released</td>\n",
              "      <td>individual</td>\n",
              "    </tr>\n",
              "  </tbody>\n",
              "</table>\n",
              "</div>\n",
              "      <button class=\"colab-df-convert\" onclick=\"convertToInteractive('df-5ad0122f-f94c-4c29-831e-fb2b1bd9b61a')\"\n",
              "              title=\"Convert this dataframe to an interactive table.\"\n",
              "              style=\"display:none;\">\n",
              "        \n",
              "  <svg xmlns=\"http://www.w3.org/2000/svg\" height=\"24px\"viewBox=\"0 0 24 24\"\n",
              "       width=\"24px\">\n",
              "    <path d=\"M0 0h24v24H0V0z\" fill=\"none\"/>\n",
              "    <path d=\"M18.56 5.44l.94 2.06.94-2.06 2.06-.94-2.06-.94-.94-2.06-.94 2.06-2.06.94zm-11 1L8.5 8.5l.94-2.06 2.06-.94-2.06-.94L8.5 2.5l-.94 2.06-2.06.94zm10 10l.94 2.06.94-2.06 2.06-.94-2.06-.94-.94-2.06-.94 2.06-2.06.94z\"/><path d=\"M17.41 7.96l-1.37-1.37c-.4-.4-.92-.59-1.43-.59-.52 0-1.04.2-1.43.59L10.3 9.45l-7.72 7.72c-.78.78-.78 2.05 0 2.83L4 21.41c.39.39.9.59 1.41.59.51 0 1.02-.2 1.41-.59l7.78-7.78 2.81-2.81c.8-.78.8-2.07 0-2.86zM5.41 20L4 18.59l7.72-7.72 1.47 1.35L5.41 20z\"/>\n",
              "  </svg>\n",
              "      </button>\n",
              "      \n",
              "  <style>\n",
              "    .colab-df-container {\n",
              "      display:flex;\n",
              "      flex-wrap:wrap;\n",
              "      gap: 12px;\n",
              "    }\n",
              "\n",
              "    .colab-df-convert {\n",
              "      background-color: #E8F0FE;\n",
              "      border: none;\n",
              "      border-radius: 50%;\n",
              "      cursor: pointer;\n",
              "      display: none;\n",
              "      fill: #1967D2;\n",
              "      height: 32px;\n",
              "      padding: 0 0 0 0;\n",
              "      width: 32px;\n",
              "    }\n",
              "\n",
              "    .colab-df-convert:hover {\n",
              "      background-color: #E2EBFA;\n",
              "      box-shadow: 0px 1px 2px rgba(60, 64, 67, 0.3), 0px 1px 3px 1px rgba(60, 64, 67, 0.15);\n",
              "      fill: #174EA6;\n",
              "    }\n",
              "\n",
              "    [theme=dark] .colab-df-convert {\n",
              "      background-color: #3B4455;\n",
              "      fill: #D2E3FC;\n",
              "    }\n",
              "\n",
              "    [theme=dark] .colab-df-convert:hover {\n",
              "      background-color: #434B5C;\n",
              "      box-shadow: 0px 1px 3px 1px rgba(0, 0, 0, 0.15);\n",
              "      filter: drop-shadow(0px 1px 2px rgba(0, 0, 0, 0.3));\n",
              "      fill: #FFFFFF;\n",
              "    }\n",
              "  </style>\n",
              "\n",
              "      <script>\n",
              "        const buttonEl =\n",
              "          document.querySelector('#df-5ad0122f-f94c-4c29-831e-fb2b1bd9b61a button.colab-df-convert');\n",
              "        buttonEl.style.display =\n",
              "          google.colab.kernel.accessAllowed ? 'block' : 'none';\n",
              "\n",
              "        async function convertToInteractive(key) {\n",
              "          const element = document.querySelector('#df-5ad0122f-f94c-4c29-831e-fb2b1bd9b61a');\n",
              "          const dataTable =\n",
              "            await google.colab.kernel.invokeFunction('convertToInteractive',\n",
              "                                                     [key], {});\n",
              "          if (!dataTable) return;\n",
              "\n",
              "          const docLinkHtml = 'Like what you see? Visit the ' +\n",
              "            '<a target=\"_blank\" href=https://colab.research.google.com/notebooks/data_table.ipynb>data table notebook</a>'\n",
              "            + ' to learn more about interactive tables.';\n",
              "          element.innerHTML = '';\n",
              "          dataTable['output_type'] = 'display_data';\n",
              "          await google.colab.output.renderOutput(dataTable, element);\n",
              "          const docLink = document.createElement('div');\n",
              "          docLink.innerHTML = docLinkHtml;\n",
              "          element.appendChild(docLink);\n",
              "        }\n",
              "      </script>\n",
              "    </div>\n",
              "  </div>\n",
              "  "
            ]
          },
          "metadata": {},
          "execution_count": 160
        }
      ]
    },
    {
      "cell_type": "code",
      "source": [
        "g = data.groupby(['infection'])['patient_id'].count()\n",
        "g = g.reset_index()\n",
        "g.rename(columns = {'patient_id': 'count'}, inplace = True)\n",
        "g"
      ],
      "metadata": {
        "colab": {
          "base_uri": "https://localhost:8080/",
          "height": 175
        },
        "id": "KxxxkK5BYPUN",
        "outputId": "14ac1f39-d851-4f33-d49b-c5e520367965"
      },
      "execution_count": 161,
      "outputs": [
        {
          "output_type": "execute_result",
          "data": {
            "text/plain": [
              "    infection  count\n",
              "0       group    462\n",
              "1  individual    968\n",
              "2    overseas    604\n",
              "3     unknown   1340"
            ],
            "text/html": [
              "\n",
              "  <div id=\"df-8b87ce50-a17f-410e-b2c0-e80a333bb997\">\n",
              "    <div class=\"colab-df-container\">\n",
              "      <div>\n",
              "<style scoped>\n",
              "    .dataframe tbody tr th:only-of-type {\n",
              "        vertical-align: middle;\n",
              "    }\n",
              "\n",
              "    .dataframe tbody tr th {\n",
              "        vertical-align: top;\n",
              "    }\n",
              "\n",
              "    .dataframe thead th {\n",
              "        text-align: right;\n",
              "    }\n",
              "</style>\n",
              "<table border=\"1\" class=\"dataframe\">\n",
              "  <thead>\n",
              "    <tr style=\"text-align: right;\">\n",
              "      <th></th>\n",
              "      <th>infection</th>\n",
              "      <th>count</th>\n",
              "    </tr>\n",
              "  </thead>\n",
              "  <tbody>\n",
              "    <tr>\n",
              "      <th>0</th>\n",
              "      <td>group</td>\n",
              "      <td>462</td>\n",
              "    </tr>\n",
              "    <tr>\n",
              "      <th>1</th>\n",
              "      <td>individual</td>\n",
              "      <td>968</td>\n",
              "    </tr>\n",
              "    <tr>\n",
              "      <th>2</th>\n",
              "      <td>overseas</td>\n",
              "      <td>604</td>\n",
              "    </tr>\n",
              "    <tr>\n",
              "      <th>3</th>\n",
              "      <td>unknown</td>\n",
              "      <td>1340</td>\n",
              "    </tr>\n",
              "  </tbody>\n",
              "</table>\n",
              "</div>\n",
              "      <button class=\"colab-df-convert\" onclick=\"convertToInteractive('df-8b87ce50-a17f-410e-b2c0-e80a333bb997')\"\n",
              "              title=\"Convert this dataframe to an interactive table.\"\n",
              "              style=\"display:none;\">\n",
              "        \n",
              "  <svg xmlns=\"http://www.w3.org/2000/svg\" height=\"24px\"viewBox=\"0 0 24 24\"\n",
              "       width=\"24px\">\n",
              "    <path d=\"M0 0h24v24H0V0z\" fill=\"none\"/>\n",
              "    <path d=\"M18.56 5.44l.94 2.06.94-2.06 2.06-.94-2.06-.94-.94-2.06-.94 2.06-2.06.94zm-11 1L8.5 8.5l.94-2.06 2.06-.94-2.06-.94L8.5 2.5l-.94 2.06-2.06.94zm10 10l.94 2.06.94-2.06 2.06-.94-2.06-.94-.94-2.06-.94 2.06-2.06.94z\"/><path d=\"M17.41 7.96l-1.37-1.37c-.4-.4-.92-.59-1.43-.59-.52 0-1.04.2-1.43.59L10.3 9.45l-7.72 7.72c-.78.78-.78 2.05 0 2.83L4 21.41c.39.39.9.59 1.41.59.51 0 1.02-.2 1.41-.59l7.78-7.78 2.81-2.81c.8-.78.8-2.07 0-2.86zM5.41 20L4 18.59l7.72-7.72 1.47 1.35L5.41 20z\"/>\n",
              "  </svg>\n",
              "      </button>\n",
              "      \n",
              "  <style>\n",
              "    .colab-df-container {\n",
              "      display:flex;\n",
              "      flex-wrap:wrap;\n",
              "      gap: 12px;\n",
              "    }\n",
              "\n",
              "    .colab-df-convert {\n",
              "      background-color: #E8F0FE;\n",
              "      border: none;\n",
              "      border-radius: 50%;\n",
              "      cursor: pointer;\n",
              "      display: none;\n",
              "      fill: #1967D2;\n",
              "      height: 32px;\n",
              "      padding: 0 0 0 0;\n",
              "      width: 32px;\n",
              "    }\n",
              "\n",
              "    .colab-df-convert:hover {\n",
              "      background-color: #E2EBFA;\n",
              "      box-shadow: 0px 1px 2px rgba(60, 64, 67, 0.3), 0px 1px 3px 1px rgba(60, 64, 67, 0.15);\n",
              "      fill: #174EA6;\n",
              "    }\n",
              "\n",
              "    [theme=dark] .colab-df-convert {\n",
              "      background-color: #3B4455;\n",
              "      fill: #D2E3FC;\n",
              "    }\n",
              "\n",
              "    [theme=dark] .colab-df-convert:hover {\n",
              "      background-color: #434B5C;\n",
              "      box-shadow: 0px 1px 3px 1px rgba(0, 0, 0, 0.15);\n",
              "      filter: drop-shadow(0px 1px 2px rgba(0, 0, 0, 0.3));\n",
              "      fill: #FFFFFF;\n",
              "    }\n",
              "  </style>\n",
              "\n",
              "      <script>\n",
              "        const buttonEl =\n",
              "          document.querySelector('#df-8b87ce50-a17f-410e-b2c0-e80a333bb997 button.colab-df-convert');\n",
              "        buttonEl.style.display =\n",
              "          google.colab.kernel.accessAllowed ? 'block' : 'none';\n",
              "\n",
              "        async function convertToInteractive(key) {\n",
              "          const element = document.querySelector('#df-8b87ce50-a17f-410e-b2c0-e80a333bb997');\n",
              "          const dataTable =\n",
              "            await google.colab.kernel.invokeFunction('convertToInteractive',\n",
              "                                                     [key], {});\n",
              "          if (!dataTable) return;\n",
              "\n",
              "          const docLinkHtml = 'Like what you see? Visit the ' +\n",
              "            '<a target=\"_blank\" href=https://colab.research.google.com/notebooks/data_table.ipynb>data table notebook</a>'\n",
              "            + ' to learn more about interactive tables.';\n",
              "          element.innerHTML = '';\n",
              "          dataTable['output_type'] = 'display_data';\n",
              "          await google.colab.output.renderOutput(dataTable, element);\n",
              "          const docLink = document.createElement('div');\n",
              "          docLink.innerHTML = docLinkHtml;\n",
              "          element.appendChild(docLink);\n",
              "        }\n",
              "      </script>\n",
              "    </div>\n",
              "  </div>\n",
              "  "
            ]
          },
          "metadata": {},
          "execution_count": 161
        }
      ]
    },
    {
      "cell_type": "code",
      "source": [
        "g = g.sort_values('count', ascending = False)\n",
        "\n",
        "plt.figure(figsize = (12,6))\n",
        "sns.barplot(y = 'infection', x= 'count', data = g)\n",
        "plt.title('number of patients in infection values')\n",
        "display()"
      ],
      "metadata": {
        "colab": {
          "base_uri": "https://localhost:8080/",
          "height": 404
        },
        "id": "ZCEwcMUmYPR4",
        "outputId": "c09fd3b8-f524-4291-be4b-80e0ef5c7e35"
      },
      "execution_count": 162,
      "outputs": [
        {
          "output_type": "display_data",
          "data": {
            "text/plain": [
              "<Figure size 864x432 with 1 Axes>"
            ],
            "image/png": "[encoded data removed]"
          },
          "metadata": {
            "needs_background": "light"
          }
        }
      ]
    },
    {
      "cell_type": "markdown",
      "source": [
        "이상, PatientInfo의 infection_case를 재가공하여 '집단감염(group)', '개인감염(individual)', '해외유입(overseas)', '밝혀지지않음(unknown)'으로 구성된 \"감염 경로 유형\"의 특성이 생성되었습니다."
      ],
      "metadata": {
        "id": "v6iFy-Vxa7mt"
      }
    },
    {
      "cell_type": "markdown",
      "source": [
        "1.2. 유동성 (Mobility level)\n",
        "\n",
        "유동성은 확진자들이 얼마만큼의 이동을 보였는지를 나타내는 특성입니다. 예를들어 친구를 만나러 카페에 간 사람과 가지 않고 집에 있던 사람은 유동성에서 다른 값을 갖게 될 것입니다. 따라서 유동성은 확진자들의 행동 유형을 구분지을 수 있는 행동적 특성의 하나로써 모델에 활용합니다. 유동성의 특성은 확진자들이 다녀갔던 장소에 대한 정보를 나타내는 PatientRoute의 type에 기반하여 생성됩니다."
      ],
      "metadata": {
        "id": "PHw-10s7a8ex"
      }
    },
    {
      "cell_type": "code",
      "source": [
        "route = pd.read_csv('/content/drive/MyDrive/colab_data/PatientRoute.csv')\n",
        "print(route.shape)\n",
        "route.head()"
      ],
      "metadata": {
        "colab": {
          "base_uri": "https://localhost:8080/",
          "height": 269
        },
        "id": "9HY4rjNTYPPH",
        "outputId": "219f2aa3-afb1-4db1-975a-7119a6d6b8e6"
      },
      "execution_count": 163,
      "outputs": [
        {
          "output_type": "stream",
          "name": "stdout",
          "text": [
            "(6714, 8)\n"
          ]
        },
        {
          "output_type": "execute_result",
          "data": {
            "text/plain": [
              "   patient_id  global_num        date     province          city  \\\n",
              "0  1000000001        2.00  2020-01-22  Gyeonggi-do      Gimpo-si   \n",
              "1  1000000001        2.00  2020-01-24        Seoul       Jung-gu   \n",
              "2  1000000002        5.00  2020-01-25        Seoul   Seongbuk-gu   \n",
              "3  1000000002        5.00  2020-01-26        Seoul   Seongbuk-gu   \n",
              "4  1000000002        5.00  2020-01-26        Seoul  Seongdong-gu   \n",
              "\n",
              "                    type  latitude  longitude  \n",
              "0                airport     37.62     126.72  \n",
              "1               hospital     37.57     127.01  \n",
              "2                    etc     37.59     127.02  \n",
              "3                  store     37.59     127.02  \n",
              "4  public_transportation     37.56     127.03  "
            ],
            "text/html": [
              "\n",
              "  <div id=\"df-9e40d927-aff0-4a87-884f-e975de1cd5e9\">\n",
              "    <div class=\"colab-df-container\">\n",
              "      <div>\n",
              "<style scoped>\n",
              "    .dataframe tbody tr th:only-of-type {\n",
              "        vertical-align: middle;\n",
              "    }\n",
              "\n",
              "    .dataframe tbody tr th {\n",
              "        vertical-align: top;\n",
              "    }\n",
              "\n",
              "    .dataframe thead th {\n",
              "        text-align: right;\n",
              "    }\n",
              "</style>\n",
              "<table border=\"1\" class=\"dataframe\">\n",
              "  <thead>\n",
              "    <tr style=\"text-align: right;\">\n",
              "      <th></th>\n",
              "      <th>patient_id</th>\n",
              "      <th>global_num</th>\n",
              "      <th>date</th>\n",
              "      <th>province</th>\n",
              "      <th>city</th>\n",
              "      <th>type</th>\n",
              "      <th>latitude</th>\n",
              "      <th>longitude</th>\n",
              "    </tr>\n",
              "  </thead>\n",
              "  <tbody>\n",
              "    <tr>\n",
              "      <th>0</th>\n",
              "      <td>1000000001</td>\n",
              "      <td>2.00</td>\n",
              "      <td>2020-01-22</td>\n",
              "      <td>Gyeonggi-do</td>\n",
              "      <td>Gimpo-si</td>\n",
              "      <td>airport</td>\n",
              "      <td>37.62</td>\n",
              "      <td>126.72</td>\n",
              "    </tr>\n",
              "    <tr>\n",
              "      <th>1</th>\n",
              "      <td>1000000001</td>\n",
              "      <td>2.00</td>\n",
              "      <td>2020-01-24</td>\n",
              "      <td>Seoul</td>\n",
              "      <td>Jung-gu</td>\n",
              "      <td>hospital</td>\n",
              "      <td>37.57</td>\n",
              "      <td>127.01</td>\n",
              "    </tr>\n",
              "    <tr>\n",
              "      <th>2</th>\n",
              "      <td>1000000002</td>\n",
              "      <td>5.00</td>\n",
              "      <td>2020-01-25</td>\n",
              "      <td>Seoul</td>\n",
              "      <td>Seongbuk-gu</td>\n",
              "      <td>etc</td>\n",
              "      <td>37.59</td>\n",
              "      <td>127.02</td>\n",
              "    </tr>\n",
              "    <tr>\n",
              "      <th>3</th>\n",
              "      <td>1000000002</td>\n",
              "      <td>5.00</td>\n",
              "      <td>2020-01-26</td>\n",
              "      <td>Seoul</td>\n",
              "      <td>Seongbuk-gu</td>\n",
              "      <td>store</td>\n",
              "      <td>37.59</td>\n",
              "      <td>127.02</td>\n",
              "    </tr>\n",
              "    <tr>\n",
              "      <th>4</th>\n",
              "      <td>1000000002</td>\n",
              "      <td>5.00</td>\n",
              "      <td>2020-01-26</td>\n",
              "      <td>Seoul</td>\n",
              "      <td>Seongdong-gu</td>\n",
              "      <td>public_transportation</td>\n",
              "      <td>37.56</td>\n",
              "      <td>127.03</td>\n",
              "    </tr>\n",
              "  </tbody>\n",
              "</table>\n",
              "</div>\n",
              "      <button class=\"colab-df-convert\" onclick=\"convertToInteractive('df-9e40d927-aff0-4a87-884f-e975de1cd5e9')\"\n",
              "              title=\"Convert this dataframe to an interactive table.\"\n",
              "              style=\"display:none;\">\n",
              "        \n",
              "  <svg xmlns=\"http://www.w3.org/2000/svg\" height=\"24px\"viewBox=\"0 0 24 24\"\n",
              "       width=\"24px\">\n",
              "    <path d=\"M0 0h24v24H0V0z\" fill=\"none\"/>\n",
              "    <path d=\"M18.56 5.44l.94 2.06.94-2.06 2.06-.94-2.06-.94-.94-2.06-.94 2.06-2.06.94zm-11 1L8.5 8.5l.94-2.06 2.06-.94-2.06-.94L8.5 2.5l-.94 2.06-2.06.94zm10 10l.94 2.06.94-2.06 2.06-.94-2.06-.94-.94-2.06-.94 2.06-2.06.94z\"/><path d=\"M17.41 7.96l-1.37-1.37c-.4-.4-.92-.59-1.43-.59-.52 0-1.04.2-1.43.59L10.3 9.45l-7.72 7.72c-.78.78-.78 2.05 0 2.83L4 21.41c.39.39.9.59 1.41.59.51 0 1.02-.2 1.41-.59l7.78-7.78 2.81-2.81c.8-.78.8-2.07 0-2.86zM5.41 20L4 18.59l7.72-7.72 1.47 1.35L5.41 20z\"/>\n",
              "  </svg>\n",
              "      </button>\n",
              "      \n",
              "  <style>\n",
              "    .colab-df-container {\n",
              "      display:flex;\n",
              "      flex-wrap:wrap;\n",
              "      gap: 12px;\n",
              "    }\n",
              "\n",
              "    .colab-df-convert {\n",
              "      background-color: #E8F0FE;\n",
              "      border: none;\n",
              "      border-radius: 50%;\n",
              "      cursor: pointer;\n",
              "      display: none;\n",
              "      fill: #1967D2;\n",
              "      height: 32px;\n",
              "      padding: 0 0 0 0;\n",
              "      width: 32px;\n",
              "    }\n",
              "\n",
              "    .colab-df-convert:hover {\n",
              "      background-color: #E2EBFA;\n",
              "      box-shadow: 0px 1px 2px rgba(60, 64, 67, 0.3), 0px 1px 3px 1px rgba(60, 64, 67, 0.15);\n",
              "      fill: #174EA6;\n",
              "    }\n",
              "\n",
              "    [theme=dark] .colab-df-convert {\n",
              "      background-color: #3B4455;\n",
              "      fill: #D2E3FC;\n",
              "    }\n",
              "\n",
              "    [theme=dark] .colab-df-convert:hover {\n",
              "      background-color: #434B5C;\n",
              "      box-shadow: 0px 1px 3px 1px rgba(0, 0, 0, 0.15);\n",
              "      filter: drop-shadow(0px 1px 2px rgba(0, 0, 0, 0.3));\n",
              "      fill: #FFFFFF;\n",
              "    }\n",
              "  </style>\n",
              "\n",
              "      <script>\n",
              "        const buttonEl =\n",
              "          document.querySelector('#df-9e40d927-aff0-4a87-884f-e975de1cd5e9 button.colab-df-convert');\n",
              "        buttonEl.style.display =\n",
              "          google.colab.kernel.accessAllowed ? 'block' : 'none';\n",
              "\n",
              "        async function convertToInteractive(key) {\n",
              "          const element = document.querySelector('#df-9e40d927-aff0-4a87-884f-e975de1cd5e9');\n",
              "          const dataTable =\n",
              "            await google.colab.kernel.invokeFunction('convertToInteractive',\n",
              "                                                     [key], {});\n",
              "          if (!dataTable) return;\n",
              "\n",
              "          const docLinkHtml = 'Like what you see? Visit the ' +\n",
              "            '<a target=\"_blank\" href=https://colab.research.google.com/notebooks/data_table.ipynb>data table notebook</a>'\n",
              "            + ' to learn more about interactive tables.';\n",
              "          element.innerHTML = '';\n",
              "          dataTable['output_type'] = 'display_data';\n",
              "          await google.colab.output.renderOutput(dataTable, element);\n",
              "          const docLink = document.createElement('div');\n",
              "          docLink.innerHTML = docLinkHtml;\n",
              "          element.appendChild(docLink);\n",
              "        }\n",
              "      </script>\n",
              "    </div>\n",
              "  </div>\n",
              "  "
            ]
          },
          "metadata": {},
          "execution_count": 163
        }
      ]
    },
    {
      "cell_type": "code",
      "source": [
        "print('the number of unique values in type:', len(route['type'].unique()))\n",
        "route['type'].unique()"
      ],
      "metadata": {
        "colab": {
          "base_uri": "https://localhost:8080/"
        },
        "id": "LN1q6cQuYPMw",
        "outputId": "96d65391-ddb4-4cb9-845f-997012adf25a"
      },
      "execution_count": 164,
      "outputs": [
        {
          "output_type": "stream",
          "name": "stdout",
          "text": [
            "the number of unique values in type: 24\n"
          ]
        },
        {
          "output_type": "execute_result",
          "data": {
            "text/plain": [
              "array(['airport', 'hospital', 'etc', 'store', 'public_transportation',\n",
              "       'restaurant', 'church', 'beauty_salon', 'pharmacy', 'pc_cafe',\n",
              "       'bank', 'cafe', 'bakery', 'bar', 'gym', 'school',\n",
              "       'real_estate_agency', 'karaoke', 'post_office', 'gas_station',\n",
              "       'lodging', 'academy', 'university', 'administrative_area_level_1'],\n",
              "      dtype=object)"
            ]
          },
          "metadata": {},
          "execution_count": 164
        }
      ]
    },
    {
      "cell_type": "code",
      "source": [
        "route[route['type'].isna()].shape"
      ],
      "metadata": {
        "colab": {
          "base_uri": "https://localhost:8080/"
        },
        "id": "GK294xDuYPKf",
        "outputId": "0bac5867-f3f7-4876-a537-b2cd5a40f08a"
      },
      "execution_count": 165,
      "outputs": [
        {
          "output_type": "execute_result",
          "data": {
            "text/plain": [
              "(0, 8)"
            ]
          },
          "metadata": {},
          "execution_count": 165
        }
      ]
    },
    {
      "cell_type": "markdown",
      "source": [
        "먼저 데이터에는 총 24가지의 독립적인 장소들이 존재하고 있고, 해당 변수에는 결측치가 없는 것을 확인하였습니다. 이 장소들을 기반으로 각 확진자들의 '유동성'에 대한 특성을 추출합니다. 먼저 방문한 장소들을 기반으로 해당 이동이 필수적(essential)이었는지 부수적(non-essential)이었는지를 구분하고, 각 확진자 별로 필수적/부수적 이동을 얼마나 하였는지 그 횟수를 구합니다.\n",
        "\n",
        "필수적/부수적 이동을 구별하고자 먼저 24가지의 장소들을 세부 카테고리로 구분하였습니다."
      ],
      "metadata": {
        "id": "iV2jut-IbvhI"
      }
    },
    {
      "cell_type": "code",
      "source": [
        "## categories\n",
        "leisure = ['library', 'theater', 'cafe', 'bakery', 'beauty_salon',\n",
        "          'pc_cafe', 'billiards','restaurant', 'bar', 'karaoke']\n",
        "travel = ['airport', 'lodging']\n",
        "essential_edu = ['primary_school', 'school', 'university']\n",
        "non_essential_edu = ['academy']\n",
        "exercise = ['gym', 'mountain', 'park']\n",
        "essential_admin = ['administrative_area_level_1', 'governmnet_office', 'post_office']\n",
        "non_essential_admin = ['police_office', 'bank', 'real_estate_agency']\n",
        "necessity = ['store', 'public_transportation', 'gas_station']\n",
        "medical = ['hospital', 'pharmacy']\n",
        "church = ['church']\n",
        "etc = ['etc']"
      ],
      "metadata": {
        "id": "fkBuzo6zbc2S"
      },
      "execution_count": 166,
      "outputs": []
    },
    {
      "cell_type": "markdown",
      "source": [
        "위 카테고리 중에서 '필수 교육(essential_edu)/필수 행정(essential_admin)/생활 필수(necessity)/의료(medical)' 카테고리를 필수적 이동(essential)으로 구분하고, 나머지는 부수적 이동(non-essential)으로 정의합니다."
      ],
      "metadata": {
        "id": "IZuHhP_1cC3L"
      }
    },
    {
      "cell_type": "code",
      "source": [
        "essential = essential_edu + essential_admin + necessity + medical \n",
        "\n",
        "def type_group_essen(x): \n",
        "     \n",
        "    group = None\n",
        "    if x in essential: \n",
        "        group = 'essential'\n",
        "    else:\n",
        "        group = 'non-essential' \n",
        "    return group \n",
        "\n",
        "route['route_group_essential'] = route['type'].apply(lambda x: type_group_essen(x)) \n",
        "route = route[['patient_id', 'type', 'route_group_essential']]\n",
        "route.head()"
      ],
      "metadata": {
        "colab": {
          "base_uri": "https://localhost:8080/",
          "height": 206
        },
        "id": "7E2cujFUbeTG",
        "outputId": "6d87c591-c173-4a37-ed39-0a1da721da76"
      },
      "execution_count": 167,
      "outputs": [
        {
          "output_type": "execute_result",
          "data": {
            "text/plain": [
              "   patient_id                   type route_group_essential\n",
              "0  1000000001                airport         non-essential\n",
              "1  1000000001               hospital             essential\n",
              "2  1000000002                    etc         non-essential\n",
              "3  1000000002                  store             essential\n",
              "4  1000000002  public_transportation             essential"
            ],
            "text/html": [
              "\n",
              "  <div id=\"df-5d357d83-b3f5-4438-a552-c1e181971fa4\">\n",
              "    <div class=\"colab-df-container\">\n",
              "      <div>\n",
              "<style scoped>\n",
              "    .dataframe tbody tr th:only-of-type {\n",
              "        vertical-align: middle;\n",
              "    }\n",
              "\n",
              "    .dataframe tbody tr th {\n",
              "        vertical-align: top;\n",
              "    }\n",
              "\n",
              "    .dataframe thead th {\n",
              "        text-align: right;\n",
              "    }\n",
              "</style>\n",
              "<table border=\"1\" class=\"dataframe\">\n",
              "  <thead>\n",
              "    <tr style=\"text-align: right;\">\n",
              "      <th></th>\n",
              "      <th>patient_id</th>\n",
              "      <th>type</th>\n",
              "      <th>route_group_essential</th>\n",
              "    </tr>\n",
              "  </thead>\n",
              "  <tbody>\n",
              "    <tr>\n",
              "      <th>0</th>\n",
              "      <td>1000000001</td>\n",
              "      <td>airport</td>\n",
              "      <td>non-essential</td>\n",
              "    </tr>\n",
              "    <tr>\n",
              "      <th>1</th>\n",
              "      <td>1000000001</td>\n",
              "      <td>hospital</td>\n",
              "      <td>essential</td>\n",
              "    </tr>\n",
              "    <tr>\n",
              "      <th>2</th>\n",
              "      <td>1000000002</td>\n",
              "      <td>etc</td>\n",
              "      <td>non-essential</td>\n",
              "    </tr>\n",
              "    <tr>\n",
              "      <th>3</th>\n",
              "      <td>1000000002</td>\n",
              "      <td>store</td>\n",
              "      <td>essential</td>\n",
              "    </tr>\n",
              "    <tr>\n",
              "      <th>4</th>\n",
              "      <td>1000000002</td>\n",
              "      <td>public_transportation</td>\n",
              "      <td>essential</td>\n",
              "    </tr>\n",
              "  </tbody>\n",
              "</table>\n",
              "</div>\n",
              "      <button class=\"colab-df-convert\" onclick=\"convertToInteractive('df-5d357d83-b3f5-4438-a552-c1e181971fa4')\"\n",
              "              title=\"Convert this dataframe to an interactive table.\"\n",
              "              style=\"display:none;\">\n",
              "        \n",
              "  <svg xmlns=\"http://www.w3.org/2000/svg\" height=\"24px\"viewBox=\"0 0 24 24\"\n",
              "       width=\"24px\">\n",
              "    <path d=\"M0 0h24v24H0V0z\" fill=\"none\"/>\n",
              "    <path d=\"M18.56 5.44l.94 2.06.94-2.06 2.06-.94-2.06-.94-.94-2.06-.94 2.06-2.06.94zm-11 1L8.5 8.5l.94-2.06 2.06-.94-2.06-.94L8.5 2.5l-.94 2.06-2.06.94zm10 10l.94 2.06.94-2.06 2.06-.94-2.06-.94-.94-2.06-.94 2.06-2.06.94z\"/><path d=\"M17.41 7.96l-1.37-1.37c-.4-.4-.92-.59-1.43-.59-.52 0-1.04.2-1.43.59L10.3 9.45l-7.72 7.72c-.78.78-.78 2.05 0 2.83L4 21.41c.39.39.9.59 1.41.59.51 0 1.02-.2 1.41-.59l7.78-7.78 2.81-2.81c.8-.78.8-2.07 0-2.86zM5.41 20L4 18.59l7.72-7.72 1.47 1.35L5.41 20z\"/>\n",
              "  </svg>\n",
              "      </button>\n",
              "      \n",
              "  <style>\n",
              "    .colab-df-container {\n",
              "      display:flex;\n",
              "      flex-wrap:wrap;\n",
              "      gap: 12px;\n",
              "    }\n",
              "\n",
              "    .colab-df-convert {\n",
              "      background-color: #E8F0FE;\n",
              "      border: none;\n",
              "      border-radius: 50%;\n",
              "      cursor: pointer;\n",
              "      display: none;\n",
              "      fill: #1967D2;\n",
              "      height: 32px;\n",
              "      padding: 0 0 0 0;\n",
              "      width: 32px;\n",
              "    }\n",
              "\n",
              "    .colab-df-convert:hover {\n",
              "      background-color: #E2EBFA;\n",
              "      box-shadow: 0px 1px 2px rgba(60, 64, 67, 0.3), 0px 1px 3px 1px rgba(60, 64, 67, 0.15);\n",
              "      fill: #174EA6;\n",
              "    }\n",
              "\n",
              "    [theme=dark] .colab-df-convert {\n",
              "      background-color: #3B4455;\n",
              "      fill: #D2E3FC;\n",
              "    }\n",
              "\n",
              "    [theme=dark] .colab-df-convert:hover {\n",
              "      background-color: #434B5C;\n",
              "      box-shadow: 0px 1px 3px 1px rgba(0, 0, 0, 0.15);\n",
              "      filter: drop-shadow(0px 1px 2px rgba(0, 0, 0, 0.3));\n",
              "      fill: #FFFFFF;\n",
              "    }\n",
              "  </style>\n",
              "\n",
              "      <script>\n",
              "        const buttonEl =\n",
              "          document.querySelector('#df-5d357d83-b3f5-4438-a552-c1e181971fa4 button.colab-df-convert');\n",
              "        buttonEl.style.display =\n",
              "          google.colab.kernel.accessAllowed ? 'block' : 'none';\n",
              "\n",
              "        async function convertToInteractive(key) {\n",
              "          const element = document.querySelector('#df-5d357d83-b3f5-4438-a552-c1e181971fa4');\n",
              "          const dataTable =\n",
              "            await google.colab.kernel.invokeFunction('convertToInteractive',\n",
              "                                                     [key], {});\n",
              "          if (!dataTable) return;\n",
              "\n",
              "          const docLinkHtml = 'Like what you see? Visit the ' +\n",
              "            '<a target=\"_blank\" href=https://colab.research.google.com/notebooks/data_table.ipynb>data table notebook</a>'\n",
              "            + ' to learn more about interactive tables.';\n",
              "          element.innerHTML = '';\n",
              "          dataTable['output_type'] = 'display_data';\n",
              "          await google.colab.output.renderOutput(dataTable, element);\n",
              "          const docLink = document.createElement('div');\n",
              "          docLink.innerHTML = docLinkHtml;\n",
              "          element.appendChild(docLink);\n",
              "        }\n",
              "      </script>\n",
              "    </div>\n",
              "  </div>\n",
              "  "
            ]
          },
          "metadata": {},
          "execution_count": 167
        }
      ]
    },
    {
      "cell_type": "code",
      "source": [
        "route['route_value'] = 1 #이런식으로 칼럼을 하나 추가해서 갯수를 셀 수 있구나...\n",
        "g = pd.DataFrame(route.groupby(['patient_id', 'route_group_essential'])['route_value'].count().unstack()) #unstack 함수가 뭐지?\n",
        "g"
      ],
      "metadata": {
        "colab": {
          "base_uri": "https://localhost:8080/",
          "height": 455
        },
        "id": "NmlTLkMqbeQt",
        "outputId": "fc2acd6a-d884-4f12-965e-a3042a41ef0c"
      },
      "execution_count": 168,
      "outputs": [
        {
          "output_type": "execute_result",
          "data": {
            "text/plain": [
              "route_group_essential  essential  non-essential\n",
              "patient_id                                     \n",
              "1000000001                  1.00           1.00\n",
              "1000000002                  9.00           4.00\n",
              "1000000003                   NaN           2.00\n",
              "1000000004                  1.00            NaN\n",
              "1000000005                  1.00            NaN\n",
              "...                          ...            ...\n",
              "6100000086                  2.00           2.00\n",
              "6100000087                  6.00           2.00\n",
              "6100000088                  5.00          19.00\n",
              "6100000089                  1.00           1.00\n",
              "6100000090                  3.00           4.00\n",
              "\n",
              "[1211 rows x 2 columns]"
            ],
            "text/html": [
              "\n",
              "  <div id=\"df-ffb12ca3-93d8-4754-9c59-39feb08f7247\">\n",
              "    <div class=\"colab-df-container\">\n",
              "      <div>\n",
              "<style scoped>\n",
              "    .dataframe tbody tr th:only-of-type {\n",
              "        vertical-align: middle;\n",
              "    }\n",
              "\n",
              "    .dataframe tbody tr th {\n",
              "        vertical-align: top;\n",
              "    }\n",
              "\n",
              "    .dataframe thead th {\n",
              "        text-align: right;\n",
              "    }\n",
              "</style>\n",
              "<table border=\"1\" class=\"dataframe\">\n",
              "  <thead>\n",
              "    <tr style=\"text-align: right;\">\n",
              "      <th>route_group_essential</th>\n",
              "      <th>essential</th>\n",
              "      <th>non-essential</th>\n",
              "    </tr>\n",
              "    <tr>\n",
              "      <th>patient_id</th>\n",
              "      <th></th>\n",
              "      <th></th>\n",
              "    </tr>\n",
              "  </thead>\n",
              "  <tbody>\n",
              "    <tr>\n",
              "      <th>1000000001</th>\n",
              "      <td>1.00</td>\n",
              "      <td>1.00</td>\n",
              "    </tr>\n",
              "    <tr>\n",
              "      <th>1000000002</th>\n",
              "      <td>9.00</td>\n",
              "      <td>4.00</td>\n",
              "    </tr>\n",
              "    <tr>\n",
              "      <th>1000000003</th>\n",
              "      <td>NaN</td>\n",
              "      <td>2.00</td>\n",
              "    </tr>\n",
              "    <tr>\n",
              "      <th>1000000004</th>\n",
              "      <td>1.00</td>\n",
              "      <td>NaN</td>\n",
              "    </tr>\n",
              "    <tr>\n",
              "      <th>1000000005</th>\n",
              "      <td>1.00</td>\n",
              "      <td>NaN</td>\n",
              "    </tr>\n",
              "    <tr>\n",
              "      <th>...</th>\n",
              "      <td>...</td>\n",
              "      <td>...</td>\n",
              "    </tr>\n",
              "    <tr>\n",
              "      <th>6100000086</th>\n",
              "      <td>2.00</td>\n",
              "      <td>2.00</td>\n",
              "    </tr>\n",
              "    <tr>\n",
              "      <th>6100000087</th>\n",
              "      <td>6.00</td>\n",
              "      <td>2.00</td>\n",
              "    </tr>\n",
              "    <tr>\n",
              "      <th>6100000088</th>\n",
              "      <td>5.00</td>\n",
              "      <td>19.00</td>\n",
              "    </tr>\n",
              "    <tr>\n",
              "      <th>6100000089</th>\n",
              "      <td>1.00</td>\n",
              "      <td>1.00</td>\n",
              "    </tr>\n",
              "    <tr>\n",
              "      <th>6100000090</th>\n",
              "      <td>3.00</td>\n",
              "      <td>4.00</td>\n",
              "    </tr>\n",
              "  </tbody>\n",
              "</table>\n",
              "<p>1211 rows × 2 columns</p>\n",
              "</div>\n",
              "      <button class=\"colab-df-convert\" onclick=\"convertToInteractive('df-ffb12ca3-93d8-4754-9c59-39feb08f7247')\"\n",
              "              title=\"Convert this dataframe to an interactive table.\"\n",
              "              style=\"display:none;\">\n",
              "        \n",
              "  <svg xmlns=\"http://www.w3.org/2000/svg\" height=\"24px\"viewBox=\"0 0 24 24\"\n",
              "       width=\"24px\">\n",
              "    <path d=\"M0 0h24v24H0V0z\" fill=\"none\"/>\n",
              "    <path d=\"M18.56 5.44l.94 2.06.94-2.06 2.06-.94-2.06-.94-.94-2.06-.94 2.06-2.06.94zm-11 1L8.5 8.5l.94-2.06 2.06-.94-2.06-.94L8.5 2.5l-.94 2.06-2.06.94zm10 10l.94 2.06.94-2.06 2.06-.94-2.06-.94-.94-2.06-.94 2.06-2.06.94z\"/><path d=\"M17.41 7.96l-1.37-1.37c-.4-.4-.92-.59-1.43-.59-.52 0-1.04.2-1.43.59L10.3 9.45l-7.72 7.72c-.78.78-.78 2.05 0 2.83L4 21.41c.39.39.9.59 1.41.59.51 0 1.02-.2 1.41-.59l7.78-7.78 2.81-2.81c.8-.78.8-2.07 0-2.86zM5.41 20L4 18.59l7.72-7.72 1.47 1.35L5.41 20z\"/>\n",
              "  </svg>\n",
              "      </button>\n",
              "      \n",
              "  <style>\n",
              "    .colab-df-container {\n",
              "      display:flex;\n",
              "      flex-wrap:wrap;\n",
              "      gap: 12px;\n",
              "    }\n",
              "\n",
              "    .colab-df-convert {\n",
              "      background-color: #E8F0FE;\n",
              "      border: none;\n",
              "      border-radius: 50%;\n",
              "      cursor: pointer;\n",
              "      display: none;\n",
              "      fill: #1967D2;\n",
              "      height: 32px;\n",
              "      padding: 0 0 0 0;\n",
              "      width: 32px;\n",
              "    }\n",
              "\n",
              "    .colab-df-convert:hover {\n",
              "      background-color: #E2EBFA;\n",
              "      box-shadow: 0px 1px 2px rgba(60, 64, 67, 0.3), 0px 1px 3px 1px rgba(60, 64, 67, 0.15);\n",
              "      fill: #174EA6;\n",
              "    }\n",
              "\n",
              "    [theme=dark] .colab-df-convert {\n",
              "      background-color: #3B4455;\n",
              "      fill: #D2E3FC;\n",
              "    }\n",
              "\n",
              "    [theme=dark] .colab-df-convert:hover {\n",
              "      background-color: #434B5C;\n",
              "      box-shadow: 0px 1px 3px 1px rgba(0, 0, 0, 0.15);\n",
              "      filter: drop-shadow(0px 1px 2px rgba(0, 0, 0, 0.3));\n",
              "      fill: #FFFFFF;\n",
              "    }\n",
              "  </style>\n",
              "\n",
              "      <script>\n",
              "        const buttonEl =\n",
              "          document.querySelector('#df-ffb12ca3-93d8-4754-9c59-39feb08f7247 button.colab-df-convert');\n",
              "        buttonEl.style.display =\n",
              "          google.colab.kernel.accessAllowed ? 'block' : 'none';\n",
              "\n",
              "        async function convertToInteractive(key) {\n",
              "          const element = document.querySelector('#df-ffb12ca3-93d8-4754-9c59-39feb08f7247');\n",
              "          const dataTable =\n",
              "            await google.colab.kernel.invokeFunction('convertToInteractive',\n",
              "                                                     [key], {});\n",
              "          if (!dataTable) return;\n",
              "\n",
              "          const docLinkHtml = 'Like what you see? Visit the ' +\n",
              "            '<a target=\"_blank\" href=https://colab.research.google.com/notebooks/data_table.ipynb>data table notebook</a>'\n",
              "            + ' to learn more about interactive tables.';\n",
              "          element.innerHTML = '';\n",
              "          dataTable['output_type'] = 'display_data';\n",
              "          await google.colab.output.renderOutput(dataTable, element);\n",
              "          const docLink = document.createElement('div');\n",
              "          docLink.innerHTML = docLinkHtml;\n",
              "          element.appendChild(docLink);\n",
              "        }\n",
              "      </script>\n",
              "    </div>\n",
              "  </div>\n",
              "  "
            ]
          },
          "metadata": {},
          "execution_count": 168
        }
      ]
    },
    {
      "cell_type": "code",
      "source": [
        "g_unstack= pd.DataFrame(route.groupby(['patient_id', 'route_group_essential'])['route_value'].count()) #unstack 함수가 뭐지?\n",
        "g_unstack #아하!"
      ],
      "metadata": {
        "colab": {
          "base_uri": "https://localhost:8080/",
          "height": 455
        },
        "id": "O6e1DNPzbeOl",
        "outputId": "4b329345-c335-4096-f2ba-b04cc50b361e"
      },
      "execution_count": 169,
      "outputs": [
        {
          "output_type": "execute_result",
          "data": {
            "text/plain": [
              "                                  route_value\n",
              "patient_id route_group_essential             \n",
              "1000000001 essential                        1\n",
              "           non-essential                    1\n",
              "1000000002 essential                        9\n",
              "           non-essential                    4\n",
              "1000000003 non-essential                    2\n",
              "...                                       ...\n",
              "6100000088 non-essential                   19\n",
              "6100000089 essential                        1\n",
              "           non-essential                    1\n",
              "6100000090 essential                        3\n",
              "           non-essential                    4\n",
              "\n",
              "[1968 rows x 1 columns]"
            ],
            "text/html": [
              "\n",
              "  <div id=\"df-baca1bc0-2117-40f2-b1bc-d0007550b897\">\n",
              "    <div class=\"colab-df-container\">\n",
              "      <div>\n",
              "<style scoped>\n",
              "    .dataframe tbody tr th:only-of-type {\n",
              "        vertical-align: middle;\n",
              "    }\n",
              "\n",
              "    .dataframe tbody tr th {\n",
              "        vertical-align: top;\n",
              "    }\n",
              "\n",
              "    .dataframe thead th {\n",
              "        text-align: right;\n",
              "    }\n",
              "</style>\n",
              "<table border=\"1\" class=\"dataframe\">\n",
              "  <thead>\n",
              "    <tr style=\"text-align: right;\">\n",
              "      <th></th>\n",
              "      <th></th>\n",
              "      <th>route_value</th>\n",
              "    </tr>\n",
              "    <tr>\n",
              "      <th>patient_id</th>\n",
              "      <th>route_group_essential</th>\n",
              "      <th></th>\n",
              "    </tr>\n",
              "  </thead>\n",
              "  <tbody>\n",
              "    <tr>\n",
              "      <th rowspan=\"2\" valign=\"top\">1000000001</th>\n",
              "      <th>essential</th>\n",
              "      <td>1</td>\n",
              "    </tr>\n",
              "    <tr>\n",
              "      <th>non-essential</th>\n",
              "      <td>1</td>\n",
              "    </tr>\n",
              "    <tr>\n",
              "      <th rowspan=\"2\" valign=\"top\">1000000002</th>\n",
              "      <th>essential</th>\n",
              "      <td>9</td>\n",
              "    </tr>\n",
              "    <tr>\n",
              "      <th>non-essential</th>\n",
              "      <td>4</td>\n",
              "    </tr>\n",
              "    <tr>\n",
              "      <th>1000000003</th>\n",
              "      <th>non-essential</th>\n",
              "      <td>2</td>\n",
              "    </tr>\n",
              "    <tr>\n",
              "      <th>...</th>\n",
              "      <th>...</th>\n",
              "      <td>...</td>\n",
              "    </tr>\n",
              "    <tr>\n",
              "      <th>6100000088</th>\n",
              "      <th>non-essential</th>\n",
              "      <td>19</td>\n",
              "    </tr>\n",
              "    <tr>\n",
              "      <th rowspan=\"2\" valign=\"top\">6100000089</th>\n",
              "      <th>essential</th>\n",
              "      <td>1</td>\n",
              "    </tr>\n",
              "    <tr>\n",
              "      <th>non-essential</th>\n",
              "      <td>1</td>\n",
              "    </tr>\n",
              "    <tr>\n",
              "      <th rowspan=\"2\" valign=\"top\">6100000090</th>\n",
              "      <th>essential</th>\n",
              "      <td>3</td>\n",
              "    </tr>\n",
              "    <tr>\n",
              "      <th>non-essential</th>\n",
              "      <td>4</td>\n",
              "    </tr>\n",
              "  </tbody>\n",
              "</table>\n",
              "<p>1968 rows × 1 columns</p>\n",
              "</div>\n",
              "      <button class=\"colab-df-convert\" onclick=\"convertToInteractive('df-baca1bc0-2117-40f2-b1bc-d0007550b897')\"\n",
              "              title=\"Convert this dataframe to an interactive table.\"\n",
              "              style=\"display:none;\">\n",
              "        \n",
              "  <svg xmlns=\"http://www.w3.org/2000/svg\" height=\"24px\"viewBox=\"0 0 24 24\"\n",
              "       width=\"24px\">\n",
              "    <path d=\"M0 0h24v24H0V0z\" fill=\"none\"/>\n",
              "    <path d=\"M18.56 5.44l.94 2.06.94-2.06 2.06-.94-2.06-.94-.94-2.06-.94 2.06-2.06.94zm-11 1L8.5 8.5l.94-2.06 2.06-.94-2.06-.94L8.5 2.5l-.94 2.06-2.06.94zm10 10l.94 2.06.94-2.06 2.06-.94-2.06-.94-.94-2.06-.94 2.06-2.06.94z\"/><path d=\"M17.41 7.96l-1.37-1.37c-.4-.4-.92-.59-1.43-.59-.52 0-1.04.2-1.43.59L10.3 9.45l-7.72 7.72c-.78.78-.78 2.05 0 2.83L4 21.41c.39.39.9.59 1.41.59.51 0 1.02-.2 1.41-.59l7.78-7.78 2.81-2.81c.8-.78.8-2.07 0-2.86zM5.41 20L4 18.59l7.72-7.72 1.47 1.35L5.41 20z\"/>\n",
              "  </svg>\n",
              "      </button>\n",
              "      \n",
              "  <style>\n",
              "    .colab-df-container {\n",
              "      display:flex;\n",
              "      flex-wrap:wrap;\n",
              "      gap: 12px;\n",
              "    }\n",
              "\n",
              "    .colab-df-convert {\n",
              "      background-color: #E8F0FE;\n",
              "      border: none;\n",
              "      border-radius: 50%;\n",
              "      cursor: pointer;\n",
              "      display: none;\n",
              "      fill: #1967D2;\n",
              "      height: 32px;\n",
              "      padding: 0 0 0 0;\n",
              "      width: 32px;\n",
              "    }\n",
              "\n",
              "    .colab-df-convert:hover {\n",
              "      background-color: #E2EBFA;\n",
              "      box-shadow: 0px 1px 2px rgba(60, 64, 67, 0.3), 0px 1px 3px 1px rgba(60, 64, 67, 0.15);\n",
              "      fill: #174EA6;\n",
              "    }\n",
              "\n",
              "    [theme=dark] .colab-df-convert {\n",
              "      background-color: #3B4455;\n",
              "      fill: #D2E3FC;\n",
              "    }\n",
              "\n",
              "    [theme=dark] .colab-df-convert:hover {\n",
              "      background-color: #434B5C;\n",
              "      box-shadow: 0px 1px 3px 1px rgba(0, 0, 0, 0.15);\n",
              "      filter: drop-shadow(0px 1px 2px rgba(0, 0, 0, 0.3));\n",
              "      fill: #FFFFFF;\n",
              "    }\n",
              "  </style>\n",
              "\n",
              "      <script>\n",
              "        const buttonEl =\n",
              "          document.querySelector('#df-baca1bc0-2117-40f2-b1bc-d0007550b897 button.colab-df-convert');\n",
              "        buttonEl.style.display =\n",
              "          google.colab.kernel.accessAllowed ? 'block' : 'none';\n",
              "\n",
              "        async function convertToInteractive(key) {\n",
              "          const element = document.querySelector('#df-baca1bc0-2117-40f2-b1bc-d0007550b897');\n",
              "          const dataTable =\n",
              "            await google.colab.kernel.invokeFunction('convertToInteractive',\n",
              "                                                     [key], {});\n",
              "          if (!dataTable) return;\n",
              "\n",
              "          const docLinkHtml = 'Like what you see? Visit the ' +\n",
              "            '<a target=\"_blank\" href=https://colab.research.google.com/notebooks/data_table.ipynb>data table notebook</a>'\n",
              "            + ' to learn more about interactive tables.';\n",
              "          element.innerHTML = '';\n",
              "          dataTable['output_type'] = 'display_data';\n",
              "          await google.colab.output.renderOutput(dataTable, element);\n",
              "          const docLink = document.createElement('div');\n",
              "          docLink.innerHTML = docLinkHtml;\n",
              "          element.appendChild(docLink);\n",
              "        }\n",
              "      </script>\n",
              "    </div>\n",
              "  </div>\n",
              "  "
            ]
          },
          "metadata": {},
          "execution_count": 169
        }
      ]
    },
    {
      "cell_type": "markdown",
      "source": [
        "간간이 nan의 값이 보이는 것을 볼 수 있습니다. raw data에서 type은 결측치가 없었고 위의 테이블은 이를 기반으로 essential/non-essential의 횟수를 구한 것으로, 위 테이블의 nan은 해당 확진자가 해당 이동(essential 또는 non-essential)을 하지 않았음을 의미합니다. 따라서 이 경우, nan의 값은 '이동을 하지 않았음'을 의미하는 0으로 채워줍니다."
      ],
      "metadata": {
        "id": "peX_S9T8eAvz"
      }
    },
    {
      "cell_type": "code",
      "source": [
        "g.fillna(0, inplace = True)\n",
        "g.reset_index(inplace = True)\n",
        "g = g[['patient_id', 'essential', 'non-essential']]\n",
        "g.head()"
      ],
      "metadata": {
        "colab": {
          "base_uri": "https://localhost:8080/",
          "height": 206
        },
        "id": "sNBDcapnbcze",
        "outputId": "d916a497-0f58-4656-f261-1303fff0507a"
      },
      "execution_count": 170,
      "outputs": [
        {
          "output_type": "execute_result",
          "data": {
            "text/plain": [
              "route_group_essential  patient_id  essential  non-essential\n",
              "0                      1000000001       1.00           1.00\n",
              "1                      1000000002       9.00           4.00\n",
              "2                      1000000003       0.00           2.00\n",
              "3                      1000000004       1.00           0.00\n",
              "4                      1000000005       1.00           0.00"
            ],
            "text/html": [
              "\n",
              "  <div id=\"df-447aad32-ed09-451f-ab68-416f2144c4a7\">\n",
              "    <div class=\"colab-df-container\">\n",
              "      <div>\n",
              "<style scoped>\n",
              "    .dataframe tbody tr th:only-of-type {\n",
              "        vertical-align: middle;\n",
              "    }\n",
              "\n",
              "    .dataframe tbody tr th {\n",
              "        vertical-align: top;\n",
              "    }\n",
              "\n",
              "    .dataframe thead th {\n",
              "        text-align: right;\n",
              "    }\n",
              "</style>\n",
              "<table border=\"1\" class=\"dataframe\">\n",
              "  <thead>\n",
              "    <tr style=\"text-align: right;\">\n",
              "      <th>route_group_essential</th>\n",
              "      <th>patient_id</th>\n",
              "      <th>essential</th>\n",
              "      <th>non-essential</th>\n",
              "    </tr>\n",
              "  </thead>\n",
              "  <tbody>\n",
              "    <tr>\n",
              "      <th>0</th>\n",
              "      <td>1000000001</td>\n",
              "      <td>1.00</td>\n",
              "      <td>1.00</td>\n",
              "    </tr>\n",
              "    <tr>\n",
              "      <th>1</th>\n",
              "      <td>1000000002</td>\n",
              "      <td>9.00</td>\n",
              "      <td>4.00</td>\n",
              "    </tr>\n",
              "    <tr>\n",
              "      <th>2</th>\n",
              "      <td>1000000003</td>\n",
              "      <td>0.00</td>\n",
              "      <td>2.00</td>\n",
              "    </tr>\n",
              "    <tr>\n",
              "      <th>3</th>\n",
              "      <td>1000000004</td>\n",
              "      <td>1.00</td>\n",
              "      <td>0.00</td>\n",
              "    </tr>\n",
              "    <tr>\n",
              "      <th>4</th>\n",
              "      <td>1000000005</td>\n",
              "      <td>1.00</td>\n",
              "      <td>0.00</td>\n",
              "    </tr>\n",
              "  </tbody>\n",
              "</table>\n",
              "</div>\n",
              "      <button class=\"colab-df-convert\" onclick=\"convertToInteractive('df-447aad32-ed09-451f-ab68-416f2144c4a7')\"\n",
              "              title=\"Convert this dataframe to an interactive table.\"\n",
              "              style=\"display:none;\">\n",
              "        \n",
              "  <svg xmlns=\"http://www.w3.org/2000/svg\" height=\"24px\"viewBox=\"0 0 24 24\"\n",
              "       width=\"24px\">\n",
              "    <path d=\"M0 0h24v24H0V0z\" fill=\"none\"/>\n",
              "    <path d=\"M18.56 5.44l.94 2.06.94-2.06 2.06-.94-2.06-.94-.94-2.06-.94 2.06-2.06.94zm-11 1L8.5 8.5l.94-2.06 2.06-.94-2.06-.94L8.5 2.5l-.94 2.06-2.06.94zm10 10l.94 2.06.94-2.06 2.06-.94-2.06-.94-.94-2.06-.94 2.06-2.06.94z\"/><path d=\"M17.41 7.96l-1.37-1.37c-.4-.4-.92-.59-1.43-.59-.52 0-1.04.2-1.43.59L10.3 9.45l-7.72 7.72c-.78.78-.78 2.05 0 2.83L4 21.41c.39.39.9.59 1.41.59.51 0 1.02-.2 1.41-.59l7.78-7.78 2.81-2.81c.8-.78.8-2.07 0-2.86zM5.41 20L4 18.59l7.72-7.72 1.47 1.35L5.41 20z\"/>\n",
              "  </svg>\n",
              "      </button>\n",
              "      \n",
              "  <style>\n",
              "    .colab-df-container {\n",
              "      display:flex;\n",
              "      flex-wrap:wrap;\n",
              "      gap: 12px;\n",
              "    }\n",
              "\n",
              "    .colab-df-convert {\n",
              "      background-color: #E8F0FE;\n",
              "      border: none;\n",
              "      border-radius: 50%;\n",
              "      cursor: pointer;\n",
              "      display: none;\n",
              "      fill: #1967D2;\n",
              "      height: 32px;\n",
              "      padding: 0 0 0 0;\n",
              "      width: 32px;\n",
              "    }\n",
              "\n",
              "    .colab-df-convert:hover {\n",
              "      background-color: #E2EBFA;\n",
              "      box-shadow: 0px 1px 2px rgba(60, 64, 67, 0.3), 0px 1px 3px 1px rgba(60, 64, 67, 0.15);\n",
              "      fill: #174EA6;\n",
              "    }\n",
              "\n",
              "    [theme=dark] .colab-df-convert {\n",
              "      background-color: #3B4455;\n",
              "      fill: #D2E3FC;\n",
              "    }\n",
              "\n",
              "    [theme=dark] .colab-df-convert:hover {\n",
              "      background-color: #434B5C;\n",
              "      box-shadow: 0px 1px 3px 1px rgba(0, 0, 0, 0.15);\n",
              "      filter: drop-shadow(0px 1px 2px rgba(0, 0, 0, 0.3));\n",
              "      fill: #FFFFFF;\n",
              "    }\n",
              "  </style>\n",
              "\n",
              "      <script>\n",
              "        const buttonEl =\n",
              "          document.querySelector('#df-447aad32-ed09-451f-ab68-416f2144c4a7 button.colab-df-convert');\n",
              "        buttonEl.style.display =\n",
              "          google.colab.kernel.accessAllowed ? 'block' : 'none';\n",
              "\n",
              "        async function convertToInteractive(key) {\n",
              "          const element = document.querySelector('#df-447aad32-ed09-451f-ab68-416f2144c4a7');\n",
              "          const dataTable =\n",
              "            await google.colab.kernel.invokeFunction('convertToInteractive',\n",
              "                                                     [key], {});\n",
              "          if (!dataTable) return;\n",
              "\n",
              "          const docLinkHtml = 'Like what you see? Visit the ' +\n",
              "            '<a target=\"_blank\" href=https://colab.research.google.com/notebooks/data_table.ipynb>data table notebook</a>'\n",
              "            + ' to learn more about interactive tables.';\n",
              "          element.innerHTML = '';\n",
              "          dataTable['output_type'] = 'display_data';\n",
              "          await google.colab.output.renderOutput(dataTable, element);\n",
              "          const docLink = document.createElement('div');\n",
              "          docLink.innerHTML = docLinkHtml;\n",
              "          element.appendChild(docLink);\n",
              "        }\n",
              "      </script>\n",
              "    </div>\n",
              "  </div>\n",
              "  "
            ]
          },
          "metadata": {},
          "execution_count": 170
        }
      ]
    },
    {
      "cell_type": "markdown",
      "source": [
        "확진자의 유동성을 나타내는 확진자별 필수적/부수적 이동 횟수 테이블이 완성되었습니다. 이를 전체 데이터에 확진자별로 더해주어 모델에 활용할 수 있도록 합니다."
      ],
      "metadata": {
        "id": "rVrzHrtsfIIL"
      }
    },
    {
      "cell_type": "code",
      "source": [
        "data = data.merge(g, left_on = 'patient_id', right_on = 'patient_id', how = 'left')\n",
        "data.head()"
      ],
      "metadata": {
        "colab": {
          "base_uri": "https://localhost:8080/",
          "height": 386
        },
        "id": "GK05roRubcxI",
        "outputId": "e9a0840f-856a-49d8-adc1-cc2b20add9b4"
      },
      "execution_count": 171,
      "outputs": [
        {
          "output_type": "execute_result",
          "data": {
            "text/plain": [
              "   patient_id  global_num     sex  birth_year  age country province  \\\n",
              "0  1000000001        2.00    male     1964.00  50s   Korea    Seoul   \n",
              "1  1000000002        5.00    male     1987.00  30s   Korea    Seoul   \n",
              "2  1000000003        6.00    male     1964.00  50s   Korea    Seoul   \n",
              "3  1000000004        7.00    male     1991.00  20s   Korea    Seoul   \n",
              "4  1000000005        9.00  female     1992.00  20s   Korea    Seoul   \n",
              "\n",
              "          city disease        infection_case  ...   infected_by  \\\n",
              "0   Gangseo-gu     NaN       overseas inflow  ...           NaN   \n",
              "1  Jungnang-gu     NaN       overseas inflow  ...           NaN   \n",
              "2    Jongno-gu     NaN  contact with patient  ... 2002000001.00   \n",
              "3      Mapo-gu     NaN       overseas inflow  ...           NaN   \n",
              "4  Seongbuk-gu     NaN  contact with patient  ... 1000000002.00   \n",
              "\n",
              "   contact_number  symptom_onset_date confirmed_date released_date  \\\n",
              "0           75.00          2020-01-22     2020-01-23    2020-02-05   \n",
              "1           31.00                 NaN     2020-01-30    2020-03-02   \n",
              "2           17.00                 NaN     2020-01-30    2020-02-19   \n",
              "3            9.00          2020-01-26     2020-01-30    2020-02-15   \n",
              "4            2.00                 NaN     2020-01-31    2020-02-24   \n",
              "\n",
              "  deceased_date     state   infection essential  non-essential  \n",
              "0           NaN  released    overseas      1.00           1.00  \n",
              "1           NaN  released    overseas      9.00           4.00  \n",
              "2           NaN  released  individual      0.00           2.00  \n",
              "3           NaN  released    overseas      1.00           0.00  \n",
              "4           NaN  released  individual      1.00           0.00  \n",
              "\n",
              "[5 rows x 21 columns]"
            ],
            "text/html": [
              "\n",
              "  <div id=\"df-4dad7c27-aca6-4052-8df1-46027919f2d0\">\n",
              "    <div class=\"colab-df-container\">\n",
              "      <div>\n",
              "<style scoped>\n",
              "    .dataframe tbody tr th:only-of-type {\n",
              "        vertical-align: middle;\n",
              "    }\n",
              "\n",
              "    .dataframe tbody tr th {\n",
              "        vertical-align: top;\n",
              "    }\n",
              "\n",
              "    .dataframe thead th {\n",
              "        text-align: right;\n",
              "    }\n",
              "</style>\n",
              "<table border=\"1\" class=\"dataframe\">\n",
              "  <thead>\n",
              "    <tr style=\"text-align: right;\">\n",
              "      <th></th>\n",
              "      <th>patient_id</th>\n",
              "      <th>global_num</th>\n",
              "      <th>sex</th>\n",
              "      <th>birth_year</th>\n",
              "      <th>age</th>\n",
              "      <th>country</th>\n",
              "      <th>province</th>\n",
              "      <th>city</th>\n",
              "      <th>disease</th>\n",
              "      <th>infection_case</th>\n",
              "      <th>...</th>\n",
              "      <th>infected_by</th>\n",
              "      <th>contact_number</th>\n",
              "      <th>symptom_onset_date</th>\n",
              "      <th>confirmed_date</th>\n",
              "      <th>released_date</th>\n",
              "      <th>deceased_date</th>\n",
              "      <th>state</th>\n",
              "      <th>infection</th>\n",
              "      <th>essential</th>\n",
              "      <th>non-essential</th>\n",
              "    </tr>\n",
              "  </thead>\n",
              "  <tbody>\n",
              "    <tr>\n",
              "      <th>0</th>\n",
              "      <td>1000000001</td>\n",
              "      <td>2.00</td>\n",
              "      <td>male</td>\n",
              "      <td>1964.00</td>\n",
              "      <td>50s</td>\n",
              "      <td>Korea</td>\n",
              "      <td>Seoul</td>\n",
              "      <td>Gangseo-gu</td>\n",
              "      <td>NaN</td>\n",
              "      <td>overseas inflow</td>\n",
              "      <td>...</td>\n",
              "      <td>NaN</td>\n",
              "      <td>75.00</td>\n",
              "      <td>2020-01-22</td>\n",
              "      <td>2020-01-23</td>\n",
              "      <td>2020-02-05</td>\n",
              "      <td>NaN</td>\n",
              "      <td>released</td>\n",
              "      <td>overseas</td>\n",
              "      <td>1.00</td>\n",
              "      <td>1.00</td>\n",
              "    </tr>\n",
              "    <tr>\n",
              "      <th>1</th>\n",
              "      <td>1000000002</td>\n",
              "      <td>5.00</td>\n",
              "      <td>male</td>\n",
              "      <td>1987.00</td>\n",
              "      <td>30s</td>\n",
              "      <td>Korea</td>\n",
              "      <td>Seoul</td>\n",
              "      <td>Jungnang-gu</td>\n",
              "      <td>NaN</td>\n",
              "      <td>overseas inflow</td>\n",
              "      <td>...</td>\n",
              "      <td>NaN</td>\n",
              "      <td>31.00</td>\n",
              "      <td>NaN</td>\n",
              "      <td>2020-01-30</td>\n",
              "      <td>2020-03-02</td>\n",
              "      <td>NaN</td>\n",
              "      <td>released</td>\n",
              "      <td>overseas</td>\n",
              "      <td>9.00</td>\n",
              "      <td>4.00</td>\n",
              "    </tr>\n",
              "    <tr>\n",
              "      <th>2</th>\n",
              "      <td>1000000003</td>\n",
              "      <td>6.00</td>\n",
              "      <td>male</td>\n",
              "      <td>1964.00</td>\n",
              "      <td>50s</td>\n",
              "      <td>Korea</td>\n",
              "      <td>Seoul</td>\n",
              "      <td>Jongno-gu</td>\n",
              "      <td>NaN</td>\n",
              "      <td>contact with patient</td>\n",
              "      <td>...</td>\n",
              "      <td>2002000001.00</td>\n",
              "      <td>17.00</td>\n",
              "      <td>NaN</td>\n",
              "      <td>2020-01-30</td>\n",
              "      <td>2020-02-19</td>\n",
              "      <td>NaN</td>\n",
              "      <td>released</td>\n",
              "      <td>individual</td>\n",
              "      <td>0.00</td>\n",
              "      <td>2.00</td>\n",
              "    </tr>\n",
              "    <tr>\n",
              "      <th>3</th>\n",
              "      <td>1000000004</td>\n",
              "      <td>7.00</td>\n",
              "      <td>male</td>\n",
              "      <td>1991.00</td>\n",
              "      <td>20s</td>\n",
              "      <td>Korea</td>\n",
              "      <td>Seoul</td>\n",
              "      <td>Mapo-gu</td>\n",
              "      <td>NaN</td>\n",
              "      <td>overseas inflow</td>\n",
              "      <td>...</td>\n",
              "      <td>NaN</td>\n",
              "      <td>9.00</td>\n",
              "      <td>2020-01-26</td>\n",
              "      <td>2020-01-30</td>\n",
              "      <td>2020-02-15</td>\n",
              "      <td>NaN</td>\n",
              "      <td>released</td>\n",
              "      <td>overseas</td>\n",
              "      <td>1.00</td>\n",
              "      <td>0.00</td>\n",
              "    </tr>\n",
              "    <tr>\n",
              "      <th>4</th>\n",
              "      <td>1000000005</td>\n",
              "      <td>9.00</td>\n",
              "      <td>female</td>\n",
              "      <td>1992.00</td>\n",
              "      <td>20s</td>\n",
              "      <td>Korea</td>\n",
              "      <td>Seoul</td>\n",
              "      <td>Seongbuk-gu</td>\n",
              "      <td>NaN</td>\n",
              "      <td>contact with patient</td>\n",
              "      <td>...</td>\n",
              "      <td>1000000002.00</td>\n",
              "      <td>2.00</td>\n",
              "      <td>NaN</td>\n",
              "      <td>2020-01-31</td>\n",
              "      <td>2020-02-24</td>\n",
              "      <td>NaN</td>\n",
              "      <td>released</td>\n",
              "      <td>individual</td>\n",
              "      <td>1.00</td>\n",
              "      <td>0.00</td>\n",
              "    </tr>\n",
              "  </tbody>\n",
              "</table>\n",
              "<p>5 rows × 21 columns</p>\n",
              "</div>\n",
              "      <button class=\"colab-df-convert\" onclick=\"convertToInteractive('df-4dad7c27-aca6-4052-8df1-46027919f2d0')\"\n",
              "              title=\"Convert this dataframe to an interactive table.\"\n",
              "              style=\"display:none;\">\n",
              "        \n",
              "  <svg xmlns=\"http://www.w3.org/2000/svg\" height=\"24px\"viewBox=\"0 0 24 24\"\n",
              "       width=\"24px\">\n",
              "    <path d=\"M0 0h24v24H0V0z\" fill=\"none\"/>\n",
              "    <path d=\"M18.56 5.44l.94 2.06.94-2.06 2.06-.94-2.06-.94-.94-2.06-.94 2.06-2.06.94zm-11 1L8.5 8.5l.94-2.06 2.06-.94-2.06-.94L8.5 2.5l-.94 2.06-2.06.94zm10 10l.94 2.06.94-2.06 2.06-.94-2.06-.94-.94-2.06-.94 2.06-2.06.94z\"/><path d=\"M17.41 7.96l-1.37-1.37c-.4-.4-.92-.59-1.43-.59-.52 0-1.04.2-1.43.59L10.3 9.45l-7.72 7.72c-.78.78-.78 2.05 0 2.83L4 21.41c.39.39.9.59 1.41.59.51 0 1.02-.2 1.41-.59l7.78-7.78 2.81-2.81c.8-.78.8-2.07 0-2.86zM5.41 20L4 18.59l7.72-7.72 1.47 1.35L5.41 20z\"/>\n",
              "  </svg>\n",
              "      </button>\n",
              "      \n",
              "  <style>\n",
              "    .colab-df-container {\n",
              "      display:flex;\n",
              "      flex-wrap:wrap;\n",
              "      gap: 12px;\n",
              "    }\n",
              "\n",
              "    .colab-df-convert {\n",
              "      background-color: #E8F0FE;\n",
              "      border: none;\n",
              "      border-radius: 50%;\n",
              "      cursor: pointer;\n",
              "      display: none;\n",
              "      fill: #1967D2;\n",
              "      height: 32px;\n",
              "      padding: 0 0 0 0;\n",
              "      width: 32px;\n",
              "    }\n",
              "\n",
              "    .colab-df-convert:hover {\n",
              "      background-color: #E2EBFA;\n",
              "      box-shadow: 0px 1px 2px rgba(60, 64, 67, 0.3), 0px 1px 3px 1px rgba(60, 64, 67, 0.15);\n",
              "      fill: #174EA6;\n",
              "    }\n",
              "\n",
              "    [theme=dark] .colab-df-convert {\n",
              "      background-color: #3B4455;\n",
              "      fill: #D2E3FC;\n",
              "    }\n",
              "\n",
              "    [theme=dark] .colab-df-convert:hover {\n",
              "      background-color: #434B5C;\n",
              "      box-shadow: 0px 1px 3px 1px rgba(0, 0, 0, 0.15);\n",
              "      filter: drop-shadow(0px 1px 2px rgba(0, 0, 0, 0.3));\n",
              "      fill: #FFFFFF;\n",
              "    }\n",
              "  </style>\n",
              "\n",
              "      <script>\n",
              "        const buttonEl =\n",
              "          document.querySelector('#df-4dad7c27-aca6-4052-8df1-46027919f2d0 button.colab-df-convert');\n",
              "        buttonEl.style.display =\n",
              "          google.colab.kernel.accessAllowed ? 'block' : 'none';\n",
              "\n",
              "        async function convertToInteractive(key) {\n",
              "          const element = document.querySelector('#df-4dad7c27-aca6-4052-8df1-46027919f2d0');\n",
              "          const dataTable =\n",
              "            await google.colab.kernel.invokeFunction('convertToInteractive',\n",
              "                                                     [key], {});\n",
              "          if (!dataTable) return;\n",
              "\n",
              "          const docLinkHtml = 'Like what you see? Visit the ' +\n",
              "            '<a target=\"_blank\" href=https://colab.research.google.com/notebooks/data_table.ipynb>data table notebook</a>'\n",
              "            + ' to learn more about interactive tables.';\n",
              "          element.innerHTML = '';\n",
              "          dataTable['output_type'] = 'display_data';\n",
              "          await google.colab.output.renderOutput(dataTable, element);\n",
              "          const docLink = document.createElement('div');\n",
              "          docLink.innerHTML = docLinkHtml;\n",
              "          element.appendChild(docLink);\n",
              "        }\n",
              "      </script>\n",
              "    </div>\n",
              "  </div>\n",
              "  "
            ]
          },
          "metadata": {},
          "execution_count": 171
        }
      ]
    },
    {
      "cell_type": "code",
      "source": [
        "print(data.shape)\n",
        "data[(data['essential'].isna()) | (data['non-essential'].isna())].shape"
      ],
      "metadata": {
        "colab": {
          "base_uri": "https://localhost:8080/"
        },
        "id": "YcyxPXoObcu1",
        "outputId": "929d24d9-be8c-49c4-80aa-4ffa422535dc"
      },
      "execution_count": 172,
      "outputs": [
        {
          "output_type": "stream",
          "name": "stdout",
          "text": [
            "(3374, 21)\n"
          ]
        },
        {
          "output_type": "execute_result",
          "data": {
            "text/plain": [
              "(2170, 21)"
            ]
          },
          "metadata": {},
          "execution_count": 172
        }
      ]
    },
    {
      "cell_type": "markdown",
      "source": [
        "안타깝게도 현재 데이터가 보유한 3374 명의 확진자들이 모두 essential/non-essential 특성을 갖고있지는 않습니다.essential/non-essential의 특성을 갖지 않은 케이스는 모두 2170명(약 64%)로 굉장히 많은 부분을 차지하고 있습니다. 이들이 해당 이동을 하지 않았기 때문에 route의 데이터가 없었을 것이라 가정하고, \"이동하지 않았음\"을 의미하는 0의 값을 줄 수도 있습니다. 하지만 이들이 실제로 이동을 하지 않았기 때문에 route 데이터에 존재하지 않았는지는 확신할 수 없습니다. 64%에 해당하는 많은 사람들이 어떤 이동도 하지 않았다는 것고 단정하기는 어렵습니다. 되려 이동은 하였으나 기록되지 않았을 가능성이 더 높습니다. 이들의 값을 추정할 수 있는 데이터나 다른 근거가 더이상 없기 때문에 essential/non-essential 특성을 갖지 않는 확진자들은 모델에 활용할 수 없습니다. 따라서 이들은 모두 제거합니다."
      ],
      "metadata": {
        "id": "0-a9IZHYfSt9"
      }
    },
    {
      "cell_type": "code",
      "source": [
        "print('original data shape:', data.shape)\n",
        "data = data[(data['essential'].notna()) & (data['non-essential'].notna())] \n",
        "print('data shape after removing missing values in essentail/non-essential:', data.shape)"
      ],
      "metadata": {
        "colab": {
          "base_uri": "https://localhost:8080/"
        },
        "id": "kYdqrGQgbcra",
        "outputId": "a7afd260-ab5b-4cc4-ab3b-b2f5b735a657"
      },
      "execution_count": 173,
      "outputs": [
        {
          "output_type": "stream",
          "name": "stdout",
          "text": [
            "original data shape: (3374, 21)\n",
            "data shape after removing missing values in essentail/non-essential: (1204, 21)\n"
          ]
        }
      ]
    },
    {
      "cell_type": "markdown",
      "source": [
        "essential/non-essential 유동성을 나타내는 특성이 완성되었고, 해당 특성을 가진 1204 명의 확진자가 표본에 남게 되었습니다.\n",
        "\n"
      ],
      "metadata": {
        "id": "LfhdLJwAfjBa"
      }
    },
    {
      "cell_type": "markdown",
      "source": [
        "1.3. 접촉 정도 (Number of contacts)\n",
        "\n",
        "위의 유동성과 더불어 확진자들의 행동 유형을 파악할 수 있는 요인 중 하나로 '접촉 정도'를 들 수 있습니다. 유동성은 확진자들이 얼마나 이동을 하였는지를 대표하는 특성이고, 같은 정도의 유동성을 보이는 사람들도 접촉 정도에서는 다른 값을 가지게 됩니다. 예를들어 식당이라는 같은 장소로 같은 횟수의 이동을 한 사람들 중, 혼자 식사를 하러 간 사람과 친구를 만나러 간 사람은 접촉 정도에서 다른 값을 갖게 될 것입니다. 이에따라 확진자들의 행동 유형을 구분짓는 특성 중 하나로 접촉 정도를 활용하며, 접촉 정도는 확진자들의 사회성 정도를 의미합니다. 접촉 정도의 특성은 PatientId의 'contact_number'를 활용합니다.\n",
        "\n",
        "먼저 contact_number의 분포를 보겠습니다."
      ],
      "metadata": {
        "id": "A_ZT8ZU7flck"
      }
    },
    {
      "cell_type": "code",
      "source": [
        "sns.distplot(data['contact_number'])\n",
        "display()"
      ],
      "metadata": {
        "colab": {
          "base_uri": "https://localhost:8080/",
          "height": 280
        },
        "id": "RZVC5wuZbco5",
        "outputId": "43f5950c-166f-4a30-8ac9-12f871755e3d"
      },
      "execution_count": 174,
      "outputs": [
        {
          "output_type": "display_data",
          "data": {
            "text/plain": [
              "<Figure size 432x288 with 1 Axes>"
            ],
            "image/png": "[encoded data removed]"
          },
          "metadata": {
            "needs_background": "light"
          }
        }
      ]
    },
    {
      "cell_type": "code",
      "source": [
        "data['contact_number'].describe()"
      ],
      "metadata": {
        "colab": {
          "base_uri": "https://localhost:8080/"
        },
        "id": "J_pg4xe4bcl2",
        "outputId": "3aa9ab4e-aa9d-4102-f83f-76d02baa92f9"
      },
      "execution_count": 175,
      "outputs": [
        {
          "output_type": "execute_result",
          "data": {
            "text/plain": [
              "count    332.00\n",
              "mean      24.27\n",
              "std       95.07\n",
              "min        0.00\n",
              "25%        2.00\n",
              "50%        5.00\n",
              "75%       17.25\n",
              "max     1160.00\n",
              "Name: contact_number, dtype: float64"
            ]
          },
          "metadata": {},
          "execution_count": 175
        }
      ]
    },
    {
      "cell_type": "markdown",
      "source": [
        "contact_number의 분포를 보면 값을 가진 확진자들 332명의 확진자들은 평균적으로 24명의 사람과 접촉한 것으로 보입니다. 접촉이 많은 사람일수록 상대적으로 훨씬 많은 접촉을 한 것으로 보입니다.\n",
        "\n",
        "특히 접촉 횟수의 최대값을 가진 확진자를 살펴보면,"
      ],
      "metadata": {
        "id": "Guoka5kPf9Ug"
      }
    },
    {
      "cell_type": "code",
      "source": [
        "data[data['contact_number'] == 1160] # 와 개신기함"
      ],
      "metadata": {
        "colab": {
          "base_uri": "https://localhost:8080/",
          "height": 209
        },
        "id": "rgv16oktbcjV",
        "outputId": "6b96eb3b-5533-4d9a-82f3-b4310f73686a"
      },
      "execution_count": 176,
      "outputs": [
        {
          "output_type": "execute_result",
          "data": {
            "text/plain": [
              "     patient_id  global_num     sex  birth_year  age country province city  \\\n",
              "764  1200000031       31.00  female     1959.00  60s   Korea    Daegu  NaN   \n",
              "\n",
              "    disease      infection_case  ...  infected_by  contact_number  \\\n",
              "764     NaN  Shincheonji Church  ...          NaN         1160.00   \n",
              "\n",
              "     symptom_onset_date confirmed_date released_date deceased_date     state  \\\n",
              "764                 NaN     2020-02-18           NaN           NaN  isolated   \n",
              "\n",
              "    infection essential  non-essential  \n",
              "764     group     11.00           5.00  \n",
              "\n",
              "[1 rows x 21 columns]"
            ],
            "text/html": [
              "\n",
              "  <div id=\"df-506d8625-286e-4e51-b990-896baa91853f\">\n",
              "    <div class=\"colab-df-container\">\n",
              "      <div>\n",
              "<style scoped>\n",
              "    .dataframe tbody tr th:only-of-type {\n",
              "        vertical-align: middle;\n",
              "    }\n",
              "\n",
              "    .dataframe tbody tr th {\n",
              "        vertical-align: top;\n",
              "    }\n",
              "\n",
              "    .dataframe thead th {\n",
              "        text-align: right;\n",
              "    }\n",
              "</style>\n",
              "<table border=\"1\" class=\"dataframe\">\n",
              "  <thead>\n",
              "    <tr style=\"text-align: right;\">\n",
              "      <th></th>\n",
              "      <th>patient_id</th>\n",
              "      <th>global_num</th>\n",
              "      <th>sex</th>\n",
              "      <th>birth_year</th>\n",
              "      <th>age</th>\n",
              "      <th>country</th>\n",
              "      <th>province</th>\n",
              "      <th>city</th>\n",
              "      <th>disease</th>\n",
              "      <th>infection_case</th>\n",
              "      <th>...</th>\n",
              "      <th>infected_by</th>\n",
              "      <th>contact_number</th>\n",
              "      <th>symptom_onset_date</th>\n",
              "      <th>confirmed_date</th>\n",
              "      <th>released_date</th>\n",
              "      <th>deceased_date</th>\n",
              "      <th>state</th>\n",
              "      <th>infection</th>\n",
              "      <th>essential</th>\n",
              "      <th>non-essential</th>\n",
              "    </tr>\n",
              "  </thead>\n",
              "  <tbody>\n",
              "    <tr>\n",
              "      <th>764</th>\n",
              "      <td>1200000031</td>\n",
              "      <td>31.00</td>\n",
              "      <td>female</td>\n",
              "      <td>1959.00</td>\n",
              "      <td>60s</td>\n",
              "      <td>Korea</td>\n",
              "      <td>Daegu</td>\n",
              "      <td>NaN</td>\n",
              "      <td>NaN</td>\n",
              "      <td>Shincheonji Church</td>\n",
              "      <td>...</td>\n",
              "      <td>NaN</td>\n",
              "      <td>1160.00</td>\n",
              "      <td>NaN</td>\n",
              "      <td>2020-02-18</td>\n",
              "      <td>NaN</td>\n",
              "      <td>NaN</td>\n",
              "      <td>isolated</td>\n",
              "      <td>group</td>\n",
              "      <td>11.00</td>\n",
              "      <td>5.00</td>\n",
              "    </tr>\n",
              "  </tbody>\n",
              "</table>\n",
              "<p>1 rows × 21 columns</p>\n",
              "</div>\n",
              "      <button class=\"colab-df-convert\" onclick=\"convertToInteractive('df-506d8625-286e-4e51-b990-896baa91853f')\"\n",
              "              title=\"Convert this dataframe to an interactive table.\"\n",
              "              style=\"display:none;\">\n",
              "        \n",
              "  <svg xmlns=\"http://www.w3.org/2000/svg\" height=\"24px\"viewBox=\"0 0 24 24\"\n",
              "       width=\"24px\">\n",
              "    <path d=\"M0 0h24v24H0V0z\" fill=\"none\"/>\n",
              "    <path d=\"M18.56 5.44l.94 2.06.94-2.06 2.06-.94-2.06-.94-.94-2.06-.94 2.06-2.06.94zm-11 1L8.5 8.5l.94-2.06 2.06-.94-2.06-.94L8.5 2.5l-.94 2.06-2.06.94zm10 10l.94 2.06.94-2.06 2.06-.94-2.06-.94-.94-2.06-.94 2.06-2.06.94z\"/><path d=\"M17.41 7.96l-1.37-1.37c-.4-.4-.92-.59-1.43-.59-.52 0-1.04.2-1.43.59L10.3 9.45l-7.72 7.72c-.78.78-.78 2.05 0 2.83L4 21.41c.39.39.9.59 1.41.59.51 0 1.02-.2 1.41-.59l7.78-7.78 2.81-2.81c.8-.78.8-2.07 0-2.86zM5.41 20L4 18.59l7.72-7.72 1.47 1.35L5.41 20z\"/>\n",
              "  </svg>\n",
              "      </button>\n",
              "      \n",
              "  <style>\n",
              "    .colab-df-container {\n",
              "      display:flex;\n",
              "      flex-wrap:wrap;\n",
              "      gap: 12px;\n",
              "    }\n",
              "\n",
              "    .colab-df-convert {\n",
              "      background-color: #E8F0FE;\n",
              "      border: none;\n",
              "      border-radius: 50%;\n",
              "      cursor: pointer;\n",
              "      display: none;\n",
              "      fill: #1967D2;\n",
              "      height: 32px;\n",
              "      padding: 0 0 0 0;\n",
              "      width: 32px;\n",
              "    }\n",
              "\n",
              "    .colab-df-convert:hover {\n",
              "      background-color: #E2EBFA;\n",
              "      box-shadow: 0px 1px 2px rgba(60, 64, 67, 0.3), 0px 1px 3px 1px rgba(60, 64, 67, 0.15);\n",
              "      fill: #174EA6;\n",
              "    }\n",
              "\n",
              "    [theme=dark] .colab-df-convert {\n",
              "      background-color: #3B4455;\n",
              "      fill: #D2E3FC;\n",
              "    }\n",
              "\n",
              "    [theme=dark] .colab-df-convert:hover {\n",
              "      background-color: #434B5C;\n",
              "      box-shadow: 0px 1px 3px 1px rgba(0, 0, 0, 0.15);\n",
              "      filter: drop-shadow(0px 1px 2px rgba(0, 0, 0, 0.3));\n",
              "      fill: #FFFFFF;\n",
              "    }\n",
              "  </style>\n",
              "\n",
              "      <script>\n",
              "        const buttonEl =\n",
              "          document.querySelector('#df-506d8625-286e-4e51-b990-896baa91853f button.colab-df-convert');\n",
              "        buttonEl.style.display =\n",
              "          google.colab.kernel.accessAllowed ? 'block' : 'none';\n",
              "\n",
              "        async function convertToInteractive(key) {\n",
              "          const element = document.querySelector('#df-506d8625-286e-4e51-b990-896baa91853f');\n",
              "          const dataTable =\n",
              "            await google.colab.kernel.invokeFunction('convertToInteractive',\n",
              "                                                     [key], {});\n",
              "          if (!dataTable) return;\n",
              "\n",
              "          const docLinkHtml = 'Like what you see? Visit the ' +\n",
              "            '<a target=\"_blank\" href=https://colab.research.google.com/notebooks/data_table.ipynb>data table notebook</a>'\n",
              "            + ' to learn more about interactive tables.';\n",
              "          element.innerHTML = '';\n",
              "          dataTable['output_type'] = 'display_data';\n",
              "          await google.colab.output.renderOutput(dataTable, element);\n",
              "          const docLink = document.createElement('div');\n",
              "          docLink.innerHTML = docLinkHtml;\n",
              "          element.appendChild(docLink);\n",
              "        }\n",
              "      </script>\n",
              "    </div>\n",
              "  </div>\n",
              "  "
            ]
          },
          "metadata": {},
          "execution_count": 176
        }
      ]
    },
    {
      "cell_type": "markdown",
      "source": [
        "코로나 바이러스 확산 초창기 확진자 수를 기하급수적으로 늘리는데 기여한 '31번 확진자'인 것을 볼 수 있습니다.\n",
        "\n",
        "극단적 값을 갖는 확진자들을 outlier로 봐야하는지에 조심스러운 해석이 필요합니다. 특히나 이번 분석의 주요 특성 중 하나인 '감염 경로'에 '집단감염'이 있고, 극단적인 접촉 정도를 가진 확진자들은 집단감염의 사례였을 가능성이 있습니다. 또는 극단적 값을 가진 사례가 '개인감염'이었다면, 이는 집단감염과 구분지을 수 있는 척도가 됩니다. 따라서 contact_number의 값을 모두 활용하기로 합니다.\n",
        "\n",
        "다만 그 값을 갖지 않는 사람들은 위의 '유동성'과 마찬가지로 \"접촉이 없었다\"고 확신할 근거가 없습니다. 따라서 접촉 횟수의 값이 없는 사람들은 모두 제거합니다."
      ],
      "metadata": {
        "id": "-1n_SWsOgHuO"
      }
    },
    {
      "cell_type": "code",
      "source": [
        "print('original data shape:', data.shape)\n",
        "data = data[data['contact_number'].notna()]\n",
        "print('data shape after removing missing values in contact_number:', data.shape)\n",
        "#데이터 갯수가 이렇게 줄어든게 신기했음, 내가 하는 일도 원본 주가 시계열 데이터는 10만개였지만, 결국 분석대상이 되는 트레이딩 데이터는 4000개도 되지 않았거든..."
      ],
      "metadata": {
        "colab": {
          "base_uri": "https://localhost:8080/"
        },
        "id": "HzVM9euUfcbM",
        "outputId": "ee333a1f-fef1-4c9d-d4fe-c89cc3063a1b"
      },
      "execution_count": 177,
      "outputs": [
        {
          "output_type": "stream",
          "name": "stdout",
          "text": [
            "original data shape: (1204, 21)\n",
            "data shape after removing missing values in contact_number: (332, 21)\n"
          ]
        }
      ]
    },
    {
      "cell_type": "markdown",
      "source": [
        "현재까지 데이터에 남은 확진자는 총 332명입니다."
      ],
      "metadata": {
        "id": "PQIsY4qbhyQG"
      }
    },
    {
      "cell_type": "markdown",
      "source": [
        "1.4. 확진받기까지 걸린 시간 (Diagnosis time)\n",
        "\n",
        "확진받기까지 걸린 시간이란 증상이 처음 발현되고 얼마나 빨리 코로나19 확진을 받았는지를 의미합니다. 확진을 받기까지 걸린 시간은 사람의 선택/행동에 따라 값이 달라질 수 있는 특성이기 때문에 행동 특성이라고 볼 수 있습니다. 예를들어 진단 검사를 얼마나 신속하게 받으러 갔는지, 코로나 진단 검사 의료진이 코로나 바이러스의 가능성을 얼마나 빨리 발견해 얼마나 신속하게 검사를 받게 했는지에 따라 그 값이 달라질 수 있습니다. 확진받기까지 걸린 시간은 ‘증상이 처음 시작된 날(symptom_onset_date)’과 ‘확진 날짜(confirmed_date)’ 사이의 차이로 정의됩니다.\n",
        "\n",
        "먼저 활용할 변수의 결측치를 확인합니다."
      ],
      "metadata": {
        "id": "1u12axYWhzKd"
      }
    },
    {
      "cell_type": "code",
      "source": [
        "print('data shape:', data.shape)\n",
        "print('missing values in symptom_onset_date:', data[data['symptom_onset_date'].isna()].shape)\n",
        "print('missing values in confirmed_date:', data[data['confirmed_date'].isna()].shape)"
      ],
      "metadata": {
        "colab": {
          "base_uri": "https://localhost:8080/"
        },
        "id": "vLfv2e6BfcY5",
        "outputId": "eb57f866-e6af-4dce-9f59-4d58142585bc"
      },
      "execution_count": 178,
      "outputs": [
        {
          "output_type": "stream",
          "name": "stdout",
          "text": [
            "data shape: (332, 21)\n",
            "missing values in symptom_onset_date: (208, 21)\n",
            "missing values in confirmed_date: (0, 21)\n"
          ]
        }
      ]
    },
    {
      "cell_type": "markdown",
      "source": [
        "총 332명의 확진자 중, 증상이 발현한 날짜(symptom_onset_date)에 208개의 결측치가 존재합니다. 코로나19는 다른 바이러스와 달리 바이러스를 보유하고 있더라도 증상을 보이지 않을 수 있는 것으로 유명합니다. 따라서 symptom_onset_date가 결측치인 경우, 증상이 나타나지 않았기 때문에 결측치로 기록되었을 가능성이 있습니다. 이 경우 확진받기까지 걸린 시간은 0으로 상정하고 증상이 나타난 직후 확진을 받았다고 가정할 수도 있습니다. 하지만 결측치 중에 증상이 나타났으나 기록이 없는 경우도 배제할 수는 없습니다. 안타깝게도 여기에서 더 나아갈 데이터와 근거가 부족합니다. 이에따라 증상이 발현한 날짜의 정보가 없는 확진자들은 모두 제거합니다."
      ],
      "metadata": {
        "id": "1GfpoU_pjFDc"
      }
    },
    {
      "cell_type": "code",
      "source": [
        "### Cleaning symptom onset date\n",
        "data[data['symptom_onset_date'] == ' ']\n",
        "data['symptom_onset_date'] = np.where((data['symptom_onset_date'] == ' '), None, data['symptom_onset_date']) #무슨 뜻이지?\n",
        "\n",
        "### Remove missing values in symptom_onset_date\n",
        "print('original data shape: ', data.shape)\n",
        "data = data[data['symptom_onset_date'].notna()]\n",
        "print('data excluding missing values in symptom_onset_date: ', data.shape)"
      ],
      "metadata": {
        "colab": {
          "base_uri": "https://localhost:8080/"
        },
        "id": "BOMRDTrQfcWs",
        "outputId": "563114d1-2a90-4768-e1b1-c8d0bbf513db"
      },
      "execution_count": 179,
      "outputs": [
        {
          "output_type": "stream",
          "name": "stdout",
          "text": [
            "original data shape:  (332, 21)\n",
            "data excluding missing values in symptom_onset_date:  (124, 21)\n"
          ]
        }
      ]
    },
    {
      "cell_type": "markdown",
      "source": [
        "결측치 208개가 모두 제거되어 데이터에는 124명의 확진자가 남았습니다. 이들을 대상으로 확진받기까지의 시간을 구할 수 있도록 두 변수를 date format으로 변환하여줍니다."
      ],
      "metadata": {
        "id": "H4cSSerCjxAb"
      }
    },
    {
      "cell_type": "code",
      "source": [
        "### Define time that lapsed between the onset of COVID-19 symptoms and the official COVID-19 diagnosis\n",
        "\n",
        "## Convert str into date func.\n",
        "def convert_date(x):\n",
        "    x = pd.datetime.strptime(x, '%Y-%m-%d').date()\n",
        "    return x\n",
        "\n",
        "## convert symptom_onset_date/confirmed_date into date format\n",
        "data['symptom_onset_date'] = data['symptom_onset_date'].apply(lambda x : convert_date(x))\n",
        "data['confirmed_date'] = data['confirmed_date'].apply(lambda x: convert_date(x))\n",
        "# 와 진짜 apply lambda 개신기함...\n",
        "\n",
        "data.head(3)"
      ],
      "metadata": {
        "colab": {
          "base_uri": "https://localhost:8080/",
          "height": 289
        },
        "id": "ULS2Br3WfcUI",
        "outputId": "f5d8344f-d86c-4b70-dcfd-82a237d1fe1c"
      },
      "execution_count": 180,
      "outputs": [
        {
          "output_type": "execute_result",
          "data": {
            "text/plain": [
              "    patient_id  global_num     sex  birth_year  age country province  \\\n",
              "0   1000000001        2.00    male     1964.00  50s   Korea    Seoul   \n",
              "3   1000000004        7.00    male     1991.00  20s   Korea    Seoul   \n",
              "13  1000000014       30.00  female     1952.00  60s   Korea    Seoul   \n",
              "\n",
              "          city disease        infection_case  ...   infected_by  \\\n",
              "0   Gangseo-gu     NaN       overseas inflow  ...           NaN   \n",
              "3      Mapo-gu     NaN       overseas inflow  ...           NaN   \n",
              "13   Jongno-gu     NaN  contact with patient  ... 1000000013.00   \n",
              "\n",
              "    contact_number  symptom_onset_date confirmed_date released_date  \\\n",
              "0            75.00          2020-01-22     2020-01-23    2020-02-05   \n",
              "3             9.00          2020-01-26     2020-01-30    2020-02-15   \n",
              "13           27.00          2020-02-06     2020-02-16    2020-03-12   \n",
              "\n",
              "   deceased_date     state   infection essential  non-essential  \n",
              "0            NaN  released    overseas      1.00           1.00  \n",
              "3            NaN  released    overseas      1.00           0.00  \n",
              "13           NaN  released  individual     10.00           3.00  \n",
              "\n",
              "[3 rows x 21 columns]"
            ],
            "text/html": [
              "\n",
              "  <div id=\"df-3410d582-8c9f-4221-957f-dad822b92edc\">\n",
              "    <div class=\"colab-df-container\">\n",
              "      <div>\n",
              "<style scoped>\n",
              "    .dataframe tbody tr th:only-of-type {\n",
              "        vertical-align: middle;\n",
              "    }\n",
              "\n",
              "    .dataframe tbody tr th {\n",
              "        vertical-align: top;\n",
              "    }\n",
              "\n",
              "    .dataframe thead th {\n",
              "        text-align: right;\n",
              "    }\n",
              "</style>\n",
              "<table border=\"1\" class=\"dataframe\">\n",
              "  <thead>\n",
              "    <tr style=\"text-align: right;\">\n",
              "      <th></th>\n",
              "      <th>patient_id</th>\n",
              "      <th>global_num</th>\n",
              "      <th>sex</th>\n",
              "      <th>birth_year</th>\n",
              "      <th>age</th>\n",
              "      <th>country</th>\n",
              "      <th>province</th>\n",
              "      <th>city</th>\n",
              "      <th>disease</th>\n",
              "      <th>infection_case</th>\n",
              "      <th>...</th>\n",
              "      <th>infected_by</th>\n",
              "      <th>contact_number</th>\n",
              "      <th>symptom_onset_date</th>\n",
              "      <th>confirmed_date</th>\n",
              "      <th>released_date</th>\n",
              "      <th>deceased_date</th>\n",
              "      <th>state</th>\n",
              "      <th>infection</th>\n",
              "      <th>essential</th>\n",
              "      <th>non-essential</th>\n",
              "    </tr>\n",
              "  </thead>\n",
              "  <tbody>\n",
              "    <tr>\n",
              "      <th>0</th>\n",
              "      <td>1000000001</td>\n",
              "      <td>2.00</td>\n",
              "      <td>male</td>\n",
              "      <td>1964.00</td>\n",
              "      <td>50s</td>\n",
              "      <td>Korea</td>\n",
              "      <td>Seoul</td>\n",
              "      <td>Gangseo-gu</td>\n",
              "      <td>NaN</td>\n",
              "      <td>overseas inflow</td>\n",
              "      <td>...</td>\n",
              "      <td>NaN</td>\n",
              "      <td>75.00</td>\n",
              "      <td>2020-01-22</td>\n",
              "      <td>2020-01-23</td>\n",
              "      <td>2020-02-05</td>\n",
              "      <td>NaN</td>\n",
              "      <td>released</td>\n",
              "      <td>overseas</td>\n",
              "      <td>1.00</td>\n",
              "      <td>1.00</td>\n",
              "    </tr>\n",
              "    <tr>\n",
              "      <th>3</th>\n",
              "      <td>1000000004</td>\n",
              "      <td>7.00</td>\n",
              "      <td>male</td>\n",
              "      <td>1991.00</td>\n",
              "      <td>20s</td>\n",
              "      <td>Korea</td>\n",
              "      <td>Seoul</td>\n",
              "      <td>Mapo-gu</td>\n",
              "      <td>NaN</td>\n",
              "      <td>overseas inflow</td>\n",
              "      <td>...</td>\n",
              "      <td>NaN</td>\n",
              "      <td>9.00</td>\n",
              "      <td>2020-01-26</td>\n",
              "      <td>2020-01-30</td>\n",
              "      <td>2020-02-15</td>\n",
              "      <td>NaN</td>\n",
              "      <td>released</td>\n",
              "      <td>overseas</td>\n",
              "      <td>1.00</td>\n",
              "      <td>0.00</td>\n",
              "    </tr>\n",
              "    <tr>\n",
              "      <th>13</th>\n",
              "      <td>1000000014</td>\n",
              "      <td>30.00</td>\n",
              "      <td>female</td>\n",
              "      <td>1952.00</td>\n",
              "      <td>60s</td>\n",
              "      <td>Korea</td>\n",
              "      <td>Seoul</td>\n",
              "      <td>Jongno-gu</td>\n",
              "      <td>NaN</td>\n",
              "      <td>contact with patient</td>\n",
              "      <td>...</td>\n",
              "      <td>1000000013.00</td>\n",
              "      <td>27.00</td>\n",
              "      <td>2020-02-06</td>\n",
              "      <td>2020-02-16</td>\n",
              "      <td>2020-03-12</td>\n",
              "      <td>NaN</td>\n",
              "      <td>released</td>\n",
              "      <td>individual</td>\n",
              "      <td>10.00</td>\n",
              "      <td>3.00</td>\n",
              "    </tr>\n",
              "  </tbody>\n",
              "</table>\n",
              "<p>3 rows × 21 columns</p>\n",
              "</div>\n",
              "      <button class=\"colab-df-convert\" onclick=\"convertToInteractive('df-3410d582-8c9f-4221-957f-dad822b92edc')\"\n",
              "              title=\"Convert this dataframe to an interactive table.\"\n",
              "              style=\"display:none;\">\n",
              "        \n",
              "  <svg xmlns=\"http://www.w3.org/2000/svg\" height=\"24px\"viewBox=\"0 0 24 24\"\n",
              "       width=\"24px\">\n",
              "    <path d=\"M0 0h24v24H0V0z\" fill=\"none\"/>\n",
              "    <path d=\"M18.56 5.44l.94 2.06.94-2.06 2.06-.94-2.06-.94-.94-2.06-.94 2.06-2.06.94zm-11 1L8.5 8.5l.94-2.06 2.06-.94-2.06-.94L8.5 2.5l-.94 2.06-2.06.94zm10 10l.94 2.06.94-2.06 2.06-.94-2.06-.94-.94-2.06-.94 2.06-2.06.94z\"/><path d=\"M17.41 7.96l-1.37-1.37c-.4-.4-.92-.59-1.43-.59-.52 0-1.04.2-1.43.59L10.3 9.45l-7.72 7.72c-.78.78-.78 2.05 0 2.83L4 21.41c.39.39.9.59 1.41.59.51 0 1.02-.2 1.41-.59l7.78-7.78 2.81-2.81c.8-.78.8-2.07 0-2.86zM5.41 20L4 18.59l7.72-7.72 1.47 1.35L5.41 20z\"/>\n",
              "  </svg>\n",
              "      </button>\n",
              "      \n",
              "  <style>\n",
              "    .colab-df-container {\n",
              "      display:flex;\n",
              "      flex-wrap:wrap;\n",
              "      gap: 12px;\n",
              "    }\n",
              "\n",
              "    .colab-df-convert {\n",
              "      background-color: #E8F0FE;\n",
              "      border: none;\n",
              "      border-radius: 50%;\n",
              "      cursor: pointer;\n",
              "      display: none;\n",
              "      fill: #1967D2;\n",
              "      height: 32px;\n",
              "      padding: 0 0 0 0;\n",
              "      width: 32px;\n",
              "    }\n",
              "\n",
              "    .colab-df-convert:hover {\n",
              "      background-color: #E2EBFA;\n",
              "      box-shadow: 0px 1px 2px rgba(60, 64, 67, 0.3), 0px 1px 3px 1px rgba(60, 64, 67, 0.15);\n",
              "      fill: #174EA6;\n",
              "    }\n",
              "\n",
              "    [theme=dark] .colab-df-convert {\n",
              "      background-color: #3B4455;\n",
              "      fill: #D2E3FC;\n",
              "    }\n",
              "\n",
              "    [theme=dark] .colab-df-convert:hover {\n",
              "      background-color: #434B5C;\n",
              "      box-shadow: 0px 1px 3px 1px rgba(0, 0, 0, 0.15);\n",
              "      filter: drop-shadow(0px 1px 2px rgba(0, 0, 0, 0.3));\n",
              "      fill: #FFFFFF;\n",
              "    }\n",
              "  </style>\n",
              "\n",
              "      <script>\n",
              "        const buttonEl =\n",
              "          document.querySelector('#df-3410d582-8c9f-4221-957f-dad822b92edc button.colab-df-convert');\n",
              "        buttonEl.style.display =\n",
              "          google.colab.kernel.accessAllowed ? 'block' : 'none';\n",
              "\n",
              "        async function convertToInteractive(key) {\n",
              "          const element = document.querySelector('#df-3410d582-8c9f-4221-957f-dad822b92edc');\n",
              "          const dataTable =\n",
              "            await google.colab.kernel.invokeFunction('convertToInteractive',\n",
              "                                                     [key], {});\n",
              "          if (!dataTable) return;\n",
              "\n",
              "          const docLinkHtml = 'Like what you see? Visit the ' +\n",
              "            '<a target=\"_blank\" href=https://colab.research.google.com/notebooks/data_table.ipynb>data table notebook</a>'\n",
              "            + ' to learn more about interactive tables.';\n",
              "          element.innerHTML = '';\n",
              "          dataTable['output_type'] = 'display_data';\n",
              "          await google.colab.output.renderOutput(dataTable, element);\n",
              "          const docLink = document.createElement('div');\n",
              "          docLink.innerHTML = docLinkHtml;\n",
              "          element.appendChild(docLink);\n",
              "        }\n",
              "      </script>\n",
              "    </div>\n",
              "  </div>\n",
              "  "
            ]
          },
          "metadata": {},
          "execution_count": 180
        }
      ]
    },
    {
      "cell_type": "markdown",
      "source": [
        "date format으로 변환된 symptom_onset_date와 confirmed_date 사이의 날짜 차이를 구해줍니다. 일단 날짜 차이(e.g. 10 days)를 구하고 나면, date format은 그 자체로는 모델에 활용할 수 없기 때문에 모델에서 활용할 수 있도록 integer로 다시 변환하여 마지막 변환된 값을 'days'라는 이름으로 저장합니다."
      ],
      "metadata": {
        "id": "mcbfDzZzmBno"
      }
    },
    {
      "cell_type": "code",
      "source": [
        "## find time lapsed between symptom_onset_date and confirmed_date\n",
        "data['days_notice'] = data['confirmed_date'] - data['symptom_onset_date'] \n",
        "data['hours_notice'] = data['days_notice'].apply(lambda x: round(x.total_seconds()/3600, 2))\n",
        "data['days'] = data['hours_notice'].apply(lambda x: int(x/24))\n",
        "data.head(3)"
      ],
      "metadata": {
        "colab": {
          "base_uri": "https://localhost:8080/",
          "height": 289
        },
        "id": "UIdtl4ABfcSR",
        "outputId": "7f3c1d8a-6fb0-41dc-be7f-eb305daed5a8"
      },
      "execution_count": 181,
      "outputs": [
        {
          "output_type": "execute_result",
          "data": {
            "text/plain": [
              "    patient_id  global_num     sex  birth_year  age country province  \\\n",
              "0   1000000001        2.00    male     1964.00  50s   Korea    Seoul   \n",
              "3   1000000004        7.00    male     1991.00  20s   Korea    Seoul   \n",
              "13  1000000014       30.00  female     1952.00  60s   Korea    Seoul   \n",
              "\n",
              "          city disease        infection_case  ...  confirmed_date  \\\n",
              "0   Gangseo-gu     NaN       overseas inflow  ...      2020-01-23   \n",
              "3      Mapo-gu     NaN       overseas inflow  ...      2020-01-30   \n",
              "13   Jongno-gu     NaN  contact with patient  ...      2020-02-16   \n",
              "\n",
              "    released_date  deceased_date     state   infection essential  \\\n",
              "0      2020-02-05            NaN  released    overseas      1.00   \n",
              "3      2020-02-15            NaN  released    overseas      1.00   \n",
              "13     2020-03-12            NaN  released  individual     10.00   \n",
              "\n",
              "   non-essential days_notice hours_notice  days  \n",
              "0           1.00      1 days        24.00     1  \n",
              "3           0.00      4 days        96.00     4  \n",
              "13          3.00     10 days       240.00    10  \n",
              "\n",
              "[3 rows x 24 columns]"
            ],
            "text/html": [
              "\n",
              "  <div id=\"df-f914ab1f-03ac-43c6-b131-c3a05d660d84\">\n",
              "    <div class=\"colab-df-container\">\n",
              "      <div>\n",
              "<style scoped>\n",
              "    .dataframe tbody tr th:only-of-type {\n",
              "        vertical-align: middle;\n",
              "    }\n",
              "\n",
              "    .dataframe tbody tr th {\n",
              "        vertical-align: top;\n",
              "    }\n",
              "\n",
              "    .dataframe thead th {\n",
              "        text-align: right;\n",
              "    }\n",
              "</style>\n",
              "<table border=\"1\" class=\"dataframe\">\n",
              "  <thead>\n",
              "    <tr style=\"text-align: right;\">\n",
              "      <th></th>\n",
              "      <th>patient_id</th>\n",
              "      <th>global_num</th>\n",
              "      <th>sex</th>\n",
              "      <th>birth_year</th>\n",
              "      <th>age</th>\n",
              "      <th>country</th>\n",
              "      <th>province</th>\n",
              "      <th>city</th>\n",
              "      <th>disease</th>\n",
              "      <th>infection_case</th>\n",
              "      <th>...</th>\n",
              "      <th>confirmed_date</th>\n",
              "      <th>released_date</th>\n",
              "      <th>deceased_date</th>\n",
              "      <th>state</th>\n",
              "      <th>infection</th>\n",
              "      <th>essential</th>\n",
              "      <th>non-essential</th>\n",
              "      <th>days_notice</th>\n",
              "      <th>hours_notice</th>\n",
              "      <th>days</th>\n",
              "    </tr>\n",
              "  </thead>\n",
              "  <tbody>\n",
              "    <tr>\n",
              "      <th>0</th>\n",
              "      <td>1000000001</td>\n",
              "      <td>2.00</td>\n",
              "      <td>male</td>\n",
              "      <td>1964.00</td>\n",
              "      <td>50s</td>\n",
              "      <td>Korea</td>\n",
              "      <td>Seoul</td>\n",
              "      <td>Gangseo-gu</td>\n",
              "      <td>NaN</td>\n",
              "      <td>overseas inflow</td>\n",
              "      <td>...</td>\n",
              "      <td>2020-01-23</td>\n",
              "      <td>2020-02-05</td>\n",
              "      <td>NaN</td>\n",
              "      <td>released</td>\n",
              "      <td>overseas</td>\n",
              "      <td>1.00</td>\n",
              "      <td>1.00</td>\n",
              "      <td>1 days</td>\n",
              "      <td>24.00</td>\n",
              "      <td>1</td>\n",
              "    </tr>\n",
              "    <tr>\n",
              "      <th>3</th>\n",
              "      <td>1000000004</td>\n",
              "      <td>7.00</td>\n",
              "      <td>male</td>\n",
              "      <td>1991.00</td>\n",
              "      <td>20s</td>\n",
              "      <td>Korea</td>\n",
              "      <td>Seoul</td>\n",
              "      <td>Mapo-gu</td>\n",
              "      <td>NaN</td>\n",
              "      <td>overseas inflow</td>\n",
              "      <td>...</td>\n",
              "      <td>2020-01-30</td>\n",
              "      <td>2020-02-15</td>\n",
              "      <td>NaN</td>\n",
              "      <td>released</td>\n",
              "      <td>overseas</td>\n",
              "      <td>1.00</td>\n",
              "      <td>0.00</td>\n",
              "      <td>4 days</td>\n",
              "      <td>96.00</td>\n",
              "      <td>4</td>\n",
              "    </tr>\n",
              "    <tr>\n",
              "      <th>13</th>\n",
              "      <td>1000000014</td>\n",
              "      <td>30.00</td>\n",
              "      <td>female</td>\n",
              "      <td>1952.00</td>\n",
              "      <td>60s</td>\n",
              "      <td>Korea</td>\n",
              "      <td>Seoul</td>\n",
              "      <td>Jongno-gu</td>\n",
              "      <td>NaN</td>\n",
              "      <td>contact with patient</td>\n",
              "      <td>...</td>\n",
              "      <td>2020-02-16</td>\n",
              "      <td>2020-03-12</td>\n",
              "      <td>NaN</td>\n",
              "      <td>released</td>\n",
              "      <td>individual</td>\n",
              "      <td>10.00</td>\n",
              "      <td>3.00</td>\n",
              "      <td>10 days</td>\n",
              "      <td>240.00</td>\n",
              "      <td>10</td>\n",
              "    </tr>\n",
              "  </tbody>\n",
              "</table>\n",
              "<p>3 rows × 24 columns</p>\n",
              "</div>\n",
              "      <button class=\"colab-df-convert\" onclick=\"convertToInteractive('df-f914ab1f-03ac-43c6-b131-c3a05d660d84')\"\n",
              "              title=\"Convert this dataframe to an interactive table.\"\n",
              "              style=\"display:none;\">\n",
              "        \n",
              "  <svg xmlns=\"http://www.w3.org/2000/svg\" height=\"24px\"viewBox=\"0 0 24 24\"\n",
              "       width=\"24px\">\n",
              "    <path d=\"M0 0h24v24H0V0z\" fill=\"none\"/>\n",
              "    <path d=\"M18.56 5.44l.94 2.06.94-2.06 2.06-.94-2.06-.94-.94-2.06-.94 2.06-2.06.94zm-11 1L8.5 8.5l.94-2.06 2.06-.94-2.06-.94L8.5 2.5l-.94 2.06-2.06.94zm10 10l.94 2.06.94-2.06 2.06-.94-2.06-.94-.94-2.06-.94 2.06-2.06.94z\"/><path d=\"M17.41 7.96l-1.37-1.37c-.4-.4-.92-.59-1.43-.59-.52 0-1.04.2-1.43.59L10.3 9.45l-7.72 7.72c-.78.78-.78 2.05 0 2.83L4 21.41c.39.39.9.59 1.41.59.51 0 1.02-.2 1.41-.59l7.78-7.78 2.81-2.81c.8-.78.8-2.07 0-2.86zM5.41 20L4 18.59l7.72-7.72 1.47 1.35L5.41 20z\"/>\n",
              "  </svg>\n",
              "      </button>\n",
              "      \n",
              "  <style>\n",
              "    .colab-df-container {\n",
              "      display:flex;\n",
              "      flex-wrap:wrap;\n",
              "      gap: 12px;\n",
              "    }\n",
              "\n",
              "    .colab-df-convert {\n",
              "      background-color: #E8F0FE;\n",
              "      border: none;\n",
              "      border-radius: 50%;\n",
              "      cursor: pointer;\n",
              "      display: none;\n",
              "      fill: #1967D2;\n",
              "      height: 32px;\n",
              "      padding: 0 0 0 0;\n",
              "      width: 32px;\n",
              "    }\n",
              "\n",
              "    .colab-df-convert:hover {\n",
              "      background-color: #E2EBFA;\n",
              "      box-shadow: 0px 1px 2px rgba(60, 64, 67, 0.3), 0px 1px 3px 1px rgba(60, 64, 67, 0.15);\n",
              "      fill: #174EA6;\n",
              "    }\n",
              "\n",
              "    [theme=dark] .colab-df-convert {\n",
              "      background-color: #3B4455;\n",
              "      fill: #D2E3FC;\n",
              "    }\n",
              "\n",
              "    [theme=dark] .colab-df-convert:hover {\n",
              "      background-color: #434B5C;\n",
              "      box-shadow: 0px 1px 3px 1px rgba(0, 0, 0, 0.15);\n",
              "      filter: drop-shadow(0px 1px 2px rgba(0, 0, 0, 0.3));\n",
              "      fill: #FFFFFF;\n",
              "    }\n",
              "  </style>\n",
              "\n",
              "      <script>\n",
              "        const buttonEl =\n",
              "          document.querySelector('#df-f914ab1f-03ac-43c6-b131-c3a05d660d84 button.colab-df-convert');\n",
              "        buttonEl.style.display =\n",
              "          google.colab.kernel.accessAllowed ? 'block' : 'none';\n",
              "\n",
              "        async function convertToInteractive(key) {\n",
              "          const element = document.querySelector('#df-f914ab1f-03ac-43c6-b131-c3a05d660d84');\n",
              "          const dataTable =\n",
              "            await google.colab.kernel.invokeFunction('convertToInteractive',\n",
              "                                                     [key], {});\n",
              "          if (!dataTable) return;\n",
              "\n",
              "          const docLinkHtml = 'Like what you see? Visit the ' +\n",
              "            '<a target=\"_blank\" href=https://colab.research.google.com/notebooks/data_table.ipynb>data table notebook</a>'\n",
              "            + ' to learn more about interactive tables.';\n",
              "          element.innerHTML = '';\n",
              "          dataTable['output_type'] = 'display_data';\n",
              "          await google.colab.output.renderOutput(dataTable, element);\n",
              "          const docLink = document.createElement('div');\n",
              "          docLink.innerHTML = docLinkHtml;\n",
              "          element.appendChild(docLink);\n",
              "        }\n",
              "      </script>\n",
              "    </div>\n",
              "  </div>\n",
              "  "
            ]
          },
          "metadata": {},
          "execution_count": 181
        }
      ]
    },
    {
      "cell_type": "markdown",
      "source": [
        "이상으로 모델에 활용할 네 가지의 행동 특성 1) 감염 경로 유형, 2) 유동성, 3) 접촉 정도, 4) 확진받기까지 걸린 시간의 제작을 모두 완료하였습니다.\n",
        "\n"
      ],
      "metadata": {
        "id": "tIarp9VCmgH_"
      }
    },
    {
      "cell_type": "markdown",
      "source": [
        "2. Building cluster model\n",
        "\n",
        "\n",
        "2.1. Feature transformation\n",
        "\n",
        "우선 전체 데이터셋에서 위에서 제작한 행동 특성들을 추출해 모델에 활용합니다."
      ],
      "metadata": {
        "id": "zTifwoe2miOt"
      }
    },
    {
      "cell_type": "code",
      "source": [
        "data_ = data[['patient_id', \n",
        "              'days', \n",
        "              'contact_number', \n",
        "              'essential', 'non-essential', \n",
        "              'infection']]\n",
        "data_.reset_index(drop = True, inplace = True)\n",
        "print(data_.shape)\n",
        "data_.head()"
      ],
      "metadata": {
        "colab": {
          "base_uri": "https://localhost:8080/",
          "height": 225
        },
        "id": "s4ogiJe_mlwq",
        "outputId": "bd730518-edde-48ad-d521-1b324337b18e"
      },
      "execution_count": 182,
      "outputs": [
        {
          "output_type": "stream",
          "name": "stdout",
          "text": [
            "(124, 6)\n"
          ]
        },
        {
          "output_type": "execute_result",
          "data": {
            "text/plain": [
              "   patient_id  days  contact_number  essential  non-essential   infection\n",
              "0  1000000001     1           75.00       1.00           1.00    overseas\n",
              "1  1000000004     4            9.00       1.00           0.00    overseas\n",
              "2  1000000014    10           27.00      10.00           3.00  individual\n",
              "3  1000000015     8            8.00       6.00           3.00       group\n",
              "4  1000000302     1            8.00       1.00           0.00    overseas"
            ],
            "text/html": [
              "\n",
              "  <div id=\"df-d6fbaf05-3528-4b6a-8572-9c06a9a703c7\">\n",
              "    <div class=\"colab-df-container\">\n",
              "      <div>\n",
              "<style scoped>\n",
              "    .dataframe tbody tr th:only-of-type {\n",
              "        vertical-align: middle;\n",
              "    }\n",
              "\n",
              "    .dataframe tbody tr th {\n",
              "        vertical-align: top;\n",
              "    }\n",
              "\n",
              "    .dataframe thead th {\n",
              "        text-align: right;\n",
              "    }\n",
              "</style>\n",
              "<table border=\"1\" class=\"dataframe\">\n",
              "  <thead>\n",
              "    <tr style=\"text-align: right;\">\n",
              "      <th></th>\n",
              "      <th>patient_id</th>\n",
              "      <th>days</th>\n",
              "      <th>contact_number</th>\n",
              "      <th>essential</th>\n",
              "      <th>non-essential</th>\n",
              "      <th>infection</th>\n",
              "    </tr>\n",
              "  </thead>\n",
              "  <tbody>\n",
              "    <tr>\n",
              "      <th>0</th>\n",
              "      <td>1000000001</td>\n",
              "      <td>1</td>\n",
              "      <td>75.00</td>\n",
              "      <td>1.00</td>\n",
              "      <td>1.00</td>\n",
              "      <td>overseas</td>\n",
              "    </tr>\n",
              "    <tr>\n",
              "      <th>1</th>\n",
              "      <td>1000000004</td>\n",
              "      <td>4</td>\n",
              "      <td>9.00</td>\n",
              "      <td>1.00</td>\n",
              "      <td>0.00</td>\n",
              "      <td>overseas</td>\n",
              "    </tr>\n",
              "    <tr>\n",
              "      <th>2</th>\n",
              "      <td>1000000014</td>\n",
              "      <td>10</td>\n",
              "      <td>27.00</td>\n",
              "      <td>10.00</td>\n",
              "      <td>3.00</td>\n",
              "      <td>individual</td>\n",
              "    </tr>\n",
              "    <tr>\n",
              "      <th>3</th>\n",
              "      <td>1000000015</td>\n",
              "      <td>8</td>\n",
              "      <td>8.00</td>\n",
              "      <td>6.00</td>\n",
              "      <td>3.00</td>\n",
              "      <td>group</td>\n",
              "    </tr>\n",
              "    <tr>\n",
              "      <th>4</th>\n",
              "      <td>1000000302</td>\n",
              "      <td>1</td>\n",
              "      <td>8.00</td>\n",
              "      <td>1.00</td>\n",
              "      <td>0.00</td>\n",
              "      <td>overseas</td>\n",
              "    </tr>\n",
              "  </tbody>\n",
              "</table>\n",
              "</div>\n",
              "      <button class=\"colab-df-convert\" onclick=\"convertToInteractive('df-d6fbaf05-3528-4b6a-8572-9c06a9a703c7')\"\n",
              "              title=\"Convert this dataframe to an interactive table.\"\n",
              "              style=\"display:none;\">\n",
              "        \n",
              "  <svg xmlns=\"http://www.w3.org/2000/svg\" height=\"24px\"viewBox=\"0 0 24 24\"\n",
              "       width=\"24px\">\n",
              "    <path d=\"M0 0h24v24H0V0z\" fill=\"none\"/>\n",
              "    <path d=\"M18.56 5.44l.94 2.06.94-2.06 2.06-.94-2.06-.94-.94-2.06-.94 2.06-2.06.94zm-11 1L8.5 8.5l.94-2.06 2.06-.94-2.06-.94L8.5 2.5l-.94 2.06-2.06.94zm10 10l.94 2.06.94-2.06 2.06-.94-2.06-.94-.94-2.06-.94 2.06-2.06.94z\"/><path d=\"M17.41 7.96l-1.37-1.37c-.4-.4-.92-.59-1.43-.59-.52 0-1.04.2-1.43.59L10.3 9.45l-7.72 7.72c-.78.78-.78 2.05 0 2.83L4 21.41c.39.39.9.59 1.41.59.51 0 1.02-.2 1.41-.59l7.78-7.78 2.81-2.81c.8-.78.8-2.07 0-2.86zM5.41 20L4 18.59l7.72-7.72 1.47 1.35L5.41 20z\"/>\n",
              "  </svg>\n",
              "      </button>\n",
              "      \n",
              "  <style>\n",
              "    .colab-df-container {\n",
              "      display:flex;\n",
              "      flex-wrap:wrap;\n",
              "      gap: 12px;\n",
              "    }\n",
              "\n",
              "    .colab-df-convert {\n",
              "      background-color: #E8F0FE;\n",
              "      border: none;\n",
              "      border-radius: 50%;\n",
              "      cursor: pointer;\n",
              "      display: none;\n",
              "      fill: #1967D2;\n",
              "      height: 32px;\n",
              "      padding: 0 0 0 0;\n",
              "      width: 32px;\n",
              "    }\n",
              "\n",
              "    .colab-df-convert:hover {\n",
              "      background-color: #E2EBFA;\n",
              "      box-shadow: 0px 1px 2px rgba(60, 64, 67, 0.3), 0px 1px 3px 1px rgba(60, 64, 67, 0.15);\n",
              "      fill: #174EA6;\n",
              "    }\n",
              "\n",
              "    [theme=dark] .colab-df-convert {\n",
              "      background-color: #3B4455;\n",
              "      fill: #D2E3FC;\n",
              "    }\n",
              "\n",
              "    [theme=dark] .colab-df-convert:hover {\n",
              "      background-color: #434B5C;\n",
              "      box-shadow: 0px 1px 3px 1px rgba(0, 0, 0, 0.15);\n",
              "      filter: drop-shadow(0px 1px 2px rgba(0, 0, 0, 0.3));\n",
              "      fill: #FFFFFF;\n",
              "    }\n",
              "  </style>\n",
              "\n",
              "      <script>\n",
              "        const buttonEl =\n",
              "          document.querySelector('#df-d6fbaf05-3528-4b6a-8572-9c06a9a703c7 button.colab-df-convert');\n",
              "        buttonEl.style.display =\n",
              "          google.colab.kernel.accessAllowed ? 'block' : 'none';\n",
              "\n",
              "        async function convertToInteractive(key) {\n",
              "          const element = document.querySelector('#df-d6fbaf05-3528-4b6a-8572-9c06a9a703c7');\n",
              "          const dataTable =\n",
              "            await google.colab.kernel.invokeFunction('convertToInteractive',\n",
              "                                                     [key], {});\n",
              "          if (!dataTable) return;\n",
              "\n",
              "          const docLinkHtml = 'Like what you see? Visit the ' +\n",
              "            '<a target=\"_blank\" href=https://colab.research.google.com/notebooks/data_table.ipynb>data table notebook</a>'\n",
              "            + ' to learn more about interactive tables.';\n",
              "          element.innerHTML = '';\n",
              "          dataTable['output_type'] = 'display_data';\n",
              "          await google.colab.output.renderOutput(dataTable, element);\n",
              "          const docLink = document.createElement('div');\n",
              "          docLink.innerHTML = docLinkHtml;\n",
              "          element.appendChild(docLink);\n",
              "        }\n",
              "      </script>\n",
              "    </div>\n",
              "  </div>\n",
              "  "
            ]
          },
          "metadata": {},
          "execution_count": 182
        }
      ]
    },
    {
      "cell_type": "markdown",
      "source": [
        "2.1.1. transformation of categorical variable\n",
        "\n",
        "유동성 특성(essential/non-essential)과 확진받기까지 걸린 시간(days), 접촉 정도(contact_number)는 numeric 변수이지만 감염 경로 유형은 categorical 변수인 것을 볼 수 있습니다. 이를 OneHotEncoder를 활용하여 numeric 변수로 변환하고 모델에 활용합니다."
      ],
      "metadata": {
        "id": "_vse1DwSmueJ"
      }
    },
    {
      "cell_type": "code",
      "source": [
        "encoder = OneHotEncoder(categories = 'auto', sparse=False) #sparse=False는 뭐지?\n",
        "encoder.fit(np.array(data_['infection']).reshape(-1, 1)) #reshape(-1,1)?\n",
        "inf_dummies = encoder.transform(np.array(data_['infection']).reshape(-1, 1))\n",
        "dummies = pd.DataFrame(inf_dummies.astype(int), columns = ['infection_' + x for x in encoder.categories_[0]]) #오..이러게 칼럼명도 변경가능하구나\n",
        "\n",
        "data_ = data_.join(dummies)\n",
        "print(data_.shape)\n",
        "data_.head()"
      ],
      "metadata": {
        "colab": {
          "base_uri": "https://localhost:8080/",
          "height": 306
        },
        "id": "qsPcci38mluk",
        "outputId": "5cf4129a-a923-4e7a-d13e-3666aae74f50"
      },
      "execution_count": 183,
      "outputs": [
        {
          "output_type": "stream",
          "name": "stdout",
          "text": [
            "(124, 10)\n"
          ]
        },
        {
          "output_type": "execute_result",
          "data": {
            "text/plain": [
              "   patient_id  days  contact_number  essential  non-essential   infection  \\\n",
              "0  1000000001     1           75.00       1.00           1.00    overseas   \n",
              "1  1000000004     4            9.00       1.00           0.00    overseas   \n",
              "2  1000000014    10           27.00      10.00           3.00  individual   \n",
              "3  1000000015     8            8.00       6.00           3.00       group   \n",
              "4  1000000302     1            8.00       1.00           0.00    overseas   \n",
              "\n",
              "   infection_group  infection_individual  infection_overseas  \\\n",
              "0                0                     0                   1   \n",
              "1                0                     0                   1   \n",
              "2                0                     1                   0   \n",
              "3                1                     0                   0   \n",
              "4                0                     0                   1   \n",
              "\n",
              "   infection_unknown  \n",
              "0                  0  \n",
              "1                  0  \n",
              "2                  0  \n",
              "3                  0  \n",
              "4                  0  "
            ],
            "text/html": [
              "\n",
              "  <div id=\"df-c11eccd6-d926-4521-9ff1-c05ce68add47\">\n",
              "    <div class=\"colab-df-container\">\n",
              "      <div>\n",
              "<style scoped>\n",
              "    .dataframe tbody tr th:only-of-type {\n",
              "        vertical-align: middle;\n",
              "    }\n",
              "\n",
              "    .dataframe tbody tr th {\n",
              "        vertical-align: top;\n",
              "    }\n",
              "\n",
              "    .dataframe thead th {\n",
              "        text-align: right;\n",
              "    }\n",
              "</style>\n",
              "<table border=\"1\" class=\"dataframe\">\n",
              "  <thead>\n",
              "    <tr style=\"text-align: right;\">\n",
              "      <th></th>\n",
              "      <th>patient_id</th>\n",
              "      <th>days</th>\n",
              "      <th>contact_number</th>\n",
              "      <th>essential</th>\n",
              "      <th>non-essential</th>\n",
              "      <th>infection</th>\n",
              "      <th>infection_group</th>\n",
              "      <th>infection_individual</th>\n",
              "      <th>infection_overseas</th>\n",
              "      <th>infection_unknown</th>\n",
              "    </tr>\n",
              "  </thead>\n",
              "  <tbody>\n",
              "    <tr>\n",
              "      <th>0</th>\n",
              "      <td>1000000001</td>\n",
              "      <td>1</td>\n",
              "      <td>75.00</td>\n",
              "      <td>1.00</td>\n",
              "      <td>1.00</td>\n",
              "      <td>overseas</td>\n",
              "      <td>0</td>\n",
              "      <td>0</td>\n",
              "      <td>1</td>\n",
              "      <td>0</td>\n",
              "    </tr>\n",
              "    <tr>\n",
              "      <th>1</th>\n",
              "      <td>1000000004</td>\n",
              "      <td>4</td>\n",
              "      <td>9.00</td>\n",
              "      <td>1.00</td>\n",
              "      <td>0.00</td>\n",
              "      <td>overseas</td>\n",
              "      <td>0</td>\n",
              "      <td>0</td>\n",
              "      <td>1</td>\n",
              "      <td>0</td>\n",
              "    </tr>\n",
              "    <tr>\n",
              "      <th>2</th>\n",
              "      <td>1000000014</td>\n",
              "      <td>10</td>\n",
              "      <td>27.00</td>\n",
              "      <td>10.00</td>\n",
              "      <td>3.00</td>\n",
              "      <td>individual</td>\n",
              "      <td>0</td>\n",
              "      <td>1</td>\n",
              "      <td>0</td>\n",
              "      <td>0</td>\n",
              "    </tr>\n",
              "    <tr>\n",
              "      <th>3</th>\n",
              "      <td>1000000015</td>\n",
              "      <td>8</td>\n",
              "      <td>8.00</td>\n",
              "      <td>6.00</td>\n",
              "      <td>3.00</td>\n",
              "      <td>group</td>\n",
              "      <td>1</td>\n",
              "      <td>0</td>\n",
              "      <td>0</td>\n",
              "      <td>0</td>\n",
              "    </tr>\n",
              "    <tr>\n",
              "      <th>4</th>\n",
              "      <td>1000000302</td>\n",
              "      <td>1</td>\n",
              "      <td>8.00</td>\n",
              "      <td>1.00</td>\n",
              "      <td>0.00</td>\n",
              "      <td>overseas</td>\n",
              "      <td>0</td>\n",
              "      <td>0</td>\n",
              "      <td>1</td>\n",
              "      <td>0</td>\n",
              "    </tr>\n",
              "  </tbody>\n",
              "</table>\n",
              "</div>\n",
              "      <button class=\"colab-df-convert\" onclick=\"convertToInteractive('df-c11eccd6-d926-4521-9ff1-c05ce68add47')\"\n",
              "              title=\"Convert this dataframe to an interactive table.\"\n",
              "              style=\"display:none;\">\n",
              "        \n",
              "  <svg xmlns=\"http://www.w3.org/2000/svg\" height=\"24px\"viewBox=\"0 0 24 24\"\n",
              "       width=\"24px\">\n",
              "    <path d=\"M0 0h24v24H0V0z\" fill=\"none\"/>\n",
              "    <path d=\"M18.56 5.44l.94 2.06.94-2.06 2.06-.94-2.06-.94-.94-2.06-.94 2.06-2.06.94zm-11 1L8.5 8.5l.94-2.06 2.06-.94-2.06-.94L8.5 2.5l-.94 2.06-2.06.94zm10 10l.94 2.06.94-2.06 2.06-.94-2.06-.94-.94-2.06-.94 2.06-2.06.94z\"/><path d=\"M17.41 7.96l-1.37-1.37c-.4-.4-.92-.59-1.43-.59-.52 0-1.04.2-1.43.59L10.3 9.45l-7.72 7.72c-.78.78-.78 2.05 0 2.83L4 21.41c.39.39.9.59 1.41.59.51 0 1.02-.2 1.41-.59l7.78-7.78 2.81-2.81c.8-.78.8-2.07 0-2.86zM5.41 20L4 18.59l7.72-7.72 1.47 1.35L5.41 20z\"/>\n",
              "  </svg>\n",
              "      </button>\n",
              "      \n",
              "  <style>\n",
              "    .colab-df-container {\n",
              "      display:flex;\n",
              "      flex-wrap:wrap;\n",
              "      gap: 12px;\n",
              "    }\n",
              "\n",
              "    .colab-df-convert {\n",
              "      background-color: #E8F0FE;\n",
              "      border: none;\n",
              "      border-radius: 50%;\n",
              "      cursor: pointer;\n",
              "      display: none;\n",
              "      fill: #1967D2;\n",
              "      height: 32px;\n",
              "      padding: 0 0 0 0;\n",
              "      width: 32px;\n",
              "    }\n",
              "\n",
              "    .colab-df-convert:hover {\n",
              "      background-color: #E2EBFA;\n",
              "      box-shadow: 0px 1px 2px rgba(60, 64, 67, 0.3), 0px 1px 3px 1px rgba(60, 64, 67, 0.15);\n",
              "      fill: #174EA6;\n",
              "    }\n",
              "\n",
              "    [theme=dark] .colab-df-convert {\n",
              "      background-color: #3B4455;\n",
              "      fill: #D2E3FC;\n",
              "    }\n",
              "\n",
              "    [theme=dark] .colab-df-convert:hover {\n",
              "      background-color: #434B5C;\n",
              "      box-shadow: 0px 1px 3px 1px rgba(0, 0, 0, 0.15);\n",
              "      filter: drop-shadow(0px 1px 2px rgba(0, 0, 0, 0.3));\n",
              "      fill: #FFFFFF;\n",
              "    }\n",
              "  </style>\n",
              "\n",
              "      <script>\n",
              "        const buttonEl =\n",
              "          document.querySelector('#df-c11eccd6-d926-4521-9ff1-c05ce68add47 button.colab-df-convert');\n",
              "        buttonEl.style.display =\n",
              "          google.colab.kernel.accessAllowed ? 'block' : 'none';\n",
              "\n",
              "        async function convertToInteractive(key) {\n",
              "          const element = document.querySelector('#df-c11eccd6-d926-4521-9ff1-c05ce68add47');\n",
              "          const dataTable =\n",
              "            await google.colab.kernel.invokeFunction('convertToInteractive',\n",
              "                                                     [key], {});\n",
              "          if (!dataTable) return;\n",
              "\n",
              "          const docLinkHtml = 'Like what you see? Visit the ' +\n",
              "            '<a target=\"_blank\" href=https://colab.research.google.com/notebooks/data_table.ipynb>data table notebook</a>'\n",
              "            + ' to learn more about interactive tables.';\n",
              "          element.innerHTML = '';\n",
              "          dataTable['output_type'] = 'display_data';\n",
              "          await google.colab.output.renderOutput(dataTable, element);\n",
              "          const docLink = document.createElement('div');\n",
              "          docLink.innerHTML = docLinkHtml;\n",
              "          element.appendChild(docLink);\n",
              "        }\n",
              "      </script>\n",
              "    </div>\n",
              "  </div>\n",
              "  "
            ]
          },
          "metadata": {},
          "execution_count": 183
        }
      ]
    },
    {
      "cell_type": "markdown",
      "source": [
        "2.1.2. scaling\n",
        "\n",
        "이제 데이터셋에는 모두 numeric 변수들만이 존재합니다. 이들 값의 범위(scale)가 모두 다르므로 scaler를 활용하여 scaling을 해줍니다. 여기서 활용할 scaler는 StandardScaler이며, 모델에 활용할 수 있도록 array format으로 변경하여줍니다.\n",
        "\n"
      ],
      "metadata": {
        "id": "D1uMs4-ZoUMb"
      }
    },
    {
      "cell_type": "code",
      "source": [
        "inputs = ['days', \n",
        "          'essential', 'non-essential', 'contact_number',\n",
        "          'infection_group', 'infection_individual', 'infection_overseas', 'infection_unknown']\n",
        "\n",
        "X = data_[inputs]\n",
        "print(X.shape)\n",
        "X.head()"
      ],
      "metadata": {
        "colab": {
          "base_uri": "https://localhost:8080/",
          "height": 306
        },
        "id": "MDHsIxvwmlsj",
        "outputId": "b8149a3f-f837-4fdb-bc7b-8018ee46909f"
      },
      "execution_count": 184,
      "outputs": [
        {
          "output_type": "stream",
          "name": "stdout",
          "text": [
            "(124, 8)\n"
          ]
        },
        {
          "output_type": "execute_result",
          "data": {
            "text/plain": [
              "   days  essential  non-essential  contact_number  infection_group  \\\n",
              "0     1       1.00           1.00           75.00                0   \n",
              "1     4       1.00           0.00            9.00                0   \n",
              "2    10      10.00           3.00           27.00                0   \n",
              "3     8       6.00           3.00            8.00                1   \n",
              "4     1       1.00           0.00            8.00                0   \n",
              "\n",
              "   infection_individual  infection_overseas  infection_unknown  \n",
              "0                     0                   1                  0  \n",
              "1                     0                   1                  0  \n",
              "2                     1                   0                  0  \n",
              "3                     0                   0                  0  \n",
              "4                     0                   1                  0  "
            ],
            "text/html": [
              "\n",
              "  <div id=\"df-d8d99739-2792-4a51-ac42-fe61898c57a6\">\n",
              "    <div class=\"colab-df-container\">\n",
              "      <div>\n",
              "<style scoped>\n",
              "    .dataframe tbody tr th:only-of-type {\n",
              "        vertical-align: middle;\n",
              "    }\n",
              "\n",
              "    .dataframe tbody tr th {\n",
              "        vertical-align: top;\n",
              "    }\n",
              "\n",
              "    .dataframe thead th {\n",
              "        text-align: right;\n",
              "    }\n",
              "</style>\n",
              "<table border=\"1\" class=\"dataframe\">\n",
              "  <thead>\n",
              "    <tr style=\"text-align: right;\">\n",
              "      <th></th>\n",
              "      <th>days</th>\n",
              "      <th>essential</th>\n",
              "      <th>non-essential</th>\n",
              "      <th>contact_number</th>\n",
              "      <th>infection_group</th>\n",
              "      <th>infection_individual</th>\n",
              "      <th>infection_overseas</th>\n",
              "      <th>infection_unknown</th>\n",
              "    </tr>\n",
              "  </thead>\n",
              "  <tbody>\n",
              "    <tr>\n",
              "      <th>0</th>\n",
              "      <td>1</td>\n",
              "      <td>1.00</td>\n",
              "      <td>1.00</td>\n",
              "      <td>75.00</td>\n",
              "      <td>0</td>\n",
              "      <td>0</td>\n",
              "      <td>1</td>\n",
              "      <td>0</td>\n",
              "    </tr>\n",
              "    <tr>\n",
              "      <th>1</th>\n",
              "      <td>4</td>\n",
              "      <td>1.00</td>\n",
              "      <td>0.00</td>\n",
              "      <td>9.00</td>\n",
              "      <td>0</td>\n",
              "      <td>0</td>\n",
              "      <td>1</td>\n",
              "      <td>0</td>\n",
              "    </tr>\n",
              "    <tr>\n",
              "      <th>2</th>\n",
              "      <td>10</td>\n",
              "      <td>10.00</td>\n",
              "      <td>3.00</td>\n",
              "      <td>27.00</td>\n",
              "      <td>0</td>\n",
              "      <td>1</td>\n",
              "      <td>0</td>\n",
              "      <td>0</td>\n",
              "    </tr>\n",
              "    <tr>\n",
              "      <th>3</th>\n",
              "      <td>8</td>\n",
              "      <td>6.00</td>\n",
              "      <td>3.00</td>\n",
              "      <td>8.00</td>\n",
              "      <td>1</td>\n",
              "      <td>0</td>\n",
              "      <td>0</td>\n",
              "      <td>0</td>\n",
              "    </tr>\n",
              "    <tr>\n",
              "      <th>4</th>\n",
              "      <td>1</td>\n",
              "      <td>1.00</td>\n",
              "      <td>0.00</td>\n",
              "      <td>8.00</td>\n",
              "      <td>0</td>\n",
              "      <td>0</td>\n",
              "      <td>1</td>\n",
              "      <td>0</td>\n",
              "    </tr>\n",
              "  </tbody>\n",
              "</table>\n",
              "</div>\n",
              "      <button class=\"colab-df-convert\" onclick=\"convertToInteractive('df-d8d99739-2792-4a51-ac42-fe61898c57a6')\"\n",
              "              title=\"Convert this dataframe to an interactive table.\"\n",
              "              style=\"display:none;\">\n",
              "        \n",
              "  <svg xmlns=\"http://www.w3.org/2000/svg\" height=\"24px\"viewBox=\"0 0 24 24\"\n",
              "       width=\"24px\">\n",
              "    <path d=\"M0 0h24v24H0V0z\" fill=\"none\"/>\n",
              "    <path d=\"M18.56 5.44l.94 2.06.94-2.06 2.06-.94-2.06-.94-.94-2.06-.94 2.06-2.06.94zm-11 1L8.5 8.5l.94-2.06 2.06-.94-2.06-.94L8.5 2.5l-.94 2.06-2.06.94zm10 10l.94 2.06.94-2.06 2.06-.94-2.06-.94-.94-2.06-.94 2.06-2.06.94z\"/><path d=\"M17.41 7.96l-1.37-1.37c-.4-.4-.92-.59-1.43-.59-.52 0-1.04.2-1.43.59L10.3 9.45l-7.72 7.72c-.78.78-.78 2.05 0 2.83L4 21.41c.39.39.9.59 1.41.59.51 0 1.02-.2 1.41-.59l7.78-7.78 2.81-2.81c.8-.78.8-2.07 0-2.86zM5.41 20L4 18.59l7.72-7.72 1.47 1.35L5.41 20z\"/>\n",
              "  </svg>\n",
              "      </button>\n",
              "      \n",
              "  <style>\n",
              "    .colab-df-container {\n",
              "      display:flex;\n",
              "      flex-wrap:wrap;\n",
              "      gap: 12px;\n",
              "    }\n",
              "\n",
              "    .colab-df-convert {\n",
              "      background-color: #E8F0FE;\n",
              "      border: none;\n",
              "      border-radius: 50%;\n",
              "      cursor: pointer;\n",
              "      display: none;\n",
              "      fill: #1967D2;\n",
              "      height: 32px;\n",
              "      padding: 0 0 0 0;\n",
              "      width: 32px;\n",
              "    }\n",
              "\n",
              "    .colab-df-convert:hover {\n",
              "      background-color: #E2EBFA;\n",
              "      box-shadow: 0px 1px 2px rgba(60, 64, 67, 0.3), 0px 1px 3px 1px rgba(60, 64, 67, 0.15);\n",
              "      fill: #174EA6;\n",
              "    }\n",
              "\n",
              "    [theme=dark] .colab-df-convert {\n",
              "      background-color: #3B4455;\n",
              "      fill: #D2E3FC;\n",
              "    }\n",
              "\n",
              "    [theme=dark] .colab-df-convert:hover {\n",
              "      background-color: #434B5C;\n",
              "      box-shadow: 0px 1px 3px 1px rgba(0, 0, 0, 0.15);\n",
              "      filter: drop-shadow(0px 1px 2px rgba(0, 0, 0, 0.3));\n",
              "      fill: #FFFFFF;\n",
              "    }\n",
              "  </style>\n",
              "\n",
              "      <script>\n",
              "        const buttonEl =\n",
              "          document.querySelector('#df-d8d99739-2792-4a51-ac42-fe61898c57a6 button.colab-df-convert');\n",
              "        buttonEl.style.display =\n",
              "          google.colab.kernel.accessAllowed ? 'block' : 'none';\n",
              "\n",
              "        async function convertToInteractive(key) {\n",
              "          const element = document.querySelector('#df-d8d99739-2792-4a51-ac42-fe61898c57a6');\n",
              "          const dataTable =\n",
              "            await google.colab.kernel.invokeFunction('convertToInteractive',\n",
              "                                                     [key], {});\n",
              "          if (!dataTable) return;\n",
              "\n",
              "          const docLinkHtml = 'Like what you see? Visit the ' +\n",
              "            '<a target=\"_blank\" href=https://colab.research.google.com/notebooks/data_table.ipynb>data table notebook</a>'\n",
              "            + ' to learn more about interactive tables.';\n",
              "          element.innerHTML = '';\n",
              "          dataTable['output_type'] = 'display_data';\n",
              "          await google.colab.output.renderOutput(dataTable, element);\n",
              "          const docLink = document.createElement('div');\n",
              "          docLink.innerHTML = docLinkHtml;\n",
              "          element.appendChild(docLink);\n",
              "        }\n",
              "      </script>\n",
              "    </div>\n",
              "  </div>\n",
              "  "
            ]
          },
          "metadata": {},
          "execution_count": 184
        }
      ]
    },
    {
      "cell_type": "code",
      "source": [
        "X = X.values\n",
        "scaler = StandardScaler()\n",
        "X = scaler.fit_transform(X)  "
      ],
      "metadata": {
        "id": "b7uyp-gcmlqg"
      },
      "execution_count": 185,
      "outputs": []
    },
    {
      "cell_type": "markdown",
      "source": [
        "모델에 활용할 inputs이 모두 완성되었습니다. 완성된 inputs을 PCA 모델을 활용, 모든 features를 2 dimensions으로 압축하여 행동 특성에 따른 확진자들의 포인트가 어떻게 분포하는지 살펴보겠습니다."
      ],
      "metadata": {
        "id": "FAAmdqTYoonm"
      }
    },
    {
      "cell_type": "markdown",
      "source": [
        "2.2. Dimensionality reduction using PCA"
      ],
      "metadata": {
        "id": "dYlVbYtqopcy"
      }
    },
    {
      "cell_type": "code",
      "source": [
        "pca = PCA(n_components = 2) # categorical 변수를 어떻게 PCA하는거지?\n",
        "principalComponents = pca.fit_transform(X)\n",
        "principalDF = pd.DataFrame(data = principalComponents, columns = ['PC1', 'PC2'])\n",
        "\n",
        "ax = sns.scatterplot(x='PC1', y='PC2', data = principalDF) \n",
        "sns.regplot(x=principalDF['PC1'], y=principalDF['PC2'], fit_reg=False)\n",
        "\n",
        "display()"
      ],
      "metadata": {
        "colab": {
          "base_uri": "https://localhost:8080/",
          "height": 279
        },
        "id": "WBXEmedPmloH",
        "outputId": "474c1f5b-6525-4bb8-e927-8d7cb5b1b5b4"
      },
      "execution_count": 186,
      "outputs": [
        {
          "output_type": "display_data",
          "data": {
            "text/plain": [
              "<Figure size 432x288 with 1 Axes>"
            ],
            "image/png": "[encoded data removed]"
          },
          "metadata": {
            "needs_background": "light"
          }
        }
      ]
    },
    {
      "cell_type": "markdown",
      "source": [
        "위의 PCA 차트를 보면 3-4개의 clusters가 파악될 것을 예상할 수 있습니다."
      ],
      "metadata": {
        "id": "VT7Wfs4uphno"
      }
    },
    {
      "cell_type": "markdown",
      "source": [
        "2.3. Clustering\n",
        "\n",
        "가장 optimal한 clusters의 개수를 확인하기 위해 각 cluster 개수 별 sum of squared error를 구해 보겠습니다."
      ],
      "metadata": {
        "id": "L3xtiAAqpts2"
      }
    },
    {
      "cell_type": "code",
      "source": [
        "cluster_range = range(1,7) #KMeans의 SSE는 어떻게 구하는거지?\n",
        "cluster_errors = []\n",
        "for n in cluster_range:\n",
        "    cluster = KMeans(n)\n",
        "    cluster.fit(X)\n",
        "    cluster_errors.append(cluster.inertia_)\n",
        "\n",
        "plt.figure(figsize = (6,6))\n",
        "plt.plot(cluster_range, cluster_errors)\n",
        "plt.title('the Elbow method')\n",
        "plt.xlabel('the number of clusters')\n",
        "plt.ylabel('within-cluster sum of squares')\n",
        "display()"
      ],
      "metadata": {
        "colab": {
          "base_uri": "https://localhost:8080/",
          "height": 404
        },
        "id": "zx7CreuRmll5",
        "outputId": "f21ac9d9-2aa3-4d58-da27-47b221b6792c"
      },
      "execution_count": 187,
      "outputs": [
        {
          "output_type": "display_data",
          "data": {
            "text/plain": [
              "<Figure size 432x432 with 1 Axes>"
            ],
            "image/png": "[encoded data removed]"
          },
          "metadata": {
            "needs_background": "light"
          }
        }
      ]
    },
    {
      "cell_type": "markdown",
      "source": [
        "위의 차트를 보면, cluster의 개수가 4개 이상일 때 에러가 감소하는 폭이 줄어든 것을 확인할 수 있습니다. 이에따라 4를 optimal number of clusters로 결정하고 그대로 cluster 분석을 수행할 수도 있습니다. 하지만 여기서는 4개 이상일 때 어떤 현상이 나타나는지 먼저 확인해보도록 하겠습니다.\n",
        "\n",
        "Custering 모델에 인풋을 넣고 확진자들을 4개의 clusters로 구분해보겠습니다."
      ],
      "metadata": {
        "id": "ZlIULuG1vKp_"
      }
    },
    {
      "cell_type": "code",
      "source": [
        "km = KMeans(n_clusters = 4)\n",
        "km.fit(X)\n",
        "\n",
        "centroids = km.cluster_centers_ \n",
        "labels= km.labels_\n",
        "data_['label'] = labels"
      ],
      "metadata": {
        "id": "5oS4TVyMmlj1"
      },
      "execution_count": 188,
      "outputs": []
    },
    {
      "cell_type": "code",
      "source": [
        "pca = PCA(n_components = 2)\n",
        "principalComponents = pca.fit_transform(X)\n",
        "principalDF = pd.DataFrame(data = principalComponents, columns = ['PC1', 'PC2'])\n",
        "\n",
        "plt.figure(figsize = (8,8))\n",
        "plt.scatter('PC1', 'PC2', data = principalDF, c = labels)\n",
        "\n",
        "display()"
      ],
      "metadata": {
        "colab": {
          "base_uri": "https://localhost:8080/",
          "height": 483
        },
        "id": "hWV2oYKgmlhl",
        "outputId": "34497bc6-43a0-404d-b27f-c32928a4f48d"
      },
      "execution_count": 189,
      "outputs": [
        {
          "output_type": "display_data",
          "data": {
            "text/plain": [
              "<Figure size 576x576 with 1 Axes>"
            ],
            "image/png": "[encoded data removed]"
          },
          "metadata": {
            "needs_background": "light"
          }
        }
      ]
    },
    {
      "cell_type": "markdown",
      "source": [
        "위의 결과를 보면 나머지 네 개의 clusters는 근처에 위치한 포인트들이 그룹지어진 반면, 한 개의 포인트만 구분한 cluster가 있는 것을 볼 수 있습니다. 이 포인트는 다른 네 개의 clusters와 행동 패턴을 공유하지 않기 때문에 따로 분류되지만, 하나의 포인트만 속해 cluster라고 보기는 어렵습니다. 그보다는 다른 clusters와 행동 패턴을 공유하지 않는 outlier라고 봐야할 것입니다. 따라서 위의 포인트를 찾아내 제거하고, 4개를 optimal number of cluster로 모델을 다시 돌려보겠습니다."
      ],
      "metadata": {
        "id": "fLlcXw0VvThV"
      }
    },
    {
      "cell_type": "code",
      "source": [
        "data_.groupby(['label'])['patient_id'].count()"
      ],
      "metadata": {
        "colab": {
          "base_uri": "https://localhost:8080/"
        },
        "id": "RMbk-R3avV8o",
        "outputId": "eba11648-111a-418c-dedd-28a5336a2937"
      },
      "execution_count": 190,
      "outputs": [
        {
          "output_type": "execute_result",
          "data": {
            "text/plain": [
              "label\n",
              "0    39\n",
              "1    16\n",
              "2    46\n",
              "3    23\n",
              "Name: patient_id, dtype: int64"
            ]
          },
          "metadata": {},
          "execution_count": 190
        }
      ]
    },
    {
      "cell_type": "code",
      "source": [
        "data_ = data_[data_['patient_id'] != 1300000001]\n",
        "data_.reset_index(drop = True, inplace = True)\n",
        "\n",
        "X = data_[inputs]\n",
        "print('X shape:', X.shape) \n",
        "\n",
        "X = X.values\n",
        "scaler = StandardScaler()\n",
        "X = scaler.fit_transform(X)\n",
        "\n",
        "km = KMeans(n_clusters = 4)\n",
        "km.fit(X)\n",
        "\n",
        "centroids = km.cluster_centers_ \n",
        "labels= km.labels_\n",
        "data_['label'] = labels"
      ],
      "metadata": {
        "colab": {
          "base_uri": "https://localhost:8080/"
        },
        "id": "XWeickvymiz_",
        "outputId": "0ab3014b-65e4-4add-9313-4947928feaa0"
      },
      "execution_count": 191,
      "outputs": [
        {
          "output_type": "stream",
          "name": "stdout",
          "text": [
            "X shape: (123, 8)\n"
          ]
        }
      ]
    },
    {
      "cell_type": "code",
      "source": [
        "pca = PCA(n_components = 2)\n",
        "principalComponents = pca.fit_transform(X)\n",
        "principalDF = pd.DataFrame(data = principalComponents, columns = ['PC1', 'PC2'])\n",
        "\n",
        "plt.figure(figsize = (8,8))\n",
        "plt.scatter('PC1', 'PC2', data = principalDF, c = labels)\n",
        "\n",
        "display()"
      ],
      "metadata": {
        "colab": {
          "base_uri": "https://localhost:8080/",
          "height": 483
        },
        "id": "5f_AkwQ1fcQH",
        "outputId": "7c708b86-59c6-4f9f-e55d-62b7ec261714"
      },
      "execution_count": 192,
      "outputs": [
        {
          "output_type": "display_data",
          "data": {
            "text/plain": [
              "<Figure size 576x576 with 1 Axes>"
            ],
            "image/png": "[encoded data removed]"
          },
          "metadata": {
            "needs_background": "light"
          }
        }
      ]
    },
    {
      "cell_type": "markdown",
      "source": [
        "Cluter 분석 결과, 행동 패턴으로 구분되는 확진자들의 유형 네 가지 가 파악되었습니다."
      ],
      "metadata": {
        "id": "NeUAFxYMv2iV"
      }
    },
    {
      "cell_type": "code",
      "source": [
        "#### 이후의 코드의 경우 레퍼런스한 곳에서 따로 정리한 데이터를 사용했기 때문에 구현하지 못하였지만 끝까지 정독하였습니다."
      ],
      "metadata": {
        "id": "J_4A-m_8fcK9"
      },
      "execution_count": 193,
      "outputs": []
    },
    {
      "cell_type": "code",
      "source": [
        "data_"
      ],
      "metadata": {
        "colab": {
          "base_uri": "https://localhost:8080/",
          "height": 505
        },
        "id": "PNQR9B9sFTnh",
        "outputId": "b4eec515-144e-492f-e81b-d43c77aea9e9"
      },
      "execution_count": 196,
      "outputs": [
        {
          "output_type": "execute_result",
          "data": {
            "text/plain": [
              "     patient_id  days  contact_number  essential  non-essential   infection  \\\n",
              "0    1000000001     1           75.00       1.00           1.00    overseas   \n",
              "1    1000000004     4            9.00       1.00           0.00    overseas   \n",
              "2    1000000014    10           27.00      10.00           3.00  individual   \n",
              "3    1000000015     8            8.00       6.00           3.00       group   \n",
              "4    1000000302     1            8.00       1.00           0.00    overseas   \n",
              "..          ...   ...             ...        ...            ...         ...   \n",
              "118  4100000107     2            4.00       1.00           4.00  individual   \n",
              "119  4100000139     1            4.00       2.00           5.00    overseas   \n",
              "120  6001000039    12            1.00       0.00           1.00     unknown   \n",
              "121  6001000044    12            2.00       1.00           0.00     unknown   \n",
              "122  6001000061     4            2.00       1.00           3.00     unknown   \n",
              "\n",
              "     infection_group  infection_individual  infection_overseas  \\\n",
              "0                  0                     0                   1   \n",
              "1                  0                     0                   1   \n",
              "2                  0                     1                   0   \n",
              "3                  1                     0                   0   \n",
              "4                  0                     0                   1   \n",
              "..               ...                   ...                 ...   \n",
              "118                0                     1                   0   \n",
              "119                0                     0                   1   \n",
              "120                0                     0                   0   \n",
              "121                0                     0                   0   \n",
              "122                0                     0                   0   \n",
              "\n",
              "     infection_unknown  label  \n",
              "0                    0      2  \n",
              "1                    0      2  \n",
              "2                    0      1  \n",
              "3                    0      0  \n",
              "4                    0      2  \n",
              "..                 ...    ...  \n",
              "118                  0      1  \n",
              "119                  0      2  \n",
              "120                  1      3  \n",
              "121                  1      3  \n",
              "122                  1      3  \n",
              "\n",
              "[123 rows x 11 columns]"
            ],
            "text/html": [
              "\n",
              "  <div id=\"df-08483615-c169-4f12-b33b-36dcab688c1e\">\n",
              "    <div class=\"colab-df-container\">\n",
              "      <div>\n",
              "<style scoped>\n",
              "    .dataframe tbody tr th:only-of-type {\n",
              "        vertical-align: middle;\n",
              "    }\n",
              "\n",
              "    .dataframe tbody tr th {\n",
              "        vertical-align: top;\n",
              "    }\n",
              "\n",
              "    .dataframe thead th {\n",
              "        text-align: right;\n",
              "    }\n",
              "</style>\n",
              "<table border=\"1\" class=\"dataframe\">\n",
              "  <thead>\n",
              "    <tr style=\"text-align: right;\">\n",
              "      <th></th>\n",
              "      <th>patient_id</th>\n",
              "      <th>days</th>\n",
              "      <th>contact_number</th>\n",
              "      <th>essential</th>\n",
              "      <th>non-essential</th>\n",
              "      <th>infection</th>\n",
              "      <th>infection_group</th>\n",
              "      <th>infection_individual</th>\n",
              "      <th>infection_overseas</th>\n",
              "      <th>infection_unknown</th>\n",
              "      <th>label</th>\n",
              "    </tr>\n",
              "  </thead>\n",
              "  <tbody>\n",
              "    <tr>\n",
              "      <th>0</th>\n",
              "      <td>1000000001</td>\n",
              "      <td>1</td>\n",
              "      <td>75.00</td>\n",
              "      <td>1.00</td>\n",
              "      <td>1.00</td>\n",
              "      <td>overseas</td>\n",
              "      <td>0</td>\n",
              "      <td>0</td>\n",
              "      <td>1</td>\n",
              "      <td>0</td>\n",
              "      <td>2</td>\n",
              "    </tr>\n",
              "    <tr>\n",
              "      <th>1</th>\n",
              "      <td>1000000004</td>\n",
              "      <td>4</td>\n",
              "      <td>9.00</td>\n",
              "      <td>1.00</td>\n",
              "      <td>0.00</td>\n",
              "      <td>overseas</td>\n",
              "      <td>0</td>\n",
              "      <td>0</td>\n",
              "      <td>1</td>\n",
              "      <td>0</td>\n",
              "      <td>2</td>\n",
              "    </tr>\n",
              "    <tr>\n",
              "      <th>2</th>\n",
              "      <td>1000000014</td>\n",
              "      <td>10</td>\n",
              "      <td>27.00</td>\n",
              "      <td>10.00</td>\n",
              "      <td>3.00</td>\n",
              "      <td>individual</td>\n",
              "      <td>0</td>\n",
              "      <td>1</td>\n",
              "      <td>0</td>\n",
              "      <td>0</td>\n",
              "      <td>1</td>\n",
              "    </tr>\n",
              "    <tr>\n",
              "      <th>3</th>\n",
              "      <td>1000000015</td>\n",
              "      <td>8</td>\n",
              "      <td>8.00</td>\n",
              "      <td>6.00</td>\n",
              "      <td>3.00</td>\n",
              "      <td>group</td>\n",
              "      <td>1</td>\n",
              "      <td>0</td>\n",
              "      <td>0</td>\n",
              "      <td>0</td>\n",
              "      <td>0</td>\n",
              "    </tr>\n",
              "    <tr>\n",
              "      <th>4</th>\n",
              "      <td>1000000302</td>\n",
              "      <td>1</td>\n",
              "      <td>8.00</td>\n",
              "      <td>1.00</td>\n",
              "      <td>0.00</td>\n",
              "      <td>overseas</td>\n",
              "      <td>0</td>\n",
              "      <td>0</td>\n",
              "      <td>1</td>\n",
              "      <td>0</td>\n",
              "      <td>2</td>\n",
              "    </tr>\n",
              "    <tr>\n",
              "      <th>...</th>\n",
              "      <td>...</td>\n",
              "      <td>...</td>\n",
              "      <td>...</td>\n",
              "      <td>...</td>\n",
              "      <td>...</td>\n",
              "      <td>...</td>\n",
              "      <td>...</td>\n",
              "      <td>...</td>\n",
              "      <td>...</td>\n",
              "      <td>...</td>\n",
              "      <td>...</td>\n",
              "    </tr>\n",
              "    <tr>\n",
              "      <th>118</th>\n",
              "      <td>4100000107</td>\n",
              "      <td>2</td>\n",
              "      <td>4.00</td>\n",
              "      <td>1.00</td>\n",
              "      <td>4.00</td>\n",
              "      <td>individual</td>\n",
              "      <td>0</td>\n",
              "      <td>1</td>\n",
              "      <td>0</td>\n",
              "      <td>0</td>\n",
              "      <td>1</td>\n",
              "    </tr>\n",
              "    <tr>\n",
              "      <th>119</th>\n",
              "      <td>4100000139</td>\n",
              "      <td>1</td>\n",
              "      <td>4.00</td>\n",
              "      <td>2.00</td>\n",
              "      <td>5.00</td>\n",
              "      <td>overseas</td>\n",
              "      <td>0</td>\n",
              "      <td>0</td>\n",
              "      <td>1</td>\n",
              "      <td>0</td>\n",
              "      <td>2</td>\n",
              "    </tr>\n",
              "    <tr>\n",
              "      <th>120</th>\n",
              "      <td>6001000039</td>\n",
              "      <td>12</td>\n",
              "      <td>1.00</td>\n",
              "      <td>0.00</td>\n",
              "      <td>1.00</td>\n",
              "      <td>unknown</td>\n",
              "      <td>0</td>\n",
              "      <td>0</td>\n",
              "      <td>0</td>\n",
              "      <td>1</td>\n",
              "      <td>3</td>\n",
              "    </tr>\n",
              "    <tr>\n",
              "      <th>121</th>\n",
              "      <td>6001000044</td>\n",
              "      <td>12</td>\n",
              "      <td>2.00</td>\n",
              "      <td>1.00</td>\n",
              "      <td>0.00</td>\n",
              "      <td>unknown</td>\n",
              "      <td>0</td>\n",
              "      <td>0</td>\n",
              "      <td>0</td>\n",
              "      <td>1</td>\n",
              "      <td>3</td>\n",
              "    </tr>\n",
              "    <tr>\n",
              "      <th>122</th>\n",
              "      <td>6001000061</td>\n",
              "      <td>4</td>\n",
              "      <td>2.00</td>\n",
              "      <td>1.00</td>\n",
              "      <td>3.00</td>\n",
              "      <td>unknown</td>\n",
              "      <td>0</td>\n",
              "      <td>0</td>\n",
              "      <td>0</td>\n",
              "      <td>1</td>\n",
              "      <td>3</td>\n",
              "    </tr>\n",
              "  </tbody>\n",
              "</table>\n",
              "<p>123 rows × 11 columns</p>\n",
              "</div>\n",
              "      <button class=\"colab-df-convert\" onclick=\"convertToInteractive('df-08483615-c169-4f12-b33b-36dcab688c1e')\"\n",
              "              title=\"Convert this dataframe to an interactive table.\"\n",
              "              style=\"display:none;\">\n",
              "        \n",
              "  <svg xmlns=\"http://www.w3.org/2000/svg\" height=\"24px\"viewBox=\"0 0 24 24\"\n",
              "       width=\"24px\">\n",
              "    <path d=\"M0 0h24v24H0V0z\" fill=\"none\"/>\n",
              "    <path d=\"M18.56 5.44l.94 2.06.94-2.06 2.06-.94-2.06-.94-.94-2.06-.94 2.06-2.06.94zm-11 1L8.5 8.5l.94-2.06 2.06-.94-2.06-.94L8.5 2.5l-.94 2.06-2.06.94zm10 10l.94 2.06.94-2.06 2.06-.94-2.06-.94-.94-2.06-.94 2.06-2.06.94z\"/><path d=\"M17.41 7.96l-1.37-1.37c-.4-.4-.92-.59-1.43-.59-.52 0-1.04.2-1.43.59L10.3 9.45l-7.72 7.72c-.78.78-.78 2.05 0 2.83L4 21.41c.39.39.9.59 1.41.59.51 0 1.02-.2 1.41-.59l7.78-7.78 2.81-2.81c.8-.78.8-2.07 0-2.86zM5.41 20L4 18.59l7.72-7.72 1.47 1.35L5.41 20z\"/>\n",
              "  </svg>\n",
              "      </button>\n",
              "      \n",
              "  <style>\n",
              "    .colab-df-container {\n",
              "      display:flex;\n",
              "      flex-wrap:wrap;\n",
              "      gap: 12px;\n",
              "    }\n",
              "\n",
              "    .colab-df-convert {\n",
              "      background-color: #E8F0FE;\n",
              "      border: none;\n",
              "      border-radius: 50%;\n",
              "      cursor: pointer;\n",
              "      display: none;\n",
              "      fill: #1967D2;\n",
              "      height: 32px;\n",
              "      padding: 0 0 0 0;\n",
              "      width: 32px;\n",
              "    }\n",
              "\n",
              "    .colab-df-convert:hover {\n",
              "      background-color: #E2EBFA;\n",
              "      box-shadow: 0px 1px 2px rgba(60, 64, 67, 0.3), 0px 1px 3px 1px rgba(60, 64, 67, 0.15);\n",
              "      fill: #174EA6;\n",
              "    }\n",
              "\n",
              "    [theme=dark] .colab-df-convert {\n",
              "      background-color: #3B4455;\n",
              "      fill: #D2E3FC;\n",
              "    }\n",
              "\n",
              "    [theme=dark] .colab-df-convert:hover {\n",
              "      background-color: #434B5C;\n",
              "      box-shadow: 0px 1px 3px 1px rgba(0, 0, 0, 0.15);\n",
              "      filter: drop-shadow(0px 1px 2px rgba(0, 0, 0, 0.3));\n",
              "      fill: #FFFFFF;\n",
              "    }\n",
              "  </style>\n",
              "\n",
              "      <script>\n",
              "        const buttonEl =\n",
              "          document.querySelector('#df-08483615-c169-4f12-b33b-36dcab688c1e button.colab-df-convert');\n",
              "        buttonEl.style.display =\n",
              "          google.colab.kernel.accessAllowed ? 'block' : 'none';\n",
              "\n",
              "        async function convertToInteractive(key) {\n",
              "          const element = document.querySelector('#df-08483615-c169-4f12-b33b-36dcab688c1e');\n",
              "          const dataTable =\n",
              "            await google.colab.kernel.invokeFunction('convertToInteractive',\n",
              "                                                     [key], {});\n",
              "          if (!dataTable) return;\n",
              "\n",
              "          const docLinkHtml = 'Like what you see? Visit the ' +\n",
              "            '<a target=\"_blank\" href=https://colab.research.google.com/notebooks/data_table.ipynb>data table notebook</a>'\n",
              "            + ' to learn more about interactive tables.';\n",
              "          element.innerHTML = '';\n",
              "          dataTable['output_type'] = 'display_data';\n",
              "          await google.colab.output.renderOutput(dataTable, element);\n",
              "          const docLink = document.createElement('div');\n",
              "          docLink.innerHTML = docLinkHtml;\n",
              "          element.appendChild(docLink);\n",
              "        }\n",
              "      </script>\n",
              "    </div>\n",
              "  </div>\n",
              "  "
            ]
          },
          "metadata": {},
          "execution_count": 196
        }
      ]
    },
    {
      "cell_type": "code",
      "source": [
        "principalDF"
      ],
      "metadata": {
        "id": "q5fwpj3-fb-G",
        "colab": {
          "base_uri": "https://localhost:8080/",
          "height": 424
        },
        "outputId": "535434f6-a855-4d2c-c425-8b8afb245141"
      },
      "execution_count": 195,
      "outputs": [
        {
          "output_type": "execute_result",
          "data": {
            "text/plain": [
              "      PC1   PC2\n",
              "0   -0.30 -0.98\n",
              "1   -1.50 -0.95\n",
              "2    0.82  2.20\n",
              "3    0.63 -1.04\n",
              "4   -1.63 -1.01\n",
              "..    ...   ...\n",
              "118 -1.30  0.86\n",
              "119 -0.93 -0.92\n",
              "120  0.19  0.08\n",
              "121  0.26  0.22\n",
              "122  0.33  0.04\n",
              "\n",
              "[123 rows x 2 columns]"
            ],
            "text/html": [
              "\n",
              "  <div id=\"df-fbcfb585-0a0e-4a97-93b7-a162b4d906c8\">\n",
              "    <div class=\"colab-df-container\">\n",
              "      <div>\n",
              "<style scoped>\n",
              "    .dataframe tbody tr th:only-of-type {\n",
              "        vertical-align: middle;\n",
              "    }\n",
              "\n",
              "    .dataframe tbody tr th {\n",
              "        vertical-align: top;\n",
              "    }\n",
              "\n",
              "    .dataframe thead th {\n",
              "        text-align: right;\n",
              "    }\n",
              "</style>\n",
              "<table border=\"1\" class=\"dataframe\">\n",
              "  <thead>\n",
              "    <tr style=\"text-align: right;\">\n",
              "      <th></th>\n",
              "      <th>PC1</th>\n",
              "      <th>PC2</th>\n",
              "    </tr>\n",
              "  </thead>\n",
              "  <tbody>\n",
              "    <tr>\n",
              "      <th>0</th>\n",
              "      <td>-0.30</td>\n",
              "      <td>-0.98</td>\n",
              "    </tr>\n",
              "    <tr>\n",
              "      <th>1</th>\n",
              "      <td>-1.50</td>\n",
              "      <td>-0.95</td>\n",
              "    </tr>\n",
              "    <tr>\n",
              "      <th>2</th>\n",
              "      <td>0.82</td>\n",
              "      <td>2.20</td>\n",
              "    </tr>\n",
              "    <tr>\n",
              "      <th>3</th>\n",
              "      <td>0.63</td>\n",
              "      <td>-1.04</td>\n",
              "    </tr>\n",
              "    <tr>\n",
              "      <th>4</th>\n",
              "      <td>-1.63</td>\n",
              "      <td>-1.01</td>\n",
              "    </tr>\n",
              "    <tr>\n",
              "      <th>...</th>\n",
              "      <td>...</td>\n",
              "      <td>...</td>\n",
              "    </tr>\n",
              "    <tr>\n",
              "      <th>118</th>\n",
              "      <td>-1.30</td>\n",
              "      <td>0.86</td>\n",
              "    </tr>\n",
              "    <tr>\n",
              "      <th>119</th>\n",
              "      <td>-0.93</td>\n",
              "      <td>-0.92</td>\n",
              "    </tr>\n",
              "    <tr>\n",
              "      <th>120</th>\n",
              "      <td>0.19</td>\n",
              "      <td>0.08</td>\n",
              "    </tr>\n",
              "    <tr>\n",
              "      <th>121</th>\n",
              "      <td>0.26</td>\n",
              "      <td>0.22</td>\n",
              "    </tr>\n",
              "    <tr>\n",
              "      <th>122</th>\n",
              "      <td>0.33</td>\n",
              "      <td>0.04</td>\n",
              "    </tr>\n",
              "  </tbody>\n",
              "</table>\n",
              "<p>123 rows × 2 columns</p>\n",
              "</div>\n",
              "      <button class=\"colab-df-convert\" onclick=\"convertToInteractive('df-fbcfb585-0a0e-4a97-93b7-a162b4d906c8')\"\n",
              "              title=\"Convert this dataframe to an interactive table.\"\n",
              "              style=\"display:none;\">\n",
              "        \n",
              "  <svg xmlns=\"http://www.w3.org/2000/svg\" height=\"24px\"viewBox=\"0 0 24 24\"\n",
              "       width=\"24px\">\n",
              "    <path d=\"M0 0h24v24H0V0z\" fill=\"none\"/>\n",
              "    <path d=\"M18.56 5.44l.94 2.06.94-2.06 2.06-.94-2.06-.94-.94-2.06-.94 2.06-2.06.94zm-11 1L8.5 8.5l.94-2.06 2.06-.94-2.06-.94L8.5 2.5l-.94 2.06-2.06.94zm10 10l.94 2.06.94-2.06 2.06-.94-2.06-.94-.94-2.06-.94 2.06-2.06.94z\"/><path d=\"M17.41 7.96l-1.37-1.37c-.4-.4-.92-.59-1.43-.59-.52 0-1.04.2-1.43.59L10.3 9.45l-7.72 7.72c-.78.78-.78 2.05 0 2.83L4 21.41c.39.39.9.59 1.41.59.51 0 1.02-.2 1.41-.59l7.78-7.78 2.81-2.81c.8-.78.8-2.07 0-2.86zM5.41 20L4 18.59l7.72-7.72 1.47 1.35L5.41 20z\"/>\n",
              "  </svg>\n",
              "      </button>\n",
              "      \n",
              "  <style>\n",
              "    .colab-df-container {\n",
              "      display:flex;\n",
              "      flex-wrap:wrap;\n",
              "      gap: 12px;\n",
              "    }\n",
              "\n",
              "    .colab-df-convert {\n",
              "      background-color: #E8F0FE;\n",
              "      border: none;\n",
              "      border-radius: 50%;\n",
              "      cursor: pointer;\n",
              "      display: none;\n",
              "      fill: #1967D2;\n",
              "      height: 32px;\n",
              "      padding: 0 0 0 0;\n",
              "      width: 32px;\n",
              "    }\n",
              "\n",
              "    .colab-df-convert:hover {\n",
              "      background-color: #E2EBFA;\n",
              "      box-shadow: 0px 1px 2px rgba(60, 64, 67, 0.3), 0px 1px 3px 1px rgba(60, 64, 67, 0.15);\n",
              "      fill: #174EA6;\n",
              "    }\n",
              "\n",
              "    [theme=dark] .colab-df-convert {\n",
              "      background-color: #3B4455;\n",
              "      fill: #D2E3FC;\n",
              "    }\n",
              "\n",
              "    [theme=dark] .colab-df-convert:hover {\n",
              "      background-color: #434B5C;\n",
              "      box-shadow: 0px 1px 3px 1px rgba(0, 0, 0, 0.15);\n",
              "      filter: drop-shadow(0px 1px 2px rgba(0, 0, 0, 0.3));\n",
              "      fill: #FFFFFF;\n",
              "    }\n",
              "  </style>\n",
              "\n",
              "      <script>\n",
              "        const buttonEl =\n",
              "          document.querySelector('#df-fbcfb585-0a0e-4a97-93b7-a162b4d906c8 button.colab-df-convert');\n",
              "        buttonEl.style.display =\n",
              "          google.colab.kernel.accessAllowed ? 'block' : 'none';\n",
              "\n",
              "        async function convertToInteractive(key) {\n",
              "          const element = document.querySelector('#df-fbcfb585-0a0e-4a97-93b7-a162b4d906c8');\n",
              "          const dataTable =\n",
              "            await google.colab.kernel.invokeFunction('convertToInteractive',\n",
              "                                                     [key], {});\n",
              "          if (!dataTable) return;\n",
              "\n",
              "          const docLinkHtml = 'Like what you see? Visit the ' +\n",
              "            '<a target=\"_blank\" href=https://colab.research.google.com/notebooks/data_table.ipynb>data table notebook</a>'\n",
              "            + ' to learn more about interactive tables.';\n",
              "          element.innerHTML = '';\n",
              "          dataTable['output_type'] = 'display_data';\n",
              "          await google.colab.output.renderOutput(dataTable, element);\n",
              "          const docLink = document.createElement('div');\n",
              "          docLink.innerHTML = docLinkHtml;\n",
              "          element.appendChild(docLink);\n",
              "        }\n",
              "      </script>\n",
              "    </div>\n",
              "  </div>\n",
              "  "
            ]
          },
          "metadata": {},
          "execution_count": 195
        }
      ]
    },
    {
      "cell_type": "markdown",
      "source": [
        "먼저 유형별 감염 경로를 살펴보겠습니다. 감염 경로의 횟수를 유형별로 나타낸 아래 차트를 보면,\n",
        "\n",
        "첫번째 유형(Hypermobile & hypersocial unknowns)은 모두 감염 경로가 알려지지 않은 확진자들이고\n",
        "두번째 유형(Moderate groupies)은 모두 집단 감염자들이며\n",
        "세번째 유형(Social minimalists)은 모두 개인적으로 감염되었고\n",
        "네번째 유형(Overseas non-essentialists)은 모두 해외 유입으로 구성되어 있어\n",
        "네 가지 유형 별로 감염 경로가 확연히 구분되는 것을 확인할 수 있습니다."
      ],
      "metadata": {
        "id": "p2plsCMjFi0M"
      }
    },
    {
      "cell_type": "markdown",
      "source": [
        "![image.png](data:image/png;base64,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)"
      ],
      "metadata": {
        "id": "hcvPJclJGwi7"
      }
    },
    {
      "cell_type": "markdown",
      "source": [
        "![image.png](data:image/png;base64,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)"
      ],
      "metadata": {
        "id": "Lh2pEUTLG7D7"
      }
    },
    {
      "cell_type": "markdown",
      "source": [
        "유형별 인당 총 이동 횟수를 필수이동과 부수적 이동으로 나누어 살펴 본 아래 차트를 보면,\n",
        "\n",
        "첫번째 유형은 필수적 이동과 부수적 이동이 모두 잦았던 것으로 나타났고\n",
        "두번째 유형은 첫번째 유형보다는 적지만 여전히 이동이 많고 특히 부수적 이동에서 평균보다 높은 유동성을 보였고\n",
        "세번째 유형은 필수적 이동에서 평균보다 약간 높은 유동성을 보이지만 부수적 이동은 많이 하지 않았고\n",
        "네번째 유형은 필수적, 부수적 이동 모두에서 평균보다 낮은 유동성을 보였습니다."
      ],
      "metadata": {
        "id": "FJ_XPmczFnyQ"
      }
    },
    {
      "cell_type": "markdown",
      "source": [
        "![image.png](data:image/png;base64,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)"
      ],
      "metadata": {
        "id": "gOAQZ2CcGv-O"
      }
    },
    {
      "cell_type": "markdown",
      "source": [
        "세번째로 확진자의 유형을 살펴볼 특성은 다른 사람과의 접촉 정도입니다. 아래 차트를 보면, 첫번째 유형의 접촉 정도가 가장 높고, 두번째 유형이 두번째로 높은 반면, 세번째와 네번째 유형은 훨씬 낮은 수준의 접촉 정도를 보입니다."
      ],
      "metadata": {
        "id": "3-G8ZK8GHK27"
      }
    },
    {
      "cell_type": "markdown",
      "source": [
        "![image.png](data:image/png;base64,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)"
      ],
      "metadata": {
        "id": "W9lCRnmSHLb8"
      }
    },
    {
      "cell_type": "markdown",
      "source": [
        "마지막으로, Cluster 모델에 활용한 마지막 행동 특성인 확진받기까지 걸린 시간을 살펴보겠습니다. 아래 차트에서 볼 수 있듯이 첫번째 유형이 확진받기까지 가장 오랜 시간이 걸린 것으로 특징지어지며, 두번째와 세번째 유형은 첫번째 유형보다는 빨리 확진을 받은 것으로 보이지만, 네번째 유형보다는 여전히 느린 수준을 나타냅니다. 네번째 유형은 확진자들의 행동 유형 중 가장 빨리 확진을 받은 것을 볼 수 있습니다. 네번째 유형은 해외 유입으로 구성된 유형으로, 해외에서 입국하면 입국 즉시 공항에서 코로나19 진단 검사를 받거나 3일 이내 보건소에서 진단 검사를 받아야하기 때문에 네번째 유형의 빠른 진단 시간은 예상 가능한 결과라고 할 수 있습니다."
      ],
      "metadata": {
        "id": "zAXmf0C5GFa6"
      }
    },
    {
      "cell_type": "markdown",
      "source": [
        "![image.png](data:image/png;base64,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)"
      ],
      "metadata": {
        "id": "bJ1b1GCpGvd6"
      }
    },
    {
      "cell_type": "markdown",
      "source": [
        "\n",
        "사망 위험과 관련있는 요인들을 파악하는 것이 이번 분석의 주요 목적이기 때문에 확진자의 유형별로 사망자와 회복자의 분포가 어떻게 다른지도 살펴보았습니다. 아래 차트를 보면 굉장히 흥미로운 사실을 발견할 수 있는데요. 사망자가 첫번째 유형에서만 나타난 것을 확인할 수 있습니다."
      ],
      "metadata": {
        "id": "4rZwJCcNGVw-"
      }
    },
    {
      "cell_type": "markdown",
      "source": [
        "![image.png](data:image/png;base64,iVBORw0KGgoAAAANSUhEUgAACPgAAAI6CAYAAACwrWTYAAAgAElEQVR4nOzdebhkVXkv4B90IyiTIA02gxgVB8R5vBrFqBFEItw4BwxEoqLRq7lEJZrkonGKeiPGIYqa0KJgUBPhakRxAK+KOETRKCgaRSKI3cjQqKho549vV2qf6lNDH053L06/7/Oc59Swa+9VVaef/fVav71WAgAAAAAAAAAAAAAAAAAAAAAAAAAAAAAAAAAAAAAAAAAAAAAAAAAAAAAAAAAAAAAAAAAAAAAAAAAAAAAAAAAAQM+6JHcY89wRST4247aL7bbd8ZZvouNtSg9J8q0Ztz06yWc2Uju+n+SRG2nfALCULeU6ZbFdl+R2m7sRAMAGeWuSv5xx23OS/PEiHfcjSY7aCNtuiNE6b2MdBwDgpmZD6qL++NOLk7xjo7QIAMaYLwixMYMXm9KGhHZuTMDnt5Kcm2Rt6vP8wynbGzgrAj4AcON8P8kvk+w28vhXU7XGbRewz41dpzhHAwCz+u0kn0tyTZKfJPlskvttwuMvZsCnBQut8zblRXEAsLkdneTrSX6W5EdJ/j7JLTdri1hsJyR59414/UL6tpZaXQmb1dabuwFAkmSr3HT/Pb4ydULfNckDk3xz8zZnZlt6wAgAloLvJXlK7/7dktx8M7WltdqitfYAALPbKcmHkrwx1d+yV5KXJvnF5mwUALCkHZfkb5K8IMnOqfGefZOcneRmi3wsfRYAC3RTDRTApvKCJB8YeeyNSU7sbp+T5FVJvpC6ouqMVMfLwANTV1tdneSCJA/rPXdOklekrsD6WWqJg3VJnp3k4tSMOH+d5PZJzktybZLTM7eQenqS76Su5DozyZ4jbT0kyX8kWZPktRn+m580e8y2SV6X5AdJrkhN3zxpoOyGJP+Z5FepRPeXJmzbd0R3jDVJXtI9duvUZ3Gr3nb3SbI6yTZduz+b+g6uSXJRkkf0tt05yTuTXJ7kh0lenmRZ99zgta9PfV4npK7AOrfb15ok/9Tb14OSfLF77ovd/YFdk/xjksuSXJXkg93jD+s+i4Hjk3w39V1+M8n/nPyR/LfR/SRzU9EnpP4W3tXt+xtJ7jtmX3dODX4+ubefP0vyte69/VOS7Xrbj/ubemnqc0/qu/hpktd092+e5Poku2R4RdxRWf/7TZL7p/5Grk39ff3tmHYDwCxOydzZA49KnR/7du4eW53kkiR/kWFNtCxV96xJ1UyPmee1G1Jb3D7JJ5Nc2e3zPRle6XZKktsk+X+p5a1e2D0+qV4cde8kX0md/9+XOo+/vHtuUD+8KFWT/WOqrjsxVbNc1t3ettf+0Xqwf4X6yak68OzueOemOvbm23ZS/bhbaoDy6u5z+v/x/1AAmOaO3e/Tkvw6yc9TS61/rXt861RNc0mSH6dqnZ17rx/M/nN1kktT5/2kzu+D2mGX1Dl6dapv40NJ9p6xfSekapF3p+qEr3dt/vOuPZcmeVRv+/5V24Ma5HXdcb+X5NETth3UW1en6rUHdY9f2h2rv5zEY1K10rXd8ydMeA/944zrH/p09/uCVP32pKhtAFiadkqNATw3yVmp8Z7vJ3liqi/gyNRYwc8zdwzsXqlz5zbd/acluTB1jv9o1u9H+JPU+NfFqQvfX586n1+TqnMO6Lad1M8wrYY5OlUzrE3VGUeMec/TxlnukqoXru6ee2zvuZOTvDnJh7vXnp/qExpnof0mL0r1R61N8q0Mx8O2znD86crufQy+l0ljNAenltV6Uqq2uaB7vF8XTerbGtWfDWi77vaV3Xv5YpI9UuOgD0nypu6Yb8rk7x4AJpq2RNfKVJBhcPJanjrh3Ke7f07q5HpAku1TYaDByWyv1InskNTJ9ne7+yt6r/1Bkrt2+90mddI9M1VM3TV1ZdYnUuGfnVMhkUHHxcNTJ9d7p4qDN2bY8ZBuX59KndRvk+TbWb8zpb/tYIDmxK4NuybZMTUI9aqM99yunQdP2KZvUFy8PVXA3KN7/V265/81ybN6278+w2DJ0alA0Z+mPq8npU7+g8Llg0nelvoudk8Fr5458trnpj7vm6c6yl6S+n62S3WApdvfVUme2m37lO7+IHj04VRnzy5dOw7sHh8N5jwhVfRu3bX1p6m/qUF7xoWsZgn4XJ/621qW+n4+P8+29079jR068twXunbtmiq2j+2em/Q39fBUh11SnWnfTRWtg+cGheC07/e81OeaJDukBjUBYCEG57tvpc4zy1IDOftm7hJd70qFsHfsHvt2kmO6545NBYb3SZ0XP5W5SzdsaG1xh1TNt22q5vt0hsHwfpsHptWLfTdLDeI9L1V//H5qibJ+wOeG1NV223bteVmqRti92+fnUgHyQfunBXzWJnlot783ZGH146tSHVfbdD8PSXXkAADj7ZSqCValwi+7jDz/tNTFObdL/d/6n1Nh4qT6gNam+jK2SfVl3LN7rh/wuVWSxyW5Rer8/b4ML2BKJi+lMOiXOChVB70rNYD2ku6YT+/uz7evo1ODhk9P1W/PSgWRtxqz7Q1J/qjb9uWpfo43p+qTR3XvdYdu+4elZnTcOsndUwNoh3fPjS7R1T/OuP6hZP0lutQ2ACxFB6fOufPNrLMqda5MKvjx9N5zr02dF5M6534n1UezPBVG/lxv23Wpi4h2TfVZHJTky6nxt6261w3GTyb1M0yqYbZPBX3v1N1fmRprm8+kcZZtuvfy4lR/zMNTNcdgvyenwjj3797re5K8d8xxpr2fcbXFnVL9XIOLsG+bYYjo+V1b907VRG/L8DuaNkYz3xJdo8HnWfu2+vt6Zve+bpH6PO+TqmlH959M/u4BYKLvpxKjV/d+fpa5gxcfybBgOTRzl6A6J8mre/f3Tw20LEsla0/JXB/NMKBzTmrQpW9dkgf37n+528/A/83wRPrODGdQSaoz41cZDmaty9zQzbNTYaFkfMBnq1QIpZ80/h+Z2ynT9+DuuQNTgZSDusf3SwVF5uvgGBQX/UT1FzKcYeZJqauzkvocf5Qqkgbt7nf6DF771FQS+BeZO9vQU1IDdYPX/mCkLe9KclLWv0Ltqd1++87r9rEyyW+yfudaMn8wp++rSQ7rtefGBHw+3ntu/1Ryvr/tS7t9/M48+zmyd/81GRbgk/6mBrP03CqVDH9xt/8dumP9Xfeaad/vp7vtdwsA3DiDc+NfpDpDDk51FC3PMOCzLFUf7N973TNTdVhSHVPH9p57VIYDPwupLUYdnrqKfLTNA9Pqxb6HpoLl/TroM5kb8Pll5s7M991UR9XAQV0bBu2fFvDpd07tkJpBYJ+RbafVjy9LBaz6A2MAwHR3SZ2P/zM14HZmqj5Jqn/n2b1t75T6//vy1Cw6/zJmn/2Az6h7pi5uGpgW8Dm7d//3Uv1rg5kOd0zVCoML5kZDO9/pvfYW3ba3HrPtxb1t79Ztu0fvsSszDDCNOjF14VgyOeAzrn8oWT/go7YBYCk6MjUWM59XZ3je/+NUX0pS/QGXpvorkhpLO6b3uq1T422DWXzWpYIyAw9PXYT1wMydDW9Dx6n6Ncz2qXG+x2X6Eu6Txlkekvo8+u06LcPZAU9O8o7ec4ekLiCbz0L7Te6QmnDgkRnOkDRwYeaubrEyw1pw2hjNtIDPqEl9W/19PS0V6Lr7PPsY3f+47x6YgX80UCenW/Z+nj3y/KoMAxFHZv1BmEt7ty9JnWh3SxUtT8jc8NBvZ24Ktf/agSt6t38+z/3BVUl7dscbuC7VqbHXhLaNLuE1akWqY+XLvTaflfmvIk+S56Q+j3NTy0+dkho4elCqs2ndhGP1i8WfZfi+zkgVUrdLpYSvydywzQ9H9jt4X/umPvvLe21/W+qK9YHRz/uFqeLqC6kpFp/WPT762Q6Os1dqUOsnmdvpNc4fpkI9g/YckMULtox+fttlbrr+2FQx9amsb9xnP+lv6ueppbUOTBXs53b7f3D32LkzHuOY1LTdF6WmaDw0AHDjnJLkD1IDQKPLc+2W4cw3A4NzelLnvtF6aWAhtcXuqVDMD1NXjL07k8/9s9SLA3tm/Tpo9PirU4Hc/mtG3/u0erCvv//rUjXQ6Oun1Y+vTQ3ifSw1RfbxG3B8ANiSXZiqb/ZO9SfsmeFFX/Od4wcB5X1SId9pbpGqbS5J1S2fTvWLLZv0op7R/qo1qTDw4H4y7AsYNdpnMGnb0ePM99jgtQ9I9YOsTvUnHZvZ+mHG9Q/NR20DwFK0JnXOnG8Gn5Xd80ny/lQ4Zc/UOMG61JJSSfVxvCHDvoGfpM6v48asPplarunNqXP7SakZX6b1M0yqYX6auoj82FR/zoeT3HnC+x43zjLoL/pN7/l+f9J8rx3UIy9O9aFcl7q4eqH9Jt9JzdRzQiro894M+2T2TQW6B/u7MFWH9UPQ49o3zYb2bQ2ckrpo7b2pC/Vfk/WDSQPjvntgBgI+MN0HU4nTA1JhhPeMPL9P7/ZtUinZNamT/ymZGx7aPnNn/JkUgJnmssxdv3T71OwqP5zQtsum7HNNqmPkrhm2eeeMP/EvT11FllRY48mppatOyPgrwqa5PrVe6BGpmXRGA1V7Ze6V64P3dWnqKvvdem0fLHU2MPp5/yg1O9Oeqav535JKRY9+toPj/LA7zq4Zv+bowL6pKRCfk/pebpnk3zPbtM0/TRV8A8syPmQ1zrGpNr9+2oY90/6mzk0lq++V+r7PTQW67p+5y8NNcnFq9oPdU0uIvL87DgAs1CWpq54OSS1P0bcmVZv1z2+Dc3pSnT2j9dLAQmqLV3WP3b3b9sjMPfePbj9LvThwedavg/YZ2WZ0/6Pn9n49OFpv3Drr6+9/h1QNNFpPTqsf1yY5LhXe/r0k/ztzrzIDAKa7KHWl+AHd/fnO8TekBkguzdwrxMc5LjXzzwNSdcvg6vub8nJTp6ZmOtonVY+8NbO9n3H9Q/NR2wCwFJ2X6gP5/ZHHt08tFzpYHeLqVBDliamLrU7LsC/i0tR5tN/HcfOsv0xX39+llnK6a+rC4Bdkej/DtBrmo6mLx1emaqi3z/IBjLgsVU/0x9H7/UmTvLJr6w6pcZob029yaupCsMFy9H/TPX5p6nvpf9bbzdi+aeOS0/q2xvlVavWG/VOTAByaugh+3DHn++6BGQj4wHTXp0IIp6au5BldiuHI1AnrFqmp9N6fSsq+O3UyPigV0NgutXTCfNP9LsSpqTXI75laC/OVSc7PcNmFpE6Iu6QKkeelwjeT/CZV7Lw+w6vT98pw6a1R70vyv1IF1Napgafvp1LC45K5s3hX6iq1x2b9qQJ37465TeqK97sk+dfu2B9LLWO2U9ee26dmlxnnCRl+H1elioxfd/u7Y6pAXZ5KfO+f5EPdcT6S6uzZpWvHQ7O+7bv9re7u/1GGHXHTfDv19/KYbv9/kfqON8Ta1FIlD838g4TzmfY3dW6qIPtmagmQwbSK38vwfU5zZCqs9JvUfwaS4RV+ALBQx6RCqD8defzXqeDwK1JLReyb6igZ1Benp+qKvVPn9f4V2AupLXbMcPnXvbJ+58QVqQ6bgQ2pF8/r3s9zUvXJYRkuYzrOaak6YkUqqPRXGb73C1KdKPfsjnvCPK8/JNWRdLMkf52qC0ZnDZpWPx6a4VJe13bvwbkfACa7c2qgZ1AT7JO6WObz3f3Tkvxpkt9KDQ69MtXnc0PqwrRHpgbelqcu3JlvCasdU4NNV6dCvP9nI7yPTW3H1GwB16fqpD+Y8XXj+oeS9es3tQ0AS9E1qXDGG1PjCtuklnp6X2q50P6F2Kemxgke190eeGtqqdDBhVE7p86x49wvFdLZJtWfc33qnDqtn2FSDbNHalxp+1Rg6bos7Dx9ftemF3bte1iq/+a9k140xkL7Te6U6uvaNvXZ/DzD9/LWVF/XIPC9ItVPNIsrUt/tuIzAtL6tcX4ntZzqsu59/Crj66lx3z0wAwEfmM2q1IlpdDaZdI+dnLraZ7vUIFFSgx+HpabjW93df0EW79/dJ5L8ZZIPpAagbp/hGpoDZ6Sm/ftqairCd86w3xelpv77fOok/PFUITGf01MDYSelTvanpYqUF6TCMLcZ87ppPpsqev4tcwNLSRVW+6VSz69I8vjUMlJJFZU3SwVQrkqFreZb4mLgft3+rktd4fW8VFjlylRRdVx3+4Xd/cE0lE9NFScXpaZGfP48+/5makDwvFTxcrfufc3imtRSce9IJa5/miqiN9TVqaT6o1ODctNM+5v6XCpxP5it55upwmvW2XuS+s/BN1Kf+Ru6/V8/8RUAMN13U0tJzue5qXPpfyT5TKrz6R+6596eurLrglTdMToD0IbWFi9Ncu/UufzD8+zvVanAzdVJ/iwbVi/+MnUl3THd649M1Vu/mNCel6c+l68l+Xr3HgezLH47FU7/eGqGvc/M8/pTUx1lP0ldVXXEmONMqh/36+5fl6qL3pIKCQMA461NDXoMBpc+n5oV+Lju+X9I9Ud9OtWPcX2q5knqwrRDum1/kuoTusc8xzgx9X/8Nd3+z9oI72NTe3aqvlmbCjafPuPrxvUPJRWCXpWqv54YtQ0AS9drUv0Tr0v9335wkc8jMrfv4czU+fCKVH/KwL+kZph5b/f6f0+NTYyzU6pf5qrU7MxXdsdOJvczTKphtk7VQJel6qADU/XBhvplKij06O44b0n1EV20gH0lC+s32TZ18faa1Pjj7qnvJ6mxlTNTF6at7fb7gBnb8r7u95WpfqJR0/q2xrl1qt/s2tSSYedmeJHZG1JjeVelZu6Z9N0DwKK4TWqNytE1IAczmLD4Ppn1P9ujM//gEwDAluj81Ox7G8PJWfiSqwAAAAAALDIz+MB0W6eWchikjtn47pdKCE9bUgwAYEtyYOqKqOVJjkqth74UrrYHAAAAAGCK5Zu7AdC47VPTDF6SWlqIjW9VksNT0yGv3cxtAQBoyZ1SS03skFqW7PGpZTUBAAAAAAAAAAAAAAAAAAAAAAAAAAAAAFjPVpvyYAcddNC6s846a1MeEgBgZltttdWCaiM1DgDQMjUOALAULbTGSdQ5AEDbxtU5W2/KRqxZs2ZTHg4AYJNQ4wAAS5EaBwBYqtQ5AMBN0SYN+AAAAAAAAAAAABtGwAcAAAAAAAAAABom4AMAAAAAAAAAAA0T8AEAAAAAAAAAgIYJ+AAAAAAAAAAAQMMEfAAAAAAAAAAAoGECPgAAAAAAAAAA0DABHwAAAAAAAAAAaJiADwAAAAAAAAAANEzABwAAAAAAAAAAGibgAwAAAAAAAAAADRPwAQAAAAAAAACAhgn4AAAAAAAAAABAwwR8AAAAAAAAAACgYQI+AAAAAAAAAADQMAEfAAAAAAAAAABomIAPAAAAAAAAAAA0TMAHAAAAAAAAAAAaJuADAAAAAAAAAAANE/ABAAAAAAAAAICGCfgAAAAAAAAAAEDDBHwAAAAAAAAAAKBhAj4AAAAAAAAAANCw5Zu7AQAAAAAsbd899zmbuwksIbc/8E2buwkAAACwyZnBBwAAAAAAAAAAGibgAwAAAAAAAAAADRPwAQAAAAAAAACAhgn4AAAAAAAAAABAwwR8AAAAAAAAAACgYQI+AAAAAAAAAADQMAEfAAAAAAAAAABomIAPAAAAAAAAAAA0TMAHAAAAAAAAAAAaJuADAAAAAAAAAAANE/ABAAAAAAAAAICGCfgAAAAAAAAAAEDDBHwAAAAAAAAAAKBhAj4AAAAAAAAAANAwAR8AAAAAAAAAAGiYgA8AAAAAAAAAADRMwAcAAAAAAAAAABom4AMAAAAAAAAAAA0T8AEAAAAAAAAAgIYJ+AAAAAAAAAAAQMMEfAAAAAAAAAAAoGECPgAAAAAAAAAA0DABHwAAAAAAAAAAaJiADwAAAAAAAAAANEzABwAAAAAAAAAAGibgAwAAAAAAAAAADRPwAQAAAAAAAACAhgn4AAAAAAAAAABAwwR8AAAAAAAAAACgYRsS8FmW5CtJPtTd3zXJ2Uku7n7vsrhNAwAAAAAAAAAANiTg87wkF/buH5/kE0n2634fv4jtAgAAAAAAAAAAMnvAZ+8kj0nyjt5jhyVZ1d1eleTwRWwXAAAAAAAAAACQ2QM+JyZ5YZLf9B7bI8nl3e3Lk+y+iO0CAAAAAAAAAAAyW8Dn0CQ/TvLlBR7jGUm+lORLq1evXuAuAACao8YBAJYiNQ4AsFSpcwCAm7TlM2zz4CSPTXJIku2S7JTk3UmuSLIyNXvPylQIaD4ndT9ZsWLFuhvZXgCAVqhxAIClSI0DACxV6hwA4CZtlhl8/jzJ3klum+TJST6Z5MgkZyY5qtvmqCRnbIwGAgAAAAAAAADAlmyWgM84r07yu0ku7n6/elFaBAAAAAAAAAAA/LdZlujqO6f7SZIrkzxicZsDAAAAAAAAAAD03ZgZfAAAAAAAAAAAgI1MwAcAAAAAAAAAABom4AMAAAAAAAAAAA0T8AEAAAAAAAAAgIYJ+AAAAAAAAAAAQMMEfAAAAAAAAAAAoGECPgAAAAAAAAAA0DABHwAAAAAAAAAAaJiADwAAAAAAAAAANEzABwAAAAAAAAAAGibgAwAAAAAAAAAADRPwAQAAAAAAAACAhgn4AAAAAAAAAABAwwR8AAAAAAAAAACgYQI+AAAAAAAAAADQMAEfAAAAAAAAAABomIAPAAAAAAAAAAA0TMAHAAAAAAAAAAAaJuADAAAAAAAAAAANE/ABAAAAAAAAAICGCfgAAAAAAAAAAEDDBHwAAAAAAAAAAKBhAj4AAAAAAAAAANAwAR8AAAAAAAAAAGiYgA8AAAAAAAAAADRMwAcAAAAAAAAAABom4AMAAAAAAAAAAA0T8AEAAAAAAAAAgIYt39wNAABg6CsvO2JzN4El5F5/9Z7N3QQAAAAAAGARmMEHAAAAAAAAAAAaJuADAAAAAAAAAAANE/ABAAAAAAAAAICGCfgAAAAAAAAAAEDDBHwAAAAAAAAAAKBhAj4AAAAAAAAAANAwAR8AAAAAAAAAAGiYgA8AAAAAAAAAADRMwAcAAAAAAAAAABom4AMAAAAAAAAAAA0T8AEAAAAAAAAAgIYJ+AAAAAAAAAAAQMMEfAAAAAAAAAAAoGECPgAAAAAAAAAA0DABHwAAAAAAAAAAaJiADwAAAAAAAAAANEzABwAAAAAAAAAAGibgAwAAAAAAAAAADRPwAQAAAAAAAACAhgn4AAAAAAAAAABAwwR8AAAAAAAAAACgYQI+AAAAAAAAAADQMAEfAAAAAAAAAABomIAPAAAAAAAAAAA0TMAHAAAAAAAAAAAaJuADAAAAAAAAAAANE/ABAAAAAAAAAICGCfgAAAAAAAAAAEDDBHwAAAAAAAAAAKBhAj4AAAAAAAAAANAwAR8AAAAAAAAAAGiYgA8AAAAAAAAAADRMwAcAAAAAAAAAABom4AMAAAAAAAAAAA0T8AEAAAAAAAAAgIYJ+AAAAAAAAAAAQMMEfAAAAAAAAAAAoGECPgAAAAAAAAAA0DABHwAAAAAAAAAAaJiADwAAAAAAAAAANEzABwAAAAAAAAAAGibgAwAAAAAAAAAADRPwAQAAAAAAAACAhgn4AAAAAAAAAABAwwR8AAAAAAAAAACgYQI+AAAAAAAAAADQMAEfAAAAAAAAAABomIAPAAAAAAAAAAA0TMAHAAAAAAAAAAAaJuADAAAAAAAAAAANE/ABAAAAAAAAAICGCfgAAAAAAAAAAEDDBHwAAAAAAAAAAKBhAj4AAAAAAAAAANAwAR8AAAAAAAAAAGiYgA8AAAAAAAAAADRMwAcAAAAAAAAAABom4AMAAAAAAAAAAA0T8AEAAAAAAAAAgIYJ+AAAAAAAAAAAQMMEfAAAAAAAAAAAoGECPgAAAAAAAAAA0DABHwAAAAAAAAAAaJiADwAAAAAAAAAANEzABwAAAAAAAAAAGibgAwAAAAAAAAAADRPwAQAAAAAAAACAhgn4AAAAAAAAAABAwwR8AAAAAAAAAACgYQI+AAAAAAAAAADQMAEfAAAAAAAAAABomIAPAAAAAAAAAAA0TMAHAAAAAAAAAAAaJuADAAAAAAAAAAANE/ABAAAAAAAAAICGzRLw2S7JF5JckOQbSV7aPb5rkrOTXNz93mVjNBAAAAAAAAAAALZkswR8fpHk4UnukeSeSQ5O8sAkxyf5RJL9ut/Hb6Q2AgAAAAAAAADAFmuWgM+6JNd1t7fpftYlOSzJqu7xVUkOX/TWAQAAAAAAAADAFm6WgE+SLEvy1SQ/Ti3HdX6SPZJc3j1/eZLdx7z2GUm+lORLq1evXnhLAQDaosYBAJYiNQ4AsFSpcwCAm7RZAz6/Ti3PtXeS+yc5YAOOcVKS+ya574oVKzasdQAA7VLjAABLkRoHAFiq1DkAwE3arAGfgauTnJPk4CRXJFnZPb4yNbsPAAAAAAAAAACwiGYJ+KxIcsvu9s2TPDLJRUnOTHJU9/hRSc5Y9NYBAAAAAAAAAMAWbvkM26xMsirJslQg6PQkH0pyXnf7mCQ/SPKEjdRGAAAAAAAAAADYYs0S8PlaknvN8/iVSR6xuM0BAAAAAAAAAAD6ZlmiCwAAAAAAAAAA2EwEfAAAAAAAAAAAoGECPgAAAAAAAAAA0DABHwAAAAAAAAAAaJiADwAAAAAAAAAANEzABwAAAAAAAAAAGibgAwAAAAAAAAAADRPwAQAAAAAAAACAhgn4AAAAAAAAAABAwwR8AAAAAAAAAACgYQI+AAAAAAAAAADQMAEfAAAAAAAAAABomIAPAAAAAAAAAAA0TMAHAAAAAAAAAAAaJuADAAAAAAAAAAANE/ABAAAAAAAAAICGCfgAAAAAAAAAAEDDBHwAAAAAAAAAAKBhAj4AAAAAAAAAANAwAR8AAAAAAAAAAGiYgA8AAAAAAAAAADRMwAcAAAAAAAAAABom4AMAAAAAAAAAAA0T8AEAAAAAAAAAgIYJ+AAAAAAAAAAAQMMEfAAAAAAAAAAAoGECPgAAAIa55JIAABn9SURBVAAAAAAA0DABHwAAAAAAAAAAaJiADwAAAAAAAAAANEzABwAAAAAAAAAAGibgAwAAAAAAAAAADRPwAQAAAAAAAACAhgn4AAAAAAAAAABAwwR8AAAAAAAAAACgYQI+AAAAAAAAAADQMAEfAAAAAAAAAABomIAPAAAAAAAAAAA0TMAHAAAAAAAAAAAaJuADAAAAAAAAAAANE/ABAAAAAAAAAICGCfgAAAAAAAAAAEDDBHwAAAAAAAAAAKBhAj4AAAAAAAAAANAwAR8AAAAAAAAAAGiYgA8AAAAAAAAAADRMwAcAAAAAAAAAABom4AMAAAAAAAAAAA0T8AEAAAAAAAAAgIYJ+AAAAAAAAAAAQMMEfAAAAAAAAAAAoGECPgAAAAAAAAAA0DABHwAAAAAAAAAAaJiADwAAAAAAAAAANEzABwAAAAAAAAAAGibgAwAAAAAAAAAADRPwAQAAAAAAAACAhgn4AAAAAAAAAABAwwR8AAAAAAAAAACgYQI+AAAAAAAAAADQMAEfAAAAAAAAAABomIAPAAAAAAAAAAA0TMAHAAAAAAAAAAAaJuADAAAAAAAAAAANE/ABAAAAAAAAAICGCfgAAAAAAAAAAEDDBHwAAAAAAAAAAKBhAj4AAAAAAAAAANAwAR8AAAAAAAAAAGiYgA8AAAAAAAAAADRMwAcAAAAAAAAAABom4AMAAAAAAAAAAA0T8AEAAAAAAAAAgIYJ+AAAAAAAAAAAQMMEfAAAAAAAAAAAoGECPgAAAAAAAAAA0DABHwAAAAAAAAAAaJiADwAAAAAAAAAANEzABwAAAAAAAAAAGibgAwAAAAAAAAAADRPwAQAAAAAAAACAhgn4AAAAAAAAAABAwwR8AAAAAAAAAACgYQI+AAAAAAAAAADQMAEfAAAAAAAAAABomIAPAAAAAAAAAAA0TMAHAAAAAAAAAAAaJuADAAAAAAAAAAANE/ABAAAAAAAAAICGCfgAAAAAAAAAAEDDBHwAAAAAAAAAAKBhAj4AAAAAAAAAANAwAR8AAAAAAAAAAGiYgA8AAAAAAAAAADRMwAcAAAAAAAAAABom4AMAAAAAAAAAAA0T8AEAAAAAAAAAgIYJ+AAAAAAAAAAAQMMEfAAAAAAAAAAAoGECPgAAAAAAAAAA0DABHwAAAAAAAAAAaJiADwAAAAAAAAAANEzABwAAAAAAAAAAGibgAwAAAAAAAAAADRPwAQAAAAAAAACAhs0S8NknyaeSXJjkG0me1z2+a5Kzk1zc/d5lYzQQAAAAAAAAAAC2ZLMEfG5IclySuyR5YJI/SbJ/kuOTfCLJft3v4zdSGwEAAAAAAAAAYIs1S8Dn8iT/1t1em5rJZ68khyVZ1T2+Ksnhi946AAAAAAAAAADYwi3fwO1vm+ReSc5Pskcq/JPu9+5jXvOM7ierV69eQBMBAJqkxgEAliI1DgCwVKlzAICbtA0J+OyQ5ANJnp/k2g143UndT1asWLFuA14HANAyNQ4AsBSpcQCApUqdAwDcpM2yRFeSbJMK97wnyT93j12RZGV3e2WSHy9u0wAAAAAAAAAAgFkCPlsleWeSC5P8be/xM5Mc1d0+KskZi9s0AAAAAAAAAABgliW6HpzkqUm+nuSr3WMvTvLqJKcnOSbJD5I8YWM0EAAAAAAAAAAAtmSzBHw+k5rFZz6PWMS2AAAAAAAAAAAAI2ZZogsAAAAAAAAAANhMBHwAAAAAAAAAAKBhAj4AAAAAAAAAANAwAR8AAAAAAAAAAGiYgA8AAAAAAAAAADRMwAcAAAAAAAAAABom4AMAAAAAAAAAAA0T8AEAAAAAAAAAgIYJ+AAAAAAAAAAAQMMEfAAAAAAAAAAAoGECPgAAAAAAAAAA0DABHwAAAAAAAAAAaJiADwAAAAAAAAAANEzABwAAAAAAAAAAGibgAwAAAAAAAAAADRPwAQAAAAAAAACAhgn4AAAAAAAAAABAw5Zv7gYsxLcf/6zN3QSWkDu+/+83dxMAAAAAAAAAAMYygw8AAAAAAAAAADRMwAcAAAAAAAAAABom4AMAAAAAAAAAAA0T8AEAAAAAAAAAgIYJ+AAAAAAAAAAAQMMEfAAAAAAAAAAAoGECPgAAAAAAAAAA0DABHwAAAAAAAAAAaJiADwAAAAAAAAAANEzABwAAAAAAAAAAGibgAwAAAAAAAAAADRPwAQAAAAAAgP9q7/5jLDsLMo5/t7sCxVKkP2iKIlSkKEZQCL9EQAErlRhQCrZWLKghKSJixFhFq+gfFCEhCrYKSEqkAgEUKhUsVksJFii0hRZICyIaIpGiiAIaUPCPc9Ydtzvd2ZnZmXfPfD7J5t575r33vjf7nnOfmzw5BwBgYAo+AAAAAAAAAAAwMAUfAAAAAAAAAAAYmIIPAAAAAAAAAAAMTMEHAAAAAAAAAAAGpuADAAAAAAAAAAADU/ABAAAAAAAAAICBKfgAAAAAAAAAAMDAFHwAAAAAAAAAAGBgCj4AAAAAAAAAADAwBR8AAAAAAAAAABiYgg8AAAAAAAAAAAxMwQcAAAAAAAAAAAam4AMAAAAAAAAAAANT8AEAAAAAAAAAgIEp+AAAAAAAAAAAwMAUfAAAAAAAAAAAYGAKPgAAAAAAAAAAMDAFHwAAAAAAAAAAGJiCDwAAAAAAAAAADEzBBwAAAAAAAAAABqbgAwAAAAAAAAAAA1PwAQAAAAAAAACAgSn4AAAAAAAAAADAwBR8AAAAAAAAAABgYAo+AAAAAAAAAAAwMAUfAAAAAAAAAAAYmIIPAAAAAAAAAAAMTMEHAAAAAAAAAAAGpuADAAAAAAAAAAADU/ABAAAAAAAAAICBKfgAAAAAAAAAAMDAFHwAAAAAAAAAAGBgCj4AAAAAAAAAADAwBR8AAAAAAAAAABiYgg8AAAAAAAAAAAxMwQcAAAAAAAAAAAam4AMAAAAAAAAAAANT8AEAAAAAAAAAgIEp+AAAAAAAAAAAwMAUfAAAAAAAAAAAYGAKPgAAAAAAAAAAMDAFHwAAAAAAAAAAGJiCDwAAAAAAAAAADEzBBwAAAAAAAAAABqbgAwAAAAAAAAAAA1PwAQAAAAAAAACAgSn4AAAAAAAAAADAwBR8AAAAAAAAAABgYAo+AAAAAAAAAAAwMAUfAAAAAAAAAAAYmIIPAAAAAAAAAAAMTMEHAAAAAAAAAAAGpuADAAAAAAAAAAADU/ABAAAAAAAAAICBKfgAAAAAAAAAAMDAFHwAAAAAAAAAAGBgCj4AAAAAAAAAADAwBR8AAAAAAAAAABiYgg8AAAAAAAAAAAxMwQcAAAAAAAAAAAam4AMAAAAAAAAAAANT8AEAAAAAAAAAgIEp+AAAAAAAAAAAwMAUfAAAAAAAAAAAYGAKPgAAAAAAAAAAMDAFHwAAAAAAAAAAGNie7Z4AAAAAAAAAHGnOvOTC7Z4CC/K6s5+53VMAYHDO4AMAAAAAAAAAAANT8AEAAAAAAAAAgIEp+AAAAAAAAAAAwMAUfAAAAAAAAAAAYGAKPgAAAAAAAAAAMDAFHwAAAAAAAAAAGJiCDwAAAAAAAAAADGwtBZ9XVZ+pblyx7bjqHdXH5tu7bP7UAAAAAAAAAACAtRR8Lq4et9+286orqnvPt+dt8rwAAAAAAAAAAIDWVvC5qvrX/bY9oXr1fP/V1RM3c1IAAAAAAAAAAMBkzzqfd1L16fn+p6u73sbYZ8z/uuWWW9b5dgAAw5FxAIAlknEAgKWScwCAI9p6Cz6H4uXzv0488cSvbcH7AQBsBRkHAFgiGQcAWCo5BwA4oq3lEl0H8s/VyfP9k6vPbM50AAAAAAAAAACAldZb8Lm0Ome+f071ls2ZDgAAAAAAAAAAsNJaCj6vra6u7lN9qvrp6oLqB6qPzbcXHK4JAgAAAAAAAADATrZnDWPOWmX7YzZzIgAAAAAAAAAAwK2t9xJdAAAAAAAAAADAFlDwAQAAAAAAAACAgSn4AAAAAAAAAADAwBR8AAAAAAAAAABgYAo+AAAAAAAAAAAwMAUfAAAAAAAAAAAYmIIPAAAAAAAAAAAMTMEHAAAAAAAAAAAGpuADAAAAAAAAAAADU/ABAAAAAAAAAICBKfgAAAAAAAAAAMDAFHwAAAAAAAAAAGBgCj4AAAAAAAAAADAwBR8AAAAAAAAAABiYgg8AAAAAAAAAAAxMwQcAAAAAAAAAAAam4AMAAAAAAAAAAANT8AEAAAAAAAAAgIEp+AAAAAAAAAAAwMAUfAAAAAAAAAAAYGAKPgAAAAAAAAAAMDAFHwAAAAAAAAAAGJiCDwAAAAAAAAAADEzBBwAAAAAAAAAABqbgAwAAAAAAAAAAA1PwAQAAAAAAAACAgSn4AAAAAAAAAADAwBR8AAAAAAAAAABgYAo+AAAAAAAAAAAwMAUfAAAAAAAAAAAYmIIPAAAAAAAAAAAMTMEHAAAAAAAAAAAGpuADAAAAAAAAAAADU/ABAAAAAAAAAICBKfgAAAAAAAAAAMDAFHwAAAAAAAAAAGBgCj4AAAAAAAAAADAwBR8AAAAAAAAAABiYgg8AAAAAAAAAAAxMwQcAAAAAAAAAAAam4AMAAAAAAAAAAANT8AEAAAAAAAAAgIEp+AAAAAAAAAAAwMAUfAAAAAAAAAAAYGAKPgAAAAAAAAAAMDAFHwAAAAAAAAAAGJiCDwAAAAAAAAAADEzBBwAAAAAAAAAABqbgAwAAAAAAAAAAA1PwAQAAAAAAAACAgSn4AAAAAAAAAADAwBR8AAAAAAAAAABgYAo+AAAAAAAAAAAwMAUfAAAAAAAAAAAYmIIPAAAAAAAAAAAMTMEHAAAAAAAAAAAGpuADAAAAAAAAAAADU/ABAAAAAAAAAICBKfgAAAAAAAAAAMDAFHwAAAAAAAAAAGBgCj4AAAAAAAAAADAwBR8AAAAAAAAAABjYnu2eAAAAAAAAAABjOfOSC7d7CizI685+5nZPAY54zuADAAAAAAAAAAADU/ABAAAAAAAAAICBKfgAAAAAAAAAAMDAFHwAAAAAAAAAAGBgCj4AAAAAAAAAADAwBR8AAAAAAAAAABiYgg8AAAAAAAAAAAxMwQcAAAAAAAAAAAam4AMAAAAAAAAAAANT8AEAAAAAAAAAgIHt2e4JALDz3HzGuds9BRbk1DdetN1TAAAAdri/e+eztnsKLMi9HvWy7Z4CAAAwIGfwAQAAAAAAAACAgSn4AAAAAAAAAADAwBR8AAAAAAAAAABgYAo+AAAAAAAAAAAwMAUfAAAAAAAAAAAYmIIPAAAAAAAAAAAMTMEHAAAAAAAAAAAGpuADAAAAAAAAAAADU/ABAAAAAAAAAICBKfgAAAAAAAAAAMDA9mz3BIBbu/mMc7d7CizIqW+8aLunAAD/57rfOnu7p8CCfPf5l2z3FAAAAAAAtoQz+AAAAAAAAAAAwMAUfAAAAAAAAAAAYGAKPgAAAAAAAAAAMDAFHwAAAAAAAAAAGJiCDwAAAAAAAAAADEzBBwAAAAAAAAAABqbgAwAAAAAAAAAAA1PwAQAAAAAAAACAgSn4AAAAAAAAAADAwBR8AAAAAAAAAABgYAo+AAAAAAAAAAAwMAUfAAAAAAAAAAAYmIIPAAAAAAAAAAAMTMEHAAAAAAAAAAAGpuADAAAAAAAAAAADU/ABAAAAAAAAAICBKfgAAAAAAAAAAMDAFHwAAAAAAAAAAGBgCj4AAAAAAAAAADCwjRZ8HlfdVH28Om/j0wEAAAAAAAAAAFbaSMFnd/X71enVfauz5lsAAAAAAAAAAGCTbKTg8+CmM/d8ovpy9brqCZsxKQAAAAAAAAAAYLJrA889o+kSXT8zP35q9ZDqWfuNe8b8r+o+TZf0YmucUH12uycBh5E1ztJZ41vvs035Zi1knO1l/2DprHGWzhrfWjLOkcO+wdJZ4yydNb61DiXjlJyznewbLJ01ztJZ41vvUHPOQT25euWKx0+tXrqZb8CGvX+7JwCHmTXO0lnjsDr7B0tnjbN01jgcmH2DpbPGWTprHA7MvsHSWeMsnTU+iI1coutT1d1XPP6m6p82Nh0AAAAAAAAAAGCljRR8rqnuXZ1S3a46s7p0MyYFAAAAAAAAAABMdm/guV+tPlZdUv1c9ZrqTZsxKTbVB7Z7AnCYWeMsnTUOq7N/sHTWOEtnjcOB2TdYOmucpbPG4cDsGyydNc7SWeMAAAAAAAAAAAAAAAAAAAAAAAAAAAAAAAAAAABUfWGHvS/L87frfN4nqxMOMuZX1/G6T6teto7nwYH8ZvXc7Z7EQaxlX4LtIONwpJNxWDIZB9ZPxuFIJ+OwZDIObIycw5FMxmHp5JwFOmq7J8CqduX/h+X6nsP42usJTQBsHRmHJZNxAHYuGYclk3EAdjY5h6WScYAjji/ksdyz+mh1YXVt9evVNdWHquev8pxfWmXMm6sPVB+unjFv211dXN1Y3VD9wrz9XtXb5/Hvqr5t3n5KdfX8+r+9oU8G/9/edv3J1VXV9U3r8hHz9rOa1uiN1QtXeY0DrfELqqPn17tk3vYT1fvmbX/YtB9UPb26uXpn9fCNfiB2vOdVN1V/Vd1n3rbasfWk6s+qD87/9v6IWG2tXlS9v2mtrzzOX1B9pOn4/+J524nVm5qO29e0b20fX11eXTe/9q6NfVw4ZDIOO4WMw9LIOHDbZBx2ChmHpZFx4ODkHHYCGYclknNgC92z+mr10Oq06uXta0a/tXrkPG7vF85tjTluvj266Yvn+OqB1TtWvN83zLdXVPee7z+k+uv5/qXVT873fzanPGTz7F1Lv9j0RVPTl8OdqrtV/9h04N/TtB6fOI9ZeZq2A63xla9d9e3Vn1dfNz++sGlNn7ziPW5XvTunPWT9HtgU8u9YHVt9vOmUh6sdW19fPWe+v7u6c6uv1dq31ndXV1b3m7fd1L7gs/d4/ifV9873v7npR3jV71Xnz/cfX30tpzxka8k47BQyDksi48DByTjsFDIOSyLjwNrIOewEMg5LI+fsAHu2ewLcyj9U72lqt53W1F6rOqZpx7tqxdjTbmPMs6sfmbfffd5+U/Ut1Uury5raccc0tfHesOJ1bz/fPrx60nz/j1u9nQrrdU31qqYviTc3NUEf3fSlcMs85pKmHwJv3u+5B1rj/7LfmMc0fZldMz8+uvpM05fXyvd4fXXqhj8NO9UjmhrOX5ofX1rdodWPrY9uXxj6n+rz1VM78FqtekpT839PU+C/b1MT+r+qVzYdz986j33s/Pe9jm36MfLI6kfnbZdVn1vPB4UNknHYSWQclkDGgbWRcdhJZByWQMaBtZNz2ClkHJZCztkBFHzG88X5dlf1gqZTU61mtTHf17TTPKxpB76yaef9XHX/6gebGs5PaWrl/Vv1Xau8x9cO+RPA2l3VdCB/fFMof1H172t43mprfH+7qldXv7Lf9idmbbO59l9PR3Xbx9b9rbZWT2lqVz+o6Rh+cdNa/+/qwU0/DM6sntUUxI5q2i/+cw1zhK0m47CTyDgshYwDByfjsJPIOCyFjANrI+ewU8g4LImcs3BHbfcEWNVfVj/V1Fiu+sbqrmscc+emHetLTdfQe+j89xOa/s/f1HS91Ac0fUH9ffXkecyuplBV06ngzpzvn70Jnwn2d4+m1ucrqj9qWpPvrR7VtF53N13j9J37PW+1NV71lfadNu6K6oz27TvHze/53qbgdfw89snB+l3V1NA/uql9/MNNa3O1Y+sV1bnz/d1NreXV1uqxTT+kP990LdTT578f07Qf/EXTD9+9wezypvC0197tV7XvOH56dZd1flbYDDIOO4GMwxLIOHBoZBx2AhmHJZBx4NDJOSydjMNSyDmwxe7ZdH3GvX6+6Tp5N1RXV/eat3/hIGNuX72t+lDT6baubPqCuH91bdOp5a5v3453SvX26oNNp9E6f8X2q5tOwXVermnK5tm7ls5pWvPXVe9qWnNVP960pm+sfmfF8/Ze13S1NV7TqTk/2nS6xKofa1rvH6o+0L6A9fTq5qZA9ru5rikb87ym08pe3nQqz+e2+rH1pOotTWv8+qYGc62+Vi9uWtOXVX9aPa3p1Ifvm8fe0LQv1bR/vH7e/pHqD+btx89zu7Z6SdPpdV3TlK0k47BTyDgsjYwDt03GYaeQcVgaGQcOTs5hJ5BxWCI5BwAAAAAAAAAAAAAAAAAAAAAAAAAAAAAAAAAAAAAAAAAAAAAAAAAAAAAAAAAAAAAAAAAAAAAAAFjFc6o7buI4AIBRyDkAwBLJOADAEsk4AAAH8cnqhE0cBwAwCjkHAFgiGQcAWCIZBwBgha+vLqs+WN1Y/Ub15eqG6m/mMRdV768+XD1/3vbsA4w7rbq6urZ6Q3XM4Z8+AMCq5BwAYIlkHABgiWQcAICDeFL1ihWP79ytm87Hzbe7qyur+82PV447obqqKYBV/XJ1/mGYLwDAWsk5AMASyTgAwBLJOMCQjtruCQCscEP12OqF1SOqzx9gzFOaWs7XVd9R3fcAYx46b393dX11TnWPwzBfAIC1knMAgCWScQCAJZJxgCHt2e4JAKxwc/XA6oeqF1SX7/f3U6rnVg+qPlddXN3hAK+zq3pHddZhmykAwKGRcwCAJZJxAIAlknGAITmDDzCSu1Vfql5Tvbh6QPUf1Z3mvx9bfbGpKX1SdfqK564c957q4dW3zo/vWJ16OCcOAHAQcg4AsEQyDgCwRDIOMCRn8AFG8p3Vi6qvVl+pzq0eVr2t+nT1/U2nOvxw9YmmUxru9fL9xj2tem11+/nvv9bUuAYA2A5yDgCwRDIOALBEMg4AAAAAAAAAAAAAAAAAAAAAAAAAAAAAAAAAAAAAAAAAAAAAAAAAAAAAAAAAAAAAAAAAAAAAAAAAAAAAAAAAAAAAAAAAAAAAAMAW+F/cK767UlZhwgAAAABJRU5ErkJggg==)"
      ],
      "metadata": {
        "id": "i548Cy3mGvID"
      }
    },
    {
      "cell_type": "markdown",
      "source": [
        "요약하면, 위의 분석으로 코로나19 확진자들의 비슷한 행동 패턴을 보인 유형 네 가지를 파악하였습니다. 각 유형을 특징지어지는 특성들에 따라 다음과 같이 명명해보았습니다.\n",
        "\n",
        "1) Hypermobile and hypersocial unknowns\n",
        ": 감염 경로가 파악되지 않은 확진자들로 높은 유동성을 보이고(필수적/부수적 이동을 많이함), 사회 활동 정도도 매우 높으며(다른 사람과의 접촉을 많이함), 증상 발현 후 확진받기까지 오랜 시간이 걸린 것으로 특징지어지는 유형. 분석 대상 중, ‘사망자’가 나타난 유일한 유형.\n",
        "\n",
        "\n",
        "\n",
        "2) Moderate groupies\n",
        ": 집단으로 감염되었으며 다른 유형보다 높은 유동성을 보이지만 Hypermobile unknowns들보다는 적은 수준의 유동성을 보인 유형. 특히 이 유형의 유동성은 부수적 이동에서 두드러짐. 사회 활동 정도 역시 Hypermobile unknowns 들보다는 적지만 나머지 두 유형보다 높은 사회 활동을 하였음. 확진받기까지 보통 수준의 시간이 걸림.\n",
        "\n",
        "\n",
        "\n",
        "3) Social minimalists\n",
        ": 개인적 접촉으로 감염된 확진자들로 위의 두 유형보다 전반적으로 유동성이 낮으며, 이동의 대부분이 필수적 이동이었던 유형. 다른 사람과의 접촉 정도가 적어 낮은 사회 활동 수준을 보임. 확진받기까지 보통 수준의 시간이 걸림.\n",
        "\n",
        "\n",
        "\n",
        "4) Overseas non-essentialists\n",
        ": 해외에서 유입된 확진자들로 다른 유형에 비해 가장 낮은 유동성을 보이지만 Social minimalists들보다 부수적 이동의 수준이 높음. 하지만 다른 사람과의 접촉이 가장 적어 많은 사회 활동은 보이지 않은 유형."
      ],
      "metadata": {
        "id": "120g6EG3GsEq"
      }
    },
    {
      "cell_type": "markdown",
      "source": [
        "4. 코로나19 확진이 늦어지면 사망 위험도 높아질까?\n",
        "\n",
        "위의 분석 결과에 따르면 유동성과 사회성이 가장 높은 유형은 감염 경로가 파악되지 않은 사람들이었습니다. 아마도 이들이 워낙 많은 곳을 돌아다니고 많은 사람들을 만났다보니 감염 경로를 파악하기 어려웠을 것입니다. 이들의 높은 유동성과 사회성은 확진을 빨리 받기도 어렵게 만들었습니다. 이렇게 생각해볼 수 있습니다. 많은 장소에 돌아다니며 많은 사람들을 만난 사람들은 코로나 바이러스에 노출된 장소에 갔었는지, 코로나 바이러스에 감염된 사람을 만났었는지 파악하기 어려웠을 것입니다. 그렇다면 본인이 코로나 바이러스에 노출된 것인지 정확하게 판단할 수 없었을 것이고 진단 검사를 받으러가기가 꺼려졌을 것입니다. 하지만 확진이 늦어지면 전문 치료와 관리도 지연되고 결과적으로 회복 가능성도 낮아질 것입니다.행동 특성을 기반으로 한 확진자들의 유형 중에서 유독 이 유형에서만 사망자가 나타난 것이 이때문은 아니었을까요.\n",
        "\n",
        "물론 확진받기까지 걸린 시간과 사망 위험의 인과관계를 단언할 수는 없습니다. 하지만 PatientInfo 의 전체 표본(isloated, symptom_onset_date 결측치 제외)을 대상으로 사망/회복 별 확진받기까지 걸린 시간을 나타낸 아래 차트를 보면, 사망자들이 회복자들보다 확진받기까지 더 오래 걸린 것을 볼 수 있습니다. 사망자들의 확진 시간은 회복자들보다 평균적으로 2.5일이 더 걸렸습니다."
      ],
      "metadata": {
        "id": "eC1pi-k5Hc9s"
      }
    },
    {
      "cell_type": "code",
      "source": [
        "p = pd.read_csv('/content/drive/MyDrive/colab_data/PatientInfo.csv')\n",
        "p = p[p['state'] != 'isolated']\n",
        "p['symptom_onset_date'] = np.where(p['symptom_onset_date'] == ' ', np.nan, p['symptom_onset_date'])\n",
        "p = p[(p['symptom_onset_date'].notna()) & p['confirmed_date'].notna()]\n",
        "print('number of patients to be plotted:', p.shape)"
      ],
      "metadata": {
        "id": "1UOyWzCcfb7y",
        "colab": {
          "base_uri": "https://localhost:8080/"
        },
        "outputId": "72c70226-0840-469b-d75d-48f3caac0d32"
      },
      "execution_count": 197,
      "outputs": [
        {
          "output_type": "stream",
          "name": "stdout",
          "text": [
            "number of patients to be plotted: (290, 18)\n"
          ]
        }
      ]
    },
    {
      "cell_type": "code",
      "source": [
        "### Define time that lapsed between the onset of COVID-19 symptoms and the official COVID-19 diagnosis\n",
        "\n",
        "def convert_date(x):\n",
        "    '''\n",
        "    The function converts string into pandas date format\n",
        "    '''\n",
        "    x = pd.datetime.strptime(x, '%Y-%m-%d').date()\n",
        "    return x\n",
        "\n",
        "p['symptom_onset_date'] = p['symptom_onset_date'].apply(lambda x : convert_date(x))\n",
        "p['confirmed_date'] = p['confirmed_date'].apply(lambda x: convert_date(x))\n",
        "p['days_notice'] = p['confirmed_date'] - p['symptom_onset_date'] \n",
        "p['hours_notice'] = p['days_notice'].apply(lambda x: round(x.total_seconds()/3600, 2))\n",
        "p['days'] = p['hours_notice'].apply(lambda x: int(x/24))"
      ],
      "metadata": {
        "id": "G60uLgX3fb5h"
      },
      "execution_count": 198,
      "outputs": []
    },
    {
      "cell_type": "code",
      "source": [
        "g = p.groupby(['state']).mean()['days']\n",
        "g = pd.DataFrame(g)\n",
        "\n",
        "plt.figure(figsize= (8,8))\n",
        "\n",
        "ax =sns.barplot(g.index, g['days'], order = ['released', 'deceased'],\n",
        "            palette = {'released': '#FCEAE6', 'deceased': '#AF4BCE'})\n",
        "\n",
        "ax.set_title('Disagnosis time in days of recovered and deceased cases')\n",
        "ax.spines['top'].set_visible(False)\n",
        "ax.spines['right'].set_visible(False)\n",
        "\n",
        "display()"
      ],
      "metadata": {
        "id": "SgBH8YWRfb3E",
        "colab": {
          "base_uri": "https://localhost:8080/",
          "height": 513
        },
        "outputId": "01f09c8e-95a3-4a9b-b3c9-2cac2da627d0"
      },
      "execution_count": 199,
      "outputs": [
        {
          "output_type": "display_data",
          "data": {
            "text/plain": [
              "<Figure size 576x576 with 1 Axes>"
            ],
            "image/png": "[encoded data removed]"
          },
          "metadata": {
            "needs_background": "light"
          }
        }
      ]
    },
    {
      "cell_type": "markdown",
      "source": [
        "5. 결론 및 주요 분석 결과\n",
        "\n",
        "이번 분석은 데이터를 보여주고 설명하는 단순 EDA를 넘어 머신러닝 알고리즘(K-means clustering)을 활용함으로써 코로나19로 인한 사망의 위험 요인을 파악하고 획기적이면서 중요한 결론에 도달하였습니다. 사실 지금까지 유동성이 높은 사람들(집에 있기보다 밖에 많이 돌아다니는 사람들)과 사회적 교류가 많은 사람들은 코로나 바이러스를 전염시킬 위험이 높다고 알려져왔습니다. 하지만 이번 분석 결과는 유동성과 사회성이 높은 사람들이 전염의 위험이 있을 뿐 아니라 이들의 행동적 특성으로 인해 본인 스스로도 코로나19의 위험에 처하게 할 수 있음을 밝혔습니다. 실제로 유동성과 사회성이 높은 유형은 사망자가 나타난 유일한 유형이었습니다.\n",
        "\n",
        "분석 과정 중에 유동성과 사회성이 높은 유형을 다른 유형보다 사망 위험에 놓이게 하는 메카니즘에 대해 생각해보았습니다. 유동성과 사회성이 높은 유형은 코로나19의 확진을 받기까지 가장 오랜 시간이 걸리는 특징을 보였습니다(증상 발현 후 확진받기까지 네 가지 유형 중 가장 오랜 시간이 걸림). 이를 설명하기 위해 설정한 가설은 유동성이 높고 사회성이 높아 여러곳을 나다니며 많은 사람들을 만난 사람들은 본인이 바이러스에 노출된 장소에 갔었는지, 바이러스에 감염된 사람을 만났었는지 파악하기 어려웠을 것이고 따라서 코로나19 진단을 받으러 가야하는지 판단하기도 어려웠다는 것이었습니다. 확진이 늦어지면 회복에 필요한 전문적인 치료와 관리가 충분히 지원되지 못할 수도 있습니다. 물론 데이터가 제한적이기에 인과관계를 단언할 수는 없습니다. 하지만 위의 결과에서 사망자들은 회복자들보다 증상 발현 후 확진받기까지 더 오랜 시간이 걸린 것을 확인할 수 있었습니다.\n",
        "\n"
      ],
      "metadata": {
        "id": "4yP4vU_wH8ZR"
      }
    },
    {
      "cell_type": "markdown",
      "source": [
        "5.1. 위의 분석이 코로나19 와의 전쟁에서 중요한 이유\n",
        "\n",
        "코로나19 팬데믹(pandemic)이 진행된 동안 사회적 거리두기(social distancing)를 실천하지 않고 이곳저곳을 다니며 사회적 활동을 많이 하는 사람들은 코로나 바이러스의 감염 위험될 확률이 높을 것이라고 알려져왔습니다. 하지만 이번 분석 결과는 유동성과 사회성이 높은 사람들이 코로나 바이러스의 전염 위험을 높을 뿐만 아니라 이들의 행동적 특성으로 본인 스스로를 사망의 위험에 처하게 할 수도 있음을 제시합니다. 유동성과 사회성이 높을수록 확진을 늦게 받을 위험이 증가하고, 결과적으로 회복에 필요한 시간을 충분히 확보하지 못하게 될 수 있습니다.\n",
        "\n",
        "제한된 데이너 내에서 늦은 확진과 사망 위험의 인과 관계를 일반화하여 단언할 수는 없습니다 - 특히 연령이 낮고 건강한 사람들은 일반적으로 시간이 지나면 스스로 회복하는 것으로 알려져있고 이들에게 확진 시간이 크게 중요하지 않을 수도 있습니다. 하지만 젊고 건강한 사람들도 본인조차 알지 못했던 기저질환이 있을 수도 있고, 생명을 살리려면 하루빨리 확진을 받고 전문적인 치료를 받아야 하는 상황에 처할 수도 있습니다. 유동성과 사회성이 높은 사람들은 진단 검사를 아예 받지 않거나, 받더라도 이미 너무 늦어버리게 될 위험에 스스로를 처하게 할 수 있습니다. 위의 분석 결과가 많은 곳을 다니고 많은 사람들을 만나는 유동성과 사회성이 높은 사람들이 단순히 다른 사람을 전염시키기 때문에 위험할 뿐 아니라 본인 스스로를 위험에 처하게 할 수 있다는 경고가 되었으면 하는 바람입니다."
      ],
      "metadata": {
        "id": "NQ8fvvo9H9os"
      }
    },
    {
      "cell_type": "code",
      "source": [
        ""
      ],
      "metadata": {
        "id": "jbVuLUkGHrA2"
      },
      "execution_count": null,
      "outputs": []
    },
    {
      "cell_type": "code",
      "source": [
        ""
      ],
      "metadata": {
        "id": "h3-pRBaXHq-J"
      },
      "execution_count": null,
      "outputs": []
    },
    {
      "cell_type": "code",
      "source": [
        ""
      ],
      "metadata": {
        "id": "3Y_-y3zaHq7m"
      },
      "execution_count": null,
      "outputs": []
    }
  ]
}